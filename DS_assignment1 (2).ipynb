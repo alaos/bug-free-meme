{
 "cells": [
  {
   "cell_type": "markdown",
   "metadata": {},
   "source": [
    "## Assignment 1 (Part 2)"
   ]
  },
  {
   "cell_type": "markdown",
   "metadata": {},
   "source": [
    "### Context:\n",
    "\n",
    "The sinking of the Titanic is one of the most infamous shipwrecks in history. The titanic dataset is a record of passengers aboard the Titanic and their fates (whether or not they survived the incident). The principal source for data about Titanic passengers is the Encyclopedia Titanica. The datasets used here were begun by a variety of researchers. One of the original sources is Eaton & Haas (1994) Titanic: Triumph and Tragedy, Patrick Stephens Ltd, which includes a passenger list created by many researchers and edited by Michael A. Findlay.\n",
    "\n",
    "As we explore this data from titanic, lets put our Pandas skills to use and answer some pressing questions regarding the various age groups aboard, their economic statuses and survival rates in each gender. \n",
    "\n",
    "The code to read the data from titanic.csv into titanic_df has already been written for you. Proceed to familiarize yourself with the data and then answer the given questions."
   ]
  },
  {
   "cell_type": "markdown",
   "metadata": {},
   "source": [
    "### Instructions:       \n",
    "\n",
    "- Do not change the provided variable names in any cell. Other than them, you can create as many variables as you like.\n",
    "- You need to write your code in place of ... \n",
    "- Your code may exceed a line and that is okay. Make sure the final variable assignment is done properly though.\n",
    "- Read the answering guidelines carefully. Be careful about what your final answer should contain.  \n",
    "- Some useful functions that you might need for this assignment are groupby(), unique(), copy(), count(), sum(), zip(), list() \n",
    "- Variables named like *_df always store a dataframe.\n",
    "- Use the autograder to verify your code but keep in mind that there are some **hidden test cases** as well. Your code should work for types of testcases. If your code works for the testcases given to you but fails to work for the hidden test cases, no credit will be given for the particular question. Do not hardcode any values. "
   ]
  },
  {
   "cell_type": "code",
   "execution_count": 1,
   "metadata": {},
   "outputs": [],
   "source": [
    "# Initialize Otter\n",
    "import otter\n",
    "grader = otter.Notebook()"
   ]
  },
  {
   "cell_type": "code",
   "execution_count": 2,
   "metadata": {},
   "outputs": [],
   "source": [
    "# Import libraries\n",
    "import pandas as pd\n",
    "import numpy as np\n",
    "import matplotlib"
   ]
  },
  {
   "cell_type": "code",
   "execution_count": 3,
   "metadata": {},
   "outputs": [
    {
     "data": {
      "text/html": [
       "<div>\n",
       "<style scoped>\n",
       "    .dataframe tbody tr th:only-of-type {\n",
       "        vertical-align: middle;\n",
       "    }\n",
       "\n",
       "    .dataframe tbody tr th {\n",
       "        vertical-align: top;\n",
       "    }\n",
       "\n",
       "    .dataframe thead th {\n",
       "        text-align: right;\n",
       "    }\n",
       "</style>\n",
       "<table border=\"1\" class=\"dataframe\">\n",
       "  <thead>\n",
       "    <tr style=\"text-align: right;\">\n",
       "      <th></th>\n",
       "      <th>PassengerId</th>\n",
       "      <th>Pclass</th>\n",
       "      <th>Name</th>\n",
       "      <th>Sex</th>\n",
       "      <th>Age</th>\n",
       "      <th>SibSp</th>\n",
       "      <th>ParCh</th>\n",
       "      <th>Ticket</th>\n",
       "      <th>Fare</th>\n",
       "      <th>Embarked</th>\n",
       "    </tr>\n",
       "  </thead>\n",
       "  <tbody>\n",
       "    <tr>\n",
       "      <th>0</th>\n",
       "      <td>892</td>\n",
       "      <td>3</td>\n",
       "      <td>Kelly, Mr. James</td>\n",
       "      <td>male</td>\n",
       "      <td>34.5</td>\n",
       "      <td>0</td>\n",
       "      <td>0</td>\n",
       "      <td>330911</td>\n",
       "      <td>7.8292</td>\n",
       "      <td>Q</td>\n",
       "    </tr>\n",
       "    <tr>\n",
       "      <th>1</th>\n",
       "      <td>893</td>\n",
       "      <td>3</td>\n",
       "      <td>Wilkes, Mrs. James (Ellen Needs)</td>\n",
       "      <td>female</td>\n",
       "      <td>47.0</td>\n",
       "      <td>1</td>\n",
       "      <td>0</td>\n",
       "      <td>363272</td>\n",
       "      <td>7.0000</td>\n",
       "      <td>S</td>\n",
       "    </tr>\n",
       "    <tr>\n",
       "      <th>2</th>\n",
       "      <td>894</td>\n",
       "      <td>2</td>\n",
       "      <td>Myles, Mr. Thomas Francis</td>\n",
       "      <td>male</td>\n",
       "      <td>62.0</td>\n",
       "      <td>0</td>\n",
       "      <td>0</td>\n",
       "      <td>240276</td>\n",
       "      <td>9.6875</td>\n",
       "      <td>Q</td>\n",
       "    </tr>\n",
       "    <tr>\n",
       "      <th>3</th>\n",
       "      <td>895</td>\n",
       "      <td>3</td>\n",
       "      <td>Wirz, Mr. Albert</td>\n",
       "      <td>male</td>\n",
       "      <td>27.0</td>\n",
       "      <td>0</td>\n",
       "      <td>0</td>\n",
       "      <td>315154</td>\n",
       "      <td>8.6625</td>\n",
       "      <td>S</td>\n",
       "    </tr>\n",
       "    <tr>\n",
       "      <th>4</th>\n",
       "      <td>896</td>\n",
       "      <td>3</td>\n",
       "      <td>Hirvonen, Mrs. Alexander (Helga E Lindqvist)</td>\n",
       "      <td>female</td>\n",
       "      <td>22.0</td>\n",
       "      <td>1</td>\n",
       "      <td>1</td>\n",
       "      <td>3101298</td>\n",
       "      <td>12.2875</td>\n",
       "      <td>S</td>\n",
       "    </tr>\n",
       "  </tbody>\n",
       "</table>\n",
       "</div>"
      ],
      "text/plain": [
       "   PassengerId  Pclass                                          Name     Sex  \\\n",
       "0          892       3                              Kelly, Mr. James    male   \n",
       "1          893       3              Wilkes, Mrs. James (Ellen Needs)  female   \n",
       "2          894       2                     Myles, Mr. Thomas Francis    male   \n",
       "3          895       3                              Wirz, Mr. Albert    male   \n",
       "4          896       3  Hirvonen, Mrs. Alexander (Helga E Lindqvist)  female   \n",
       "\n",
       "    Age  SibSp  ParCh   Ticket     Fare Embarked  \n",
       "0  34.5      0      0   330911   7.8292        Q  \n",
       "1  47.0      1      0   363272   7.0000        S  \n",
       "2  62.0      0      0   240276   9.6875        Q  \n",
       "3  27.0      0      0   315154   8.6625        S  \n",
       "4  22.0      1      1  3101298  12.2875        S  "
      ]
     },
     "execution_count": 3,
     "metadata": {},
     "output_type": "execute_result"
    }
   ],
   "source": [
    "titanic_df = pd.read_csv(\"titanic.csv\")\n",
    "titanic_df.head(5)"
   ]
  },
  {
   "cell_type": "code",
   "execution_count": 4,
   "metadata": {},
   "outputs": [],
   "source": [
    "# Use this cell to familiarize yourself with titanic_df. Analyze the shape, datatypes, rows and columns of the dataframe."
   ]
  },
  {
   "cell_type": "markdown",
   "metadata": {},
   "source": [
    "**Question 1:** As you may have noticed, the above dataframe does not contain the fate of each passenger (i.e., whether he/she survived or not). Read the list of survivors present in survivors.csv and update titanic_df to incorporate a column called 'Survived'. (Hint: Make another dataframe and join/merge it with titanic_df) \n",
    "<br>**Answering Guidelines:** Your answer is the updated titanic_df. You do not need to explicitly assign this to any answer variable.\n",
    "<!--\n",
    "BEGIN QUESTION\n",
    "name: q1\n",
    "points: 5\n",
    "-->"
   ]
  },
  {
   "cell_type": "code",
   "execution_count": 5,
   "metadata": {},
   "outputs": [],
   "source": [
    "# Write code here\n",
    "survivors_df = pd.read_csv(\"survivors.csv\")\n",
    "titanic_df = titanic_df.merge(survivors_df)"
   ]
  },
  {
   "cell_type": "code",
   "execution_count": 6,
   "metadata": {},
   "outputs": [
    {
     "data": {
      "text/html": [
       "<p><strong><pre style='display: inline;'>q1</pre></strong> passed!</p>"
      ],
      "text/plain": [
       "q1 results: All test cases passed!"
      ]
     },
     "execution_count": 6,
     "metadata": {},
     "output_type": "execute_result"
    }
   ],
   "source": [
    "grader.check(\"q1\")"
   ]
  },
  {
   "cell_type": "markdown",
   "metadata": {},
   "source": [
    "**Question 2:** Set the index of titanic_df to *PassengerId*.  \n",
    "**Answering Guidelines:** Your answer is the updated titanic_df. You do not need to explicitly assign this to any answer variable.\n",
    "<!--\n",
    "BEGIN QUESTION\n",
    "name: q2\n",
    "points: 3\n",
    "-->"
   ]
  },
  {
   "cell_type": "code",
   "execution_count": 7,
   "metadata": {},
   "outputs": [],
   "source": [
    "# Write code here\n",
    "titanic_df = titanic_df.set_index('PassengerId')"
   ]
  },
  {
   "cell_type": "code",
   "execution_count": 8,
   "metadata": {},
   "outputs": [
    {
     "data": {
      "text/html": [
       "<p><strong><pre style='display: inline;'>q2</pre></strong> passed!</p>"
      ],
      "text/plain": [
       "q2 results: All test cases passed!"
      ]
     },
     "execution_count": 8,
     "metadata": {},
     "output_type": "execute_result"
    }
   ],
   "source": [
    "grader.check(\"q2\")"
   ]
  },
  {
   "cell_type": "markdown",
   "metadata": {},
   "source": [
    "**Question 3:** Use the describe() function to calculate the median age of the passengers.  \n",
    "**Answering Guidelines:** Your answer is a float variable that needs to be assigned to answer3.\n",
    "<!--\n",
    "BEGIN QUESTION\n",
    "name: q3\n",
    "points: 3\n",
    "-->"
   ]
  },
  {
   "cell_type": "code",
   "execution_count": 9,
   "metadata": {},
   "outputs": [],
   "source": [
    "answer3 = titanic_df.describe().loc['50%','Age']"
   ]
  },
  {
   "cell_type": "code",
   "execution_count": 10,
   "metadata": {},
   "outputs": [
    {
     "data": {
      "text/html": [
       "<p><strong><pre style='display: inline;'>q3</pre></strong> passed!</p>"
      ],
      "text/plain": [
       "q3 results: All test cases passed!"
      ]
     },
     "execution_count": 10,
     "metadata": {},
     "output_type": "execute_result"
    }
   ],
   "source": [
    "grader.check(\"q3\")"
   ]
  },
  {
   "cell_type": "markdown",
   "metadata": {},
   "source": [
    "**Question 4:** Is the median age of passengers who survived higher than the median age of those who were not able to survive? \n",
    "<br>**Answering Guidelines:** You answer should be a string 'Yes' or 'No' stored in answer4.\n",
    "<!--\n",
    "BEGIN QUESTION\n",
    "name: q4\n",
    "points: 3\n",
    "-->"
   ]
  },
  {
   "cell_type": "code",
   "execution_count": 11,
   "metadata": {},
   "outputs": [],
   "source": [
    "answer4 = ...\n",
    "#titanic_df.query('Survived == 0').describe()\n",
    "answer4 = titanic_df.query('Survived == 1').describe().loc['50%','Age'] > titanic_df.query('Survived == 0').describe().loc['50%','Age']\n",
    "if answer4 == False:\n",
    "    answer4 = 'No'\n",
    "else:\n",
    "    answer4 = 'Yes'\n"
   ]
  },
  {
   "cell_type": "code",
   "execution_count": 12,
   "metadata": {},
   "outputs": [
    {
     "data": {
      "text/html": [
       "<p><strong><pre style='display: inline;'>q4</pre></strong> passed!</p>"
      ],
      "text/plain": [
       "q4 results: All test cases passed!"
      ]
     },
     "execution_count": 12,
     "metadata": {},
     "output_type": "execute_result"
    }
   ],
   "source": [
    "grader.check(\"q4\")"
   ]
  },
  {
   "cell_type": "markdown",
   "metadata": {},
   "source": [
    "**Question 5:** What do the SibSp and ParCh column in the dataset mean? (Hint: build a dataframe titanic_columns using the 2 series in the cell below to find the answer)\n",
    "<br>**Answering Guidelines:** Your answer must be in a string format and should be assigned to answer5_SibSp and answer5_Parch respectively.\n",
    "<!--\n",
    "BEGIN QUESTION\n",
    "name: q5\n",
    "points: 3\n",
    "-->"
   ]
  },
  {
   "cell_type": "code",
   "execution_count": 38,
   "metadata": {},
   "outputs": [],
   "source": [
    "definition = pd.Series([\"Unique ID for each passenger\", \"Did the passenger survive? (0 = No; 1 = Yes)\",\"Class  (1 = 1st; 2 = 2nd; 3 = 3rd)\",\"Name of the passenger\",\"Sex of the passenger\",     \"Age of the passenger\" ,\"Number of Siblings/Spouses Aboard\",\"Number of Parents/Children Aboard\",\"Ticket Number\",\"Passenger Fare (British pound)\",\"Port of Embarkation (C = Cherbourg; Q = Queenstown; S = Southampton)\"])\n",
    "variables = pd.Series(['PassengerId','Survived', 'Pclass', 'Name', 'Sex', 'Age', 'SibSp', 'ParCh', 'Ticket', 'Fare','Embarked' ])\n",
    "\n",
    "titanic_columns = { 'variables': variables, 'definition': definition}\n",
    "titanic_columns = pd.DataFrame(titanic_columns)\n",
    "\n",
    "answer5_SibSp = titanic_columns[titanic_columns['variables'] == 'SibSp'].iloc[0,1]\n",
    "answer5_ParCh = titanic_columns[titanic_columns['variables'] == 'ParCh'].iloc[0,1]"
   ]
  },
  {
   "cell_type": "code",
   "execution_count": 39,
   "metadata": {},
   "outputs": [
    {
     "data": {
      "text/html": [
       "<p><strong><pre style='display: inline;'>q5</pre></strong> passed!</p>"
      ],
      "text/plain": [
       "q5 results: All test cases passed!"
      ]
     },
     "execution_count": 39,
     "metadata": {},
     "output_type": "execute_result"
    }
   ],
   "source": [
    "grader.check(\"q5\")"
   ]
  },
  {
   "cell_type": "markdown",
   "metadata": {},
   "source": [
    "**Question 6:** What percent of the people aboard survived? Visualize the counts using a simple bar graph.\n",
    "<br>**Answering Guidelines:** Your answers should be rounded off to 2 decimal places and should be assigned to answer6.\n",
    "<!--\n",
    "BEGIN QUESTION\n",
    "name: q6\n",
    "points: 3\n",
    "-->"
   ]
  },
  {
   "cell_type": "code",
   "execution_count": 15,
   "metadata": {},
   "outputs": [
    {
     "data": {
      "image/png": "[encoded data removed]",
      "text/plain": [
       "<Figure size 432x288 with 1 Axes>"
      ]
     },
     "metadata": {
      "needs_background": "light"
     },
     "output_type": "display_data"
    }
   ],
   "source": [
    "titanic_cnts = titanic_df['Survived'].value_counts()\n",
    "total = titanic_cnts.sum()\n",
    "survived = titanic_df[titanic_df['Survived']==1].value_counts().sum()\n",
    "not_surv = total - survived \n",
    "\n",
    "df = pd.DataFrame({'People Survived/Not-Survived':['Survived', 'Not-Survived'], 'No_of_people':[survived, not_surv]})\n",
    "ax = df.plot.bar(x='People Survived/Not-Survived', y='No_of_people', rot=0)\n",
    "\n",
    "###################################bar graph missing################################\n",
    "#print(titanic_cnts)\n",
    "#print(total)\n",
    "#print(survived)\n",
    "\n",
    "###################another way of doing this question#####################\n",
    "#tit = titanic_df.describe().loc['mean','Survived']\n",
    "#tit = tit*100\n",
    "#print(tit.round(decimals = 2))\n",
    "num = (survived*100/total)\n",
    "answer6 = (num.round(decimals = 2)) \n",
    "\n"
   ]
  },
  {
   "cell_type": "code",
   "execution_count": 16,
   "metadata": {},
   "outputs": [
    {
     "data": {
      "text/html": [
       "<p><strong><pre style='display: inline;'>q6</pre></strong> passed!</p>"
      ],
      "text/plain": [
       "q6 results: All test cases passed!"
      ]
     },
     "execution_count": 16,
     "metadata": {},
     "output_type": "execute_result"
    }
   ],
   "source": [
    "grader.check(\"q6\")"
   ]
  },
  {
   "cell_type": "markdown",
   "metadata": {},
   "source": [
    "**Question 7:**  What percent of the people who could not survive were women? Similarly, What percent of them were adults?\n",
    "<br>**Answering Guidelines:** Your answers should be rounded off to 2 decimal places and should be assigned to answer7_female and answer7_adult. \n",
    "<!--\n",
    "BEGIN QUESTION\n",
    "name: q7\n",
    "points: 3\n",
    "-->"
   ]
  },
  {
   "cell_type": "code",
   "execution_count": 17,
   "metadata": {},
   "outputs": [],
   "source": [
    "not_survived = titanic_df[(titanic_df['Survived']==0) & (titanic_df['Sex'] == 'female')].value_counts().sum()\n",
    "#not_survived\n",
    "#print(not_survived)\n",
    "total = titanic_df[titanic_df['Survived']==0].value_counts().sum()\n",
    "not_w = ((not_survived*100)/total).round(decimals = 2)\n",
    "adult = titanic_df[(titanic_df['Survived']==0) & (titanic_df['Age'] >= 18)].value_counts().sum()\n",
    "not_a = ((adult*100)/total).round(decimals = 2)\n",
    "#print(not_a)\n",
    "#print(not_w)\n",
    "answer7_adult = not_a \n",
    "answer7_female = not_w"
   ]
  },
  {
   "cell_type": "code",
   "execution_count": 18,
   "metadata": {},
   "outputs": [
    {
     "data": {
      "text/html": [
       "<p><strong><pre style='display: inline;'>q7</pre></strong> passed!</p>"
      ],
      "text/plain": [
       "q7 results: All test cases passed!"
      ]
     },
     "execution_count": 18,
     "metadata": {},
     "output_type": "execute_result"
    }
   ],
   "source": [
    "grader.check(\"q7\")"
   ]
  },
  {
   "cell_type": "markdown",
   "metadata": {},
   "source": [
    "**Question 8:** What was the most preferred class by the passengers? Did this passenger class have the highest number of deaths as well? (Hint: Use groupby object)\n",
    "<br>**Answering Guidelines:** Your answers should be strings '1'/'2'/'3' and 'Yes'/'No') stored in answer8_pclass and answer8_moredeaths respectively.\n",
    "<!--\n",
    "BEGIN QUESTION\n",
    "name: q8\n",
    "points: 3\n",
    "-->"
   ]
  },
  {
   "cell_type": "code",
   "execution_count": 19,
   "metadata": {},
   "outputs": [],
   "source": [
    "p_class = titanic_df.groupby('Pclass').size()\n",
    "max_value = p_class.idxmax()\n",
    "max_value = str(max_value)\n",
    "#print(max_value)\n",
    "\n",
    "not_survived = titanic_df[titanic_df['Survived']==0]\n",
    "max_deaths = not_survived.groupby(['Pclass']).size()\n",
    "highest_deaths = max_deaths.idxmax()\n",
    "highest_deaths = str(highest_deaths)\n",
    "if highest_deaths == max_value:\n",
    "    answer8_moredeaths = 'Yes'\n",
    "else:\n",
    "    answer8_moredeaths = 'No'\n",
    "    \n",
    "#print(highest_deaths)\n",
    "\n",
    "answer8_pclass = max_value\n",
    "#answer8_moredeaths = ..."
   ]
  },
  {
   "cell_type": "code",
   "execution_count": 20,
   "metadata": {},
   "outputs": [
    {
     "data": {
      "text/html": [
       "<p><strong><pre style='display: inline;'>q8</pre></strong> passed!</p>"
      ],
      "text/plain": [
       "q8 results: All test cases passed!"
      ]
     },
     "execution_count": 20,
     "metadata": {},
     "output_type": "execute_result"
    }
   ],
   "source": [
    "grader.check(\"q8\")"
   ]
  },
  {
   "cell_type": "markdown",
   "metadata": {},
   "source": [
    "**Question 9:** Using a pivot table, represent the number of male and female passengers in each of the three passenger classes.\n",
    "<br>**Answering Guidelines:** Your answer is a pivot table stored in q9_pivot \n",
    "<!--\n",
    "BEGIN QUESTION\n",
    "name: q9\n",
    "points: 3\n",
    "-->"
   ]
  },
  {
   "cell_type": "code",
   "execution_count": 21,
   "metadata": {},
   "outputs": [],
   "source": [
    "passengers_pivot = titanic_df.pivot_table(\n",
    "    index = 'Pclass',\n",
    "    columns = 'Sex',\n",
    "    values = 'Age',\n",
    "    aggfunc = 'count',\n",
    ")\n",
    "#print(passengers_pivot)\n",
    "\n",
    "q9_pivot = passengers_pivot"
   ]
  },
  {
   "cell_type": "code",
   "execution_count": 22,
   "metadata": {},
   "outputs": [
    {
     "data": {
      "text/html": [
       "<p><strong><pre style='display: inline;'>q9</pre></strong> passed!</p>"
      ],
      "text/plain": [
       "q9 results: All test cases passed!"
      ]
     },
     "execution_count": 22,
     "metadata": {},
     "output_type": "execute_result"
    }
   ],
   "source": [
    "grader.check(\"q9\")"
   ]
  },
  {
   "cell_type": "markdown",
   "metadata": {},
   "source": [
    "**Question 10:** Similarly, using a pivot table, represent the mean age of male and female passengers in each of the three passenger classes.\n",
    "<br>**Answering Guidelines:** Your answer is a pivot table stored in q10_pivot \n",
    "<!--\n",
    "BEGIN QUESTION\n",
    "name: q9\n",
    "points: 5\n",
    "-->"
   ]
  },
  {
   "cell_type": "code",
   "execution_count": 23,
   "metadata": {},
   "outputs": [],
   "source": [
    "passengers_pivot = titanic_df.pivot_table(\n",
    "    index = 'Pclass',\n",
    "    columns = 'Sex',\n",
    "    values = 'Age',\n",
    "    aggfunc = 'mean',\n",
    ")\n",
    "q10_pivot = passengers_pivot"
   ]
  },
  {
   "cell_type": "code",
   "execution_count": 24,
   "metadata": {},
   "outputs": [
    {
     "data": {
      "text/html": [
       "<p><strong><pre style='display: inline;'>q10</pre></strong> passed!</p>"
      ],
      "text/plain": [
       "q10 results: All test cases passed!"
      ]
     },
     "execution_count": 24,
     "metadata": {},
     "output_type": "execute_result"
    }
   ],
   "source": [
    "grader.check(\"q10\")"
   ]
  },
  {
   "cell_type": "markdown",
   "metadata": {},
   "source": [
    "**Question 11:** Which class had the lowest age to fare ratio? (Hint: Simply find the age to fare ratio for each passenger and locate which class contains the value with minimum ratio.)\n",
    "<br>**Answering Guidelines:** Your answer should be a string ('1'/'2'/'3') stored in answer11 \n",
    "<!--\n",
    "BEGIN QUESTION\n",
    "name: q11\n",
    "points: 5\n",
    "-->"
   ]
  },
  {
   "cell_type": "code",
   "execution_count": 25,
   "metadata": {},
   "outputs": [],
   "source": [
    "titanic_df[\"ratio\"] = (titanic_df[\"Age\"] / titanic_df[\"Fare\"])\n",
    "\n",
    "#print(titanic_df.sort_values('ratio').head(1).loc[:,'Pclass'])\n",
    "#titanic_df.sort_values('ratio').head(1).loc[:, ['Pclass']]\n",
    "\n",
    "new = titanic_df.set_index('Pclass')\n",
    "lowest_ratio = new[\"ratio\"].idxmin()\n",
    "lowest_ratio_idx = str(lowest_ratio)\n",
    "#print(lowest_ratio)\n",
    "#clas = titanic_df.loc[lowest_ratio, ['Pclass']]\n",
    "#print(str(clas))\n",
    "#print(titanic_df)\n",
    "answer11 = lowest_ratio_idx"
   ]
  },
  {
   "cell_type": "code",
   "execution_count": 26,
   "metadata": {},
   "outputs": [
    {
     "data": {
      "text/html": [
       "<p><strong><pre style='display: inline;'>q11</pre></strong> passed!</p>"
      ],
      "text/plain": [
       "q11 results: All test cases passed!"
      ]
     },
     "execution_count": 26,
     "metadata": {},
     "output_type": "execute_result"
    }
   ],
   "source": [
    "grader.check(\"q11\")"
   ]
  },
  {
   "cell_type": "markdown",
   "metadata": {},
   "source": [
    "**Question 12:** Just a check point to let you know that you are doing greattt! :)\n",
    "<br>**Answering Guidelines:** Have a small break if you want. "
   ]
  },
  {
   "cell_type": "markdown",
   "metadata": {},
   "source": [
    "**Question 13:** Replace the initials in the Embarked column with the exact port names. For the exact names, use the titanic_columns dataframe created earlier.\n",
    "<br>**Answering Guidelines:** Your answer is the updated titanic_df. You do not need to explicitly assign this to any answer variable.\n",
    "<!--\n",
    "BEGIN QUESTION\n",
    "name: q13\n",
    "points: 3\n",
    "-->"
   ]
  },
  {
   "cell_type": "code",
   "execution_count": 27,
   "metadata": {},
   "outputs": [],
   "source": [
    "# Your code here\n",
    "\n",
    "titanic_df['Embarked'].replace({\"Q\": \"Queenstown\", \"C\": \"Cherbourg\", 'S': 'Southampton'}, inplace=True)\n",
    "\n",
    "# titanic_df"
   ]
  },
  {
   "cell_type": "code",
   "execution_count": 28,
   "metadata": {},
   "outputs": [
    {
     "data": {
      "text/html": [
       "<p><strong><pre style='display: inline;'>q13</pre></strong> passed!</p>"
      ],
      "text/plain": [
       "q13 results: All test cases passed!"
      ]
     },
     "execution_count": 28,
     "metadata": {},
     "output_type": "execute_result"
    }
   ],
   "source": [
    "grader.check(\"q13\")"
   ]
  },
  {
   "cell_type": "markdown",
   "metadata": {},
   "source": [
    "**Question 14:** Did the passengers who embarked on Cherbourg and travelled 3rd class have a higher survival rate than the passengers who embarked on Southampton and travelled first class?\n",
    "<br>**Answering Guidelines:** Your answer should be a string ('Yes'/'No') stored in answer14\n",
    "<!--\n",
    "BEGIN QUESTION\n",
    "name: q14\n",
    "points: 3\n",
    "-->"
   ]
  },
  {
   "cell_type": "code",
   "execution_count": 29,
   "metadata": {},
   "outputs": [],
   "source": [
    "#print(titanic_df)\n",
    "tit = titanic_df[(titanic_df['Embarked']=='Cherbourg') & (titanic_df['Pclass']==3)]\n",
    "south_1 = titanic_df[(titanic_df['Embarked']=='Southampton') & (titanic_df['Pclass']==1)]\n",
    "surv = tit[tit['Survived']==1].value_counts().sum()\n",
    "total_surv = tit['Survived'].value_counts().sum()\n",
    "des = tit.describe()\n",
    "des_S1 = south_1.describe()\n",
    "surv_S = south_1[south_1['Survived']==1].value_counts().sum()\n",
    "total_surv_S = south_1['Survived'].value_counts().sum()\n",
    "# print(surv)\n",
    "# print(total_surv)\n",
    "# print(surv_S,total_surv_S)\n",
    "if (surv/total_surv) > (surv_S/total_surv_S):\n",
    "    answer14 = 'Yes'\n",
    "else:\n",
    "    answer14 = 'No'"
   ]
  },
  {
   "cell_type": "code",
   "execution_count": 30,
   "metadata": {},
   "outputs": [
    {
     "data": {
      "text/html": [
       "<p><strong><pre style='display: inline;'>q14</pre></strong> passed!</p>"
      ],
      "text/plain": [
       "q14 results: All test cases passed!"
      ]
     },
     "execution_count": 30,
     "metadata": {},
     "output_type": "execute_result"
    }
   ],
   "source": [
    "grader.check(\"q14\")"
   ]
  },
  {
   "cell_type": "markdown",
   "metadata": {},
   "source": [
    "**Question 15:** How many passengers who were unable to survive had atleast 3 more family members (excluding them) aboard?\n",
    "<br>**Answering Guidelines:** Your answer is a whole number stored in answer15\n",
    "<!--\n",
    "BEGIN QUESTION\n",
    "name: q15\n",
    "points: 5\n",
    "-->"
   ]
  },
  {
   "cell_type": "code",
   "execution_count": 31,
   "metadata": {},
   "outputs": [],
   "source": [
    "not_surv = titanic_df[titanic_df['Survived']==0]\n",
    "family_total = not_surv[(not_surv['SibSp'] + not_surv['ParCh']) >= 3].value_counts().sum()\n",
    "\n",
    "answer15 = family_total"
   ]
  },
  {
   "cell_type": "code",
   "execution_count": 32,
   "metadata": {},
   "outputs": [
    {
     "data": {
      "text/html": [
       "<p><strong><pre style='display: inline;'>q15</pre></strong> passed!</p>"
      ],
      "text/plain": [
       "q15 results: All test cases passed!"
      ]
     },
     "execution_count": 32,
     "metadata": {},
     "output_type": "execute_result"
    }
   ],
   "source": [
    "grader.check(\"q15\")"
   ]
  },
  {
   "cell_type": "markdown",
   "metadata": {},
   "source": [
    "To double-check your work, please run the following cell."
   ]
  },
  {
   "cell_type": "code",
   "execution_count": 33,
   "metadata": {},
   "outputs": [
    {
     "data": {
      "text/plain": [
       "q1 results: All test cases passed!\n",
       "\n",
       "q10 results: All test cases passed!\n",
       "\n",
       "q11 results: All test cases passed!\n",
       "\n",
       "q13 results: All test cases passed!\n",
       "\n",
       "q14 results: All test cases passed!\n",
       "\n",
       "q15 results: All test cases passed!\n",
       "\n",
       "q2 results: All test cases passed!\n",
       "\n",
       "q3 results: All test cases passed!\n",
       "\n",
       "q4 results: All test cases passed!\n",
       "\n",
       "q5 results: All test cases passed!\n",
       "\n",
       "q6 results: All test cases passed!\n",
       "\n",
       "q7 results: All test cases passed!\n",
       "\n",
       "q8 results: All test cases passed!\n",
       "\n",
       "q9 results: All test cases passed!"
      ]
     },
     "execution_count": 33,
     "metadata": {},
     "output_type": "execute_result"
    }
   ],
   "source": [
    "grader.check_all()"
   ]
  }
 ],
 "metadata": {
  "kernelspec": {
   "display_name": "Python 3",
   "language": "python",
   "name": "python3"
  },
  "language_info": {
   "codemirror_mode": {
    "name": "ipython",
    "version": 3
   },
   "file_extension": ".py",
   "mimetype": "text/x-python",
   "name": "python",
   "nbconvert_exporter": "python",
   "pygments_lexer": "ipython3",
   "version": "3.8.8"
  }
 },
 "nbformat": 4,
 "nbformat_minor": 4
}
