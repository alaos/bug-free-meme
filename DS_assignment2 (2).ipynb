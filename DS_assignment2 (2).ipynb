{
 "cells": [
  {
   "cell_type": "markdown",
   "metadata": {
    "id": "MvS895Mmqy61"
   },
   "source": [
    "# **Assignment 2 Part 2**"
   ]
  },
  {
   "cell_type": "markdown",
   "metadata": {
    "id": "MvS895Mmqy61"
   },
   "source": [
    "### Assignment Instructions"
   ]
  },
  {
   "cell_type": "markdown",
   "metadata": {
    "id": "MvS895Mmqy61"
   },
   "source": [
    "* **How to install 'otter'**: Run `pip install otter-grader` in your Anaconda Command Prompt\n",
    "* **Otter**: It is an autograder that we will be using for grading your notebooks.\n",
    "* **grader.check('qn')**: This command runs test cases for nth question `qn` provided to you and displays the result. But these are not the only test cases, these are provided just for your basic testing. There will be some *hidden test cases* on which your answers will be tested as well.\n",
    "* You are **not** allowed to edit any pre-defined variables and as per the instructions for every question you have to assign your answers to these variables.\n",
    "* Write your answers in place of `...` and `pass`\n",
    "* Hardcoded answers will get `zero` marks"
   ]
  },
  {
   "cell_type": "markdown",
   "metadata": {
    "id": "MvS895Mmqy61"
   },
   "source": [
    "### Submission Instructions"
   ]
  },
  {
   "cell_type": "markdown",
   "metadata": {
    "id": "MvS895Mmqy61"
   },
   "source": [
    "* There are two parts of this assignment. You should name both notebooks as **YourRollNumber_PartNumber.ipynb**. (e.g. this part should be named as *`2XXXXXXX_2.ipynb`*)\n",
    "* You must submit a zip file containg just two notebooks and it must not has any folder or any other file. \n",
    "* The name of the zip file must be your `Roll Number`"
   ]
  },
  {
   "cell_type": "code",
   "execution_count": 756,
   "metadata": {
    "id": "bMSrIYtXeHEV"
   },
   "outputs": [],
   "source": [
    "import pandas as pd\n",
    "import numpy as np\n",
    "import matplotlib.pyplot as plt\n",
    "from matplotlib import pyplot\n",
    "import seaborn as sns\n",
    "from statsmodels.graphics.gofplots import qqplot"
   ]
  },
  {
   "cell_type": "code",
   "execution_count": 757,
   "metadata": {},
   "outputs": [],
   "source": [
    "import otter\n",
    "grader = otter.Notebook()"
   ]
  },
  {
   "cell_type": "code",
   "execution_count": 758,
   "metadata": {
    "id": "fXq31mqYefUc"
   },
   "outputs": [],
   "source": [
    "# Do not change this cell\n",
    "\n",
    "df_2019 = pd.read_csv('2019.csv', encoding='latin-1')\n",
    "df_2020 = pd.read_csv('2020.csv', encoding='latin-1')\n",
    "df_2021 = pd.read_csv('2021.csv', encoding='latin-1')"
   ]
  },
  {
   "cell_type": "code",
   "execution_count": 759,
   "metadata": {
    "id": "w7pCCL8zYruv"
   },
   "outputs": [],
   "source": [
    "# Standardizing the column names\n",
    "df_2019.columns = df_2019.columns.str.lower()\n",
    "df_2020.columns = df_2019.columns.str.lower()\n",
    "df_2021.columns = df_2019.columns.str.lower()\n",
    "\n",
    "# Restructuring the column indexes\n",
    "df_2019 = df_2019[['rank', 'university', 'region', 'academic reputation', 'employer reputation', 'faculty student', 'international faculty','international students', 'citations per faculty', 'overall score'] ]\n",
    "df_2020 = df_2020[['rank', 'university', 'region', 'academic reputation', 'employer reputation', 'faculty student', 'international faculty','international students', 'citations per faculty', 'overall score'] ]\n",
    "df_2021 = df_2021[['rank', 'university', 'region', 'academic reputation', 'employer reputation', 'faculty student', 'international faculty','international students', 'citations per faculty', 'overall score'] ]\n"
   ]
  },
  {
   "cell_type": "markdown",
   "metadata": {
    "id": "qfK7Ki5CrhY9"
   },
   "source": [
    "Let's check a few rows from each dataframe"
   ]
  },
  {
   "cell_type": "code",
   "execution_count": 760,
   "metadata": {
    "colab": {
     "base_uri": "https://localhost:8080/",
     "height": 231
    },
    "id": "PFsayuqqVI5_",
    "outputId": "d5dd794b-5df3-4c9d-c88c-52d46ff5566b"
   },
   "outputs": [
    {
     "data": {
      "text/html": [
       "<div>\n",
       "<style scoped>\n",
       "    .dataframe tbody tr th:only-of-type {\n",
       "        vertical-align: middle;\n",
       "    }\n",
       "\n",
       "    .dataframe tbody tr th {\n",
       "        vertical-align: top;\n",
       "    }\n",
       "\n",
       "    .dataframe thead th {\n",
       "        text-align: right;\n",
       "    }\n",
       "</style>\n",
       "<table border=\"1\" class=\"dataframe\">\n",
       "  <thead>\n",
       "    <tr style=\"text-align: right;\">\n",
       "      <th></th>\n",
       "      <th>rank</th>\n",
       "      <th>university</th>\n",
       "      <th>region</th>\n",
       "      <th>academic reputation</th>\n",
       "      <th>employer reputation</th>\n",
       "      <th>faculty student</th>\n",
       "      <th>international faculty</th>\n",
       "      <th>international students</th>\n",
       "      <th>citations per faculty</th>\n",
       "      <th>overall score</th>\n",
       "    </tr>\n",
       "  </thead>\n",
       "  <tbody>\n",
       "    <tr>\n",
       "      <th>62</th>\n",
       "      <td>63</td>\n",
       "      <td>University of Texas at Austin</td>\n",
       "      <td>USA</td>\n",
       "      <td>93.8</td>\n",
       "      <td>78.1</td>\n",
       "      <td>14.7</td>\n",
       "      <td>7.3</td>\n",
       "      <td>20.4</td>\n",
       "      <td>94.1</td>\n",
       "      <td>68.7</td>\n",
       "    </tr>\n",
       "    <tr>\n",
       "      <th>6</th>\n",
       "      <td>7</td>\n",
       "      <td>ETH Zurich - Swiss Federal Institute of Techno...</td>\n",
       "      <td>Switzerand</td>\n",
       "      <td>98.2</td>\n",
       "      <td>96.2</td>\n",
       "      <td>82.4</td>\n",
       "      <td>100.0</td>\n",
       "      <td>98.6</td>\n",
       "      <td>98.7</td>\n",
       "      <td>95.3</td>\n",
       "    </tr>\n",
       "    <tr>\n",
       "      <th>42</th>\n",
       "      <td>43</td>\n",
       "      <td>New York University (NYU)</td>\n",
       "      <td>USA</td>\n",
       "      <td>95.6</td>\n",
       "      <td>91.3</td>\n",
       "      <td>97.3</td>\n",
       "      <td>28.4</td>\n",
       "      <td>90.9</td>\n",
       "      <td>23.7</td>\n",
       "      <td>77.7</td>\n",
       "    </tr>\n",
       "    <tr>\n",
       "      <th>14</th>\n",
       "      <td>15</td>\n",
       "      <td>Yale University</td>\n",
       "      <td>USA</td>\n",
       "      <td>99.9</td>\n",
       "      <td>99.7</td>\n",
       "      <td>100.0</td>\n",
       "      <td>86.3</td>\n",
       "      <td>61.2</td>\n",
       "      <td>60.2</td>\n",
       "      <td>89.6</td>\n",
       "    </tr>\n",
       "    <tr>\n",
       "      <th>57</th>\n",
       "      <td>58</td>\n",
       "      <td>Tokyo Institute of Technology (Tokyo Tech)</td>\n",
       "      <td>Japan</td>\n",
       "      <td>74.6</td>\n",
       "      <td>80.0</td>\n",
       "      <td>90.4</td>\n",
       "      <td>31.0</td>\n",
       "      <td>27.1</td>\n",
       "      <td>59.8</td>\n",
       "      <td>71.0</td>\n",
       "    </tr>\n",
       "  </tbody>\n",
       "</table>\n",
       "</div>"
      ],
      "text/plain": [
       "    rank                                         university      region  \\\n",
       "62    63                      University of Texas at Austin         USA   \n",
       "6      7  ETH Zurich - Swiss Federal Institute of Techno...  Switzerand   \n",
       "42    43                          New York University (NYU)         USA   \n",
       "14    15                                    Yale University         USA   \n",
       "57    58         Tokyo Institute of Technology (Tokyo Tech)       Japan   \n",
       "\n",
       "    academic reputation  employer reputation  faculty student  \\\n",
       "62                 93.8                 78.1             14.7   \n",
       "6                  98.2                 96.2             82.4   \n",
       "42                 95.6                 91.3             97.3   \n",
       "14                 99.9                 99.7            100.0   \n",
       "57                 74.6                 80.0             90.4   \n",
       "\n",
       "    international faculty  international students  citations per faculty  \\\n",
       "62                    7.3                    20.4                   94.1   \n",
       "6                   100.0                    98.6                   98.7   \n",
       "42                   28.4                    90.9                   23.7   \n",
       "14                   86.3                    61.2                   60.2   \n",
       "57                   31.0                    27.1                   59.8   \n",
       "\n",
       "    overall score  \n",
       "62           68.7  \n",
       "6            95.3  \n",
       "42           77.7  \n",
       "14           89.6  \n",
       "57           71.0  "
      ]
     },
     "execution_count": 760,
     "metadata": {},
     "output_type": "execute_result"
    }
   ],
   "source": [
    "df_2019.sample(5)"
   ]
  },
  {
   "cell_type": "code",
   "execution_count": 761,
   "metadata": {
    "colab": {
     "base_uri": "https://localhost:8080/",
     "height": 247
    },
    "id": "j8FqriChVI77",
    "outputId": "f894d068-3392-42d1-dda7-8400b16b6ac1"
   },
   "outputs": [
    {
     "data": {
      "text/html": [
       "<div>\n",
       "<style scoped>\n",
       "    .dataframe tbody tr th:only-of-type {\n",
       "        vertical-align: middle;\n",
       "    }\n",
       "\n",
       "    .dataframe tbody tr th {\n",
       "        vertical-align: top;\n",
       "    }\n",
       "\n",
       "    .dataframe thead th {\n",
       "        text-align: right;\n",
       "    }\n",
       "</style>\n",
       "<table border=\"1\" class=\"dataframe\">\n",
       "  <thead>\n",
       "    <tr style=\"text-align: right;\">\n",
       "      <th></th>\n",
       "      <th>rank</th>\n",
       "      <th>university</th>\n",
       "      <th>region</th>\n",
       "      <th>academic reputation</th>\n",
       "      <th>employer reputation</th>\n",
       "      <th>faculty student</th>\n",
       "      <th>international faculty</th>\n",
       "      <th>international students</th>\n",
       "      <th>citations per faculty</th>\n",
       "      <th>overall score</th>\n",
       "    </tr>\n",
       "  </thead>\n",
       "  <tbody>\n",
       "    <tr>\n",
       "      <th>59</th>\n",
       "      <td>60</td>\n",
       "      <td>Ecole Polytechnique</td>\n",
       "      <td>Switzerland</td>\n",
       "      <td>66.3</td>\n",
       "      <td>97.9</td>\n",
       "      <td>95.2</td>\n",
       "      <td>99.6</td>\n",
       "      <td>99.3</td>\n",
       "      <td>43.8</td>\n",
       "      <td>70.5</td>\n",
       "    </tr>\n",
       "    <tr>\n",
       "      <th>88</th>\n",
       "      <td>89</td>\n",
       "      <td>University of Science and Technology of China</td>\n",
       "      <td>China</td>\n",
       "      <td>98.5</td>\n",
       "      <td>5.7</td>\n",
       "      <td>16.9</td>\n",
       "      <td>81.1</td>\n",
       "      <td>26.1</td>\n",
       "      <td>56.2</td>\n",
       "      <td>62.3</td>\n",
       "    </tr>\n",
       "    <tr>\n",
       "      <th>31</th>\n",
       "      <td>32</td>\n",
       "      <td>The Hong Kong University of Science and Techno...</td>\n",
       "      <td>China</td>\n",
       "      <td>89.5</td>\n",
       "      <td>87.5</td>\n",
       "      <td>100.0</td>\n",
       "      <td>59.5</td>\n",
       "      <td>71.3</td>\n",
       "      <td>85.0</td>\n",
       "      <td>80.6</td>\n",
       "    </tr>\n",
       "    <tr>\n",
       "      <th>58</th>\n",
       "      <td>58</td>\n",
       "      <td>Tokyo Institute of Technology (Tokyo Tech)</td>\n",
       "      <td>Japan</td>\n",
       "      <td>61.3</td>\n",
       "      <td>31.3</td>\n",
       "      <td>30.7</td>\n",
       "      <td>86.2</td>\n",
       "      <td>82.7</td>\n",
       "      <td>74.5</td>\n",
       "      <td>70.9</td>\n",
       "    </tr>\n",
       "    <tr>\n",
       "      <th>97</th>\n",
       "      <td>98</td>\n",
       "      <td>Boston University</td>\n",
       "      <td>USA</td>\n",
       "      <td>62.1</td>\n",
       "      <td>88.6</td>\n",
       "      <td>33.8</td>\n",
       "      <td>53.8</td>\n",
       "      <td>57.5</td>\n",
       "      <td>63.1</td>\n",
       "      <td>60.5</td>\n",
       "    </tr>\n",
       "  </tbody>\n",
       "</table>\n",
       "</div>"
      ],
      "text/plain": [
       "    rank                                         university       region  \\\n",
       "59    60                                Ecole Polytechnique  Switzerland   \n",
       "88    89      University of Science and Technology of China        China   \n",
       "31    32  The Hong Kong University of Science and Techno...        China   \n",
       "58    58         Tokyo Institute of Technology (Tokyo Tech)        Japan   \n",
       "97    98                                  Boston University          USA   \n",
       "\n",
       "    academic reputation  employer reputation  faculty student  \\\n",
       "59                 66.3                 97.9             95.2   \n",
       "88                 98.5                  5.7             16.9   \n",
       "31                 89.5                 87.5            100.0   \n",
       "58                 61.3                 31.3             30.7   \n",
       "97                 62.1                 88.6             33.8   \n",
       "\n",
       "    international faculty  international students  citations per faculty  \\\n",
       "59                   99.6                    99.3                   43.8   \n",
       "88                   81.1                    26.1                   56.2   \n",
       "31                   59.5                    71.3                   85.0   \n",
       "58                   86.2                    82.7                   74.5   \n",
       "97                   53.8                    57.5                   63.1   \n",
       "\n",
       "    overall score  \n",
       "59           70.5  \n",
       "88           62.3  \n",
       "31           80.6  \n",
       "58           70.9  \n",
       "97           60.5  "
      ]
     },
     "execution_count": 761,
     "metadata": {},
     "output_type": "execute_result"
    }
   ],
   "source": [
    "df_2020.sample(5)"
   ]
  },
  {
   "cell_type": "code",
   "execution_count": 762,
   "metadata": {
    "colab": {
     "base_uri": "https://localhost:8080/",
     "height": 247
    },
    "id": "KoXs1u0SVI_d",
    "outputId": "8448a03f-9f80-4209-b9ae-73004f128f8d"
   },
   "outputs": [
    {
     "data": {
      "text/html": [
       "<div>\n",
       "<style scoped>\n",
       "    .dataframe tbody tr th:only-of-type {\n",
       "        vertical-align: middle;\n",
       "    }\n",
       "\n",
       "    .dataframe tbody tr th {\n",
       "        vertical-align: top;\n",
       "    }\n",
       "\n",
       "    .dataframe thead th {\n",
       "        text-align: right;\n",
       "    }\n",
       "</style>\n",
       "<table border=\"1\" class=\"dataframe\">\n",
       "  <thead>\n",
       "    <tr style=\"text-align: right;\">\n",
       "      <th></th>\n",
       "      <th>rank</th>\n",
       "      <th>university</th>\n",
       "      <th>region</th>\n",
       "      <th>academic reputation</th>\n",
       "      <th>employer reputation</th>\n",
       "      <th>faculty student</th>\n",
       "      <th>international faculty</th>\n",
       "      <th>international students</th>\n",
       "      <th>citations per faculty</th>\n",
       "      <th>overall score</th>\n",
       "    </tr>\n",
       "  </thead>\n",
       "  <tbody>\n",
       "    <tr>\n",
       "      <th>91</th>\n",
       "      <td>92</td>\n",
       "      <td>Lund University</td>\n",
       "      <td>Sweden</td>\n",
       "      <td>51.9</td>\n",
       "      <td>70.1</td>\n",
       "      <td>89.3</td>\n",
       "      <td>50.1</td>\n",
       "      <td>54.3</td>\n",
       "      <td>69.6</td>\n",
       "      <td>61.8</td>\n",
       "    </tr>\n",
       "    <tr>\n",
       "      <th>21</th>\n",
       "      <td>22</td>\n",
       "      <td>Peking University</td>\n",
       "      <td>China</td>\n",
       "      <td>73.0</td>\n",
       "      <td>36.9</td>\n",
       "      <td>70.7</td>\n",
       "      <td>72.3</td>\n",
       "      <td>99.6</td>\n",
       "      <td>99.1</td>\n",
       "      <td>84.3</td>\n",
       "    </tr>\n",
       "    <tr>\n",
       "      <th>48</th>\n",
       "      <td>49</td>\n",
       "      <td>University of Bristol</td>\n",
       "      <td>UK</td>\n",
       "      <td>61.8</td>\n",
       "      <td>75.6</td>\n",
       "      <td>89.4</td>\n",
       "      <td>72.8</td>\n",
       "      <td>84.2</td>\n",
       "      <td>76.6</td>\n",
       "      <td>74.5</td>\n",
       "    </tr>\n",
       "    <tr>\n",
       "      <th>81</th>\n",
       "      <td>82</td>\n",
       "      <td>Tohoku University</td>\n",
       "      <td>Japan</td>\n",
       "      <td>43.1</td>\n",
       "      <td>17.6</td>\n",
       "      <td>12.7</td>\n",
       "      <td>98.2</td>\n",
       "      <td>59.1</td>\n",
       "      <td>69.5</td>\n",
       "      <td>63.7</td>\n",
       "    </tr>\n",
       "    <tr>\n",
       "      <th>60</th>\n",
       "      <td>60</td>\n",
       "      <td>Shanghai Jiao Tong University</td>\n",
       "      <td>China</td>\n",
       "      <td>65.5</td>\n",
       "      <td>20.1</td>\n",
       "      <td>84.1</td>\n",
       "      <td>53.7</td>\n",
       "      <td>93.6</td>\n",
       "      <td>79.6</td>\n",
       "      <td>70.5</td>\n",
       "    </tr>\n",
       "  </tbody>\n",
       "</table>\n",
       "</div>"
      ],
      "text/plain": [
       "    rank                     university  region  academic reputation  \\\n",
       "91    92                Lund University  Sweden                 51.9   \n",
       "21    22              Peking University   China                 73.0   \n",
       "48    49          University of Bristol      UK                 61.8   \n",
       "81    82              Tohoku University   Japan                 43.1   \n",
       "60    60  Shanghai Jiao Tong University   China                 65.5   \n",
       "\n",
       "    employer reputation  faculty student  international faculty  \\\n",
       "91                 70.1             89.3                   50.1   \n",
       "21                 36.9             70.7                   72.3   \n",
       "48                 75.6             89.4                   72.8   \n",
       "81                 17.6             12.7                   98.2   \n",
       "60                 20.1             84.1                   53.7   \n",
       "\n",
       "    international students  citations per faculty  overall score  \n",
       "91                    54.3                   69.6           61.8  \n",
       "21                    99.6                   99.1           84.3  \n",
       "48                    84.2                   76.6           74.5  \n",
       "81                    59.1                   69.5           63.7  \n",
       "60                    93.6                   79.6           70.5  "
      ]
     },
     "execution_count": 762,
     "metadata": {},
     "output_type": "execute_result"
    }
   ],
   "source": [
    "df_2021.sample(5)"
   ]
  },
  {
   "cell_type": "markdown",
   "metadata": {
    "id": "OmbsyG40rok7"
   },
   "source": [
    "Let's also see where we stand in terms of Null values and data types"
   ]
  },
  {
   "cell_type": "code",
   "execution_count": 763,
   "metadata": {
    "colab": {
     "base_uri": "https://localhost:8080/"
    },
    "id": "tPdtE1NyemnH",
    "outputId": "570d2c4c-5e88-4010-a9c3-2ee72cb445ef"
   },
   "outputs": [
    {
     "name": "stdout",
     "output_type": "stream",
     "text": [
      "<class 'pandas.core.frame.DataFrame'>\n",
      "RangeIndex: 100 entries, 0 to 99\n",
      "Data columns (total 10 columns):\n",
      " #   Column                  Non-Null Count  Dtype  \n",
      "---  ------                  --------------  -----  \n",
      " 0   rank                    100 non-null    int64  \n",
      " 1   university              100 non-null    object \n",
      " 2   region                  100 non-null    object \n",
      " 3   academic reputation     100 non-null    float64\n",
      " 4   employer reputation     100 non-null    float64\n",
      " 5   faculty student         100 non-null    float64\n",
      " 6   international faculty   100 non-null    float64\n",
      " 7   international students  100 non-null    float64\n",
      " 8   citations per faculty   100 non-null    float64\n",
      " 9   overall score           100 non-null    float64\n",
      "dtypes: float64(7), int64(1), object(2)\n",
      "memory usage: 7.9+ KB\n",
      "<class 'pandas.core.frame.DataFrame'>\n",
      "RangeIndex: 100 entries, 0 to 99\n",
      "Data columns (total 10 columns):\n",
      " #   Column                  Non-Null Count  Dtype  \n",
      "---  ------                  --------------  -----  \n",
      " 0   rank                    100 non-null    int64  \n",
      " 1   university              100 non-null    object \n",
      " 2   region                  100 non-null    object \n",
      " 3   academic reputation     100 non-null    float64\n",
      " 4   employer reputation     100 non-null    float64\n",
      " 5   faculty student         100 non-null    float64\n",
      " 6   international faculty   100 non-null    float64\n",
      " 7   international students  100 non-null    float64\n",
      " 8   citations per faculty   100 non-null    float64\n",
      " 9   overall score           100 non-null    float64\n",
      "dtypes: float64(7), int64(1), object(2)\n",
      "memory usage: 7.9+ KB\n",
      "<class 'pandas.core.frame.DataFrame'>\n",
      "RangeIndex: 100 entries, 0 to 99\n",
      "Data columns (total 10 columns):\n",
      " #   Column                  Non-Null Count  Dtype  \n",
      "---  ------                  --------------  -----  \n",
      " 0   rank                    100 non-null    int64  \n",
      " 1   university              100 non-null    object \n",
      " 2   region                  100 non-null    object \n",
      " 3   academic reputation     100 non-null    float64\n",
      " 4   employer reputation     100 non-null    float64\n",
      " 5   faculty student         100 non-null    float64\n",
      " 6   international faculty   100 non-null    float64\n",
      " 7   international students  100 non-null    float64\n",
      " 8   citations per faculty   100 non-null    float64\n",
      " 9   overall score           100 non-null    float64\n",
      "dtypes: float64(7), int64(1), object(2)\n",
      "memory usage: 7.9+ KB\n"
     ]
    }
   ],
   "source": [
    "df_2019.info()\n",
    "df_2020.info()\n",
    "df_2021.info()\n"
   ]
  },
  {
   "cell_type": "markdown",
   "metadata": {
    "id": "qEN0bpewruOB"
   },
   "source": [
    "So, all good!"
   ]
  },
  {
   "cell_type": "markdown",
   "metadata": {
    "id": "6fzYHqLtv8mz"
   },
   "source": [
    "Notice that there is no 'year' column in any of the dataframe. As your first task, append an appropriate 'year' column in each dataframe."
   ]
  },
  {
   "cell_type": "markdown",
   "metadata": {
    "id": "z29LkspewNRn"
   },
   "source": [
    "**Q1.** Add a column 'year' in each dataframe. It must correspond to the year for which the data is represented. (2)"
   ]
  },
  {
   "cell_type": "code",
   "execution_count": 764,
   "metadata": {
    "id": "Saef0Mu5i5XZ"
   },
   "outputs": [],
   "source": [
    "#Add code here\n",
    "df_2019['year'] = 2019\n",
    "df_2020['year'] = 2020\n",
    "df_2021['year'] = 2021"
   ]
  },
  {
   "cell_type": "code",
   "execution_count": 765,
   "metadata": {},
   "outputs": [
    {
     "data": {
      "text/html": [
       "<p><strong><pre style='display: inline;'>q1</pre></strong> passed!</p>"
      ],
      "text/plain": [
       "q1 results: All test cases passed!"
      ]
     },
     "execution_count": 765,
     "metadata": {},
     "output_type": "execute_result"
    }
   ],
   "source": [
    "grader.check(\"q1\")"
   ]
  },
  {
   "cell_type": "markdown",
   "metadata": {
    "id": "lGMmDh941L-y"
   },
   "source": [
    "**Q2.** Next, find the count of universities in each region that made it to the Top 100 each year. Print all of them in the same cell. (2)\n",
    "<br> You will have three aggregated objects. Name them a,b,c for data belonging to 2019,2020,2021 respectively."
   ]
  },
  {
   "cell_type": "code",
   "execution_count": 766,
   "metadata": {
    "id": "VgN0f8IdxwoS"
   },
   "outputs": [],
   "source": [
    "# #Add code here\n",
    "df2019 = df_2019.groupby(['region']).agg({'university':'unique'})['university']#series of universities with their regions and for each region we can find the number of universities\n",
    "df2020 = df_2020.groupby(['region']).agg({'university':'unique'})['university']\n",
    "df2021 = df_2021.groupby(['region']).agg({'university':'unique'})['university']\n",
    "counts_a = []\n",
    "counts_b = []\n",
    "counts_c = []\n",
    "rgn_a = []\n",
    "rgn_b = []\n",
    "rgn_c = []\n",
    "for i in range(len(df2019)):# counts of universities and names are stored in separate lists\n",
    "    rgn_a.append(df2019.index[i])\n",
    "    counts_a.append(len(df2019[i]))\n",
    "for i in range(len(df2020)):\n",
    "    rgn_b.append(df2020.index[i])\n",
    "    counts_b.append(len(df2020[i]))\n",
    "for i in range(len(df2020)):\n",
    "    rgn_c.append(df2020.index[i])\n",
    "    counts_c.append(len(df2020[i]))    \n",
    "# these lists are then used to form a series\n",
    "a = pd.Series(counts_a, index = rgn_a)\n",
    "b = pd.Series(counts_b, index = rgn_b)\n",
    "c = pd.Series(counts_c, index = rgn_c)\n"
   ]
  },
  {
   "cell_type": "code",
   "execution_count": 767,
   "metadata": {},
   "outputs": [
    {
     "data": {
      "text/html": [
       "<p><strong><pre style='display: inline;'>q2</pre></strong> passed!</p>"
      ],
      "text/plain": [
       "q2 results: All test cases passed!"
      ]
     },
     "execution_count": 767,
     "metadata": {},
     "output_type": "execute_result"
    }
   ],
   "source": [
    "grader.check(\"q2\")"
   ]
  },
  {
   "cell_type": "markdown",
   "metadata": {
    "id": "IbC-ODBeVgD7"
   },
   "source": [
    "**Q3.** Using your answer to the previous question, visualize the count of universities in each region that made it to the Top 100 (for the year 2021). Note: you have to use a suitable visualization. (3)"
   ]
  },
  {
   "cell_type": "code",
   "execution_count": 768,
   "metadata": {},
   "outputs": [
    {
     "data": {
      "image/png": "[encoded data removed]",
      "text/plain": [
       "<Figure size 1800x720 with 1 Axes>"
      ]
     },
     "metadata": {
      "needs_background": "light"
     },
     "output_type": "display_data"
    }
   ],
   "source": [
    "#Add code here\n",
    "\n",
    "f, ax = plt.subplots(figsize=(25,10))\n",
    "ax = plt.bar(rgn_c, counts_c)\n",
    "plt.rcParams.update({'font.size': 10})\n",
    "plt.title('Bar Plot representing number of universities in each region')\n",
    "plt.xlabel('Regions')\n",
    "plt.ylabel('# of universities')\n",
    "plt.show()"
   ]
  },
  {
   "cell_type": "markdown",
   "metadata": {
    "id": "Axa3FzCDZFRJ"
   },
   "source": [
    "**Q4.** Sort the 2020 dataframe based on overall score in an ascending order. (1)"
   ]
  },
  {
   "cell_type": "code",
   "execution_count": 769,
   "metadata": {
    "id": "FjmBadCcY7vB"
   },
   "outputs": [],
   "source": [
    "#Add code here\n",
    "df_2020 = df_2020.sort_values(by='overall score', ascending=True)\n",
    "# df_2020"
   ]
  },
  {
   "cell_type": "code",
   "execution_count": 770,
   "metadata": {},
   "outputs": [
    {
     "data": {
      "text/html": [
       "<p><strong><pre style='display: inline;'>q4</pre></strong> passed!</p>"
      ],
      "text/plain": [
       "q4 results: All test cases passed!"
      ]
     },
     "execution_count": 770,
     "metadata": {},
     "output_type": "execute_result"
    }
   ],
   "source": [
    "grader.check(\"q4\")"
   ]
  },
  {
   "cell_type": "markdown",
   "metadata": {
    "id": "Axa3FzCDZFRJ"
   },
   "source": [
    "**Q5.** Drop the rank column from all dataframes (2019,2020,2021). (1)"
   ]
  },
  {
   "cell_type": "code",
   "execution_count": 771,
   "metadata": {},
   "outputs": [],
   "source": [
    "#Add code here\n",
    "df_2019.drop('rank', inplace=True, axis=1)\n",
    "df_2020.drop('rank', inplace=True, axis=1)\n",
    "df_2021.drop('rank', inplace=True, axis=1)"
   ]
  },
  {
   "cell_type": "code",
   "execution_count": 772,
   "metadata": {},
   "outputs": [
    {
     "data": {
      "text/html": [
       "<p><strong><pre style='display: inline;'>q5</pre></strong> passed!</p>"
      ],
      "text/plain": [
       "q5 results: All test cases passed!"
      ]
     },
     "execution_count": 772,
     "metadata": {},
     "output_type": "execute_result"
    }
   ],
   "source": [
    "grader.check(\"q5\")"
   ]
  },
  {
   "cell_type": "markdown",
   "metadata": {
    "id": "Axa3FzCDZFRJ"
   },
   "source": [
    "**Q6.** Create a new dataframe called \"USA_2020\", containing only universities which belong to the USA region from 2020 dataframe. Remove the 'year' and 'region' column from this dataframe. (2)"
   ]
  },
  {
   "cell_type": "code",
   "execution_count": 773,
   "metadata": {},
   "outputs": [],
   "source": [
    "#Add code here\n",
    "USA_2020 = df_2020.copy()# copy of 2020 dataframe\n",
    "USA_2020 = USA_2020.query(\"region == 'USA'\")# query to select all universities of US only\n",
    "USA_2020.drop('year', inplace=True, axis=1)# drop the year column from new dataframe\n",
    "USA_2020.drop('region', inplace=True, axis=1)# drop the region column from new dataframe\n",
    "# USA_2020"
   ]
  },
  {
   "cell_type": "code",
   "execution_count": 774,
   "metadata": {},
   "outputs": [
    {
     "data": {
      "text/html": [
       "<p><strong><pre style='display: inline;'>q6</pre></strong> passed!</p>"
      ],
      "text/plain": [
       "q6 results: All test cases passed!"
      ]
     },
     "execution_count": 774,
     "metadata": {},
     "output_type": "execute_result"
    }
   ],
   "source": [
    "grader.check(\"q6\")"
   ]
  },
  {
   "cell_type": "markdown",
   "metadata": {
    "id": "Axa3FzCDZFRJ"
   },
   "source": [
    "**Q7.** In the 'USA_2020' dataframe, make the 'university' column the index of the dataframe. (2)"
   ]
  },
  {
   "cell_type": "code",
   "execution_count": 775,
   "metadata": {},
   "outputs": [],
   "source": [
    "#Add code here\n",
    "USA_2020.set_index('university', inplace=True)\n",
    "# USA_2020"
   ]
  },
  {
   "cell_type": "code",
   "execution_count": 776,
   "metadata": {},
   "outputs": [
    {
     "data": {
      "text/html": [
       "<p><strong><pre style='display: inline;'>q7</pre></strong> passed!</p>"
      ],
      "text/plain": [
       "q7 results: All test cases passed!"
      ]
     },
     "execution_count": 776,
     "metadata": {},
     "output_type": "execute_result"
    }
   ],
   "source": [
    "grader.check(\"q7\")"
   ]
  },
  {
   "cell_type": "markdown",
   "metadata": {
    "id": "Axa3FzCDZFRJ"
   },
   "source": [
    "**Q8.** Using only the following attributes: 'academic reputation','employer reputation','faculty student','international faculty','international students','citations per faculty','overall score'. <br> Represent USA_2020 dataframe using a box and whisker plot. Do you observe any anomalies in any of them? (8)\n",
    "<br>**Note:** They should be in the same cell, but not necessarily in the same figure.<br>"
   ]
  },
  {
   "cell_type": "code",
   "execution_count": 777,
   "metadata": {},
   "outputs": [
    {
     "data": {
      "image/png": "[encoded data removed]",
      "text/plain": [
       "<Figure size 1800x720 with 7 Axes>"
      ]
     },
     "metadata": {
      "needs_background": "light"
     },
     "output_type": "display_data"
    }
   ],
   "source": [
    "#Add code here\n",
    "\n",
    "fig, axs = plt.subplots(1, len(USA_2020.columns), figsize = (25, 10))\n",
    "for i in range(1, 8):\n",
    "    plt.subplot(1, 7, i)\n",
    "    plt.boxplot(USA_2020.iloc[:,i-1])\n",
    "    plt.title(USA_2020.columns[i-1], fontsize = 15)\n",
    "# there are anomalies in citations per faculty as we can see from the box and whisker plot that there are some points out of\n",
    "# its lower point which are considered as outliers. Only citations per faculty has points that are far from its median."
   ]
  },
  {
   "cell_type": "markdown",
   "metadata": {
    "id": "BSOav3W5NRsq"
   },
   "source": [
    "**Q9.** Create a new dataframe called \"USUK_2021\". This dataframe will contain all universities in the \"USA\" and \"UK\" region. Once created, remove the 'year' and 'rank' column. Also, set the index of the \"USUK_2021 to the \"university\" column. (3)<br>\n",
    "**Note:** Very similar to Question 6 and the data to be used should belong to 2021 and not 2020."
   ]
  },
  {
   "cell_type": "code",
   "execution_count": 778,
   "metadata": {},
   "outputs": [
    {
     "data": {
      "text/html": [
       "<div>\n",
       "<style scoped>\n",
       "    .dataframe tbody tr th:only-of-type {\n",
       "        vertical-align: middle;\n",
       "    }\n",
       "\n",
       "    .dataframe tbody tr th {\n",
       "        vertical-align: top;\n",
       "    }\n",
       "\n",
       "    .dataframe thead th {\n",
       "        text-align: right;\n",
       "    }\n",
       "</style>\n",
       "<table border=\"1\" class=\"dataframe\">\n",
       "  <thead>\n",
       "    <tr style=\"text-align: right;\">\n",
       "      <th></th>\n",
       "      <th>academic reputation</th>\n",
       "      <th>employer reputation</th>\n",
       "      <th>faculty student</th>\n",
       "      <th>international faculty</th>\n",
       "      <th>international students</th>\n",
       "      <th>citations per faculty</th>\n",
       "      <th>overall score</th>\n",
       "    </tr>\n",
       "    <tr>\n",
       "      <th>university</th>\n",
       "      <th></th>\n",
       "      <th></th>\n",
       "      <th></th>\n",
       "      <th></th>\n",
       "      <th></th>\n",
       "      <th></th>\n",
       "      <th></th>\n",
       "    </tr>\n",
       "  </thead>\n",
       "  <tbody>\n",
       "    <tr>\n",
       "      <th>Massachusetts Institute of Technology (MIT)</th>\n",
       "      <td>99.8</td>\n",
       "      <td>94.1</td>\n",
       "      <td>100.0</td>\n",
       "      <td>100.0</td>\n",
       "      <td>100.0</td>\n",
       "      <td>100.0</td>\n",
       "      <td>100.0</td>\n",
       "    </tr>\n",
       "  </tbody>\n",
       "</table>\n",
       "</div>"
      ],
      "text/plain": [
       "                                             academic reputation  \\\n",
       "university                                                         \n",
       "Massachusetts Institute of Technology (MIT)                 99.8   \n",
       "\n",
       "                                             employer reputation  \\\n",
       "university                                                         \n",
       "Massachusetts Institute of Technology (MIT)                 94.1   \n",
       "\n",
       "                                             faculty student  \\\n",
       "university                                                     \n",
       "Massachusetts Institute of Technology (MIT)            100.0   \n",
       "\n",
       "                                             international faculty  \\\n",
       "university                                                           \n",
       "Massachusetts Institute of Technology (MIT)                  100.0   \n",
       "\n",
       "                                             international students  \\\n",
       "university                                                            \n",
       "Massachusetts Institute of Technology (MIT)                   100.0   \n",
       "\n",
       "                                             citations per faculty  \\\n",
       "university                                                           \n",
       "Massachusetts Institute of Technology (MIT)                  100.0   \n",
       "\n",
       "                                             overall score  \n",
       "university                                                  \n",
       "Massachusetts Institute of Technology (MIT)          100.0  "
      ]
     },
     "execution_count": 778,
     "metadata": {},
     "output_type": "execute_result"
    }
   ],
   "source": [
    "#Add code here\n",
    "USUK_2021 = df_2021.copy()# copy of 2021 dataframe\n",
    "USUK_2021 = USUK_2021.query(\"region == 'USA' or region == 'UK'\")# query to select all universities of US and UK only\n",
    "USUK_2021.drop('year', inplace=True, axis=1)# drop the year column from new dataframe\n",
    "USUK_2021.drop('region', inplace=True, axis=1)# drop the rank column from new dataframe\n",
    "USUK_2021 = USUK_2021.set_index('university')\n",
    "USUK_2021.head(1)"
   ]
  },
  {
   "cell_type": "code",
   "execution_count": 779,
   "metadata": {},
   "outputs": [
    {
     "data": {
      "text/html": [
       "<p><strong><pre style='display: inline;'>q9</pre></strong> passed!</p>"
      ],
      "text/plain": [
       "q9 results: All test cases passed!"
      ]
     },
     "execution_count": 779,
     "metadata": {},
     "output_type": "execute_result"
    }
   ],
   "source": [
    "grader.check(\"q9\")"
   ]
  },
  {
   "cell_type": "markdown",
   "metadata": {
    "id": "BSOav3W5NRsq"
   },
   "source": [
    "**Q10.** Represent all the attributes in the USUK_2021 dataframe using a scatter plot. Do you observe any general trend? (5+2) <br>\n",
    "**Note:** They should be in the same cell, but not necessarily in the same figure.<br>"
   ]
  },
  {
   "cell_type": "code",
   "execution_count": 780,
   "metadata": {
    "id": "4ktkGSpsNHMj"
   },
   "outputs": [
    {
     "data": {
      "image/png": "[encoded data removed]",
      "text/plain": [
       "<Figure size 1440x2160 with 7 Axes>"
      ]
     },
     "metadata": {
      "needs_background": "light"
     },
     "output_type": "display_data"
    }
   ],
   "source": [
    "#Add code here\n",
    "\n",
    "fig, axs = plt.subplots(7, sharex = True, figsize = (20, 30))\n",
    "sns.scatterplot(ax = axs[0], data = USA_2020, x = 'overall score', y = USA_2020.iloc[:,0])\n",
    "sns.scatterplot(ax = axs[1], data = USA_2020, x = 'overall score', y = USA_2020.iloc[:,1])\n",
    "sns.scatterplot(ax = axs[2], data = USA_2020, x = 'overall score', y = USA_2020.iloc[:,2])\n",
    "sns.scatterplot(ax = axs[3], data = USA_2020, x = 'overall score', y = USA_2020.iloc[:,3])\n",
    "sns.scatterplot(ax = axs[4], data = USA_2020, x = 'overall score', y = USA_2020.iloc[:,4])\n",
    "sns.scatterplot(ax = axs[5], data = USA_2020, x = 'overall score', y = USA_2020.iloc[:,5])\n",
    "sns.scatterplot(ax = axs[6], data = USA_2020, x = 'overall score', y = USA_2020.iloc[:,6])\n",
    "plt.title('Scatter plot of all columns vs overall score')\n",
    "plt.show()\n",
    "\n",
    "# As the overall score increases the value for the corresponding attribute also increases. data is not much skewed and\n",
    "# forms almost a straight line"
   ]
  },
  {
   "cell_type": "markdown",
   "metadata": {
    "id": "KGMiTjo_TP-f"
   },
   "source": [
    "Let's finally look at an useful tool to get an idea about how different variables are corelated to each other. We call it a **correlation matrix** <br>\n",
    "A correlation matrix provides a correlation coefficient (a number between -1 and 1) that tells how strongly two variables are correlated. Values closer to -1 mean strong negative correlation whereas values closer to 1 mean strong positve correlation. Values closer to 0 show variables having no or little correlation. <br>\n",
    "\n",
    "**Q11.** Plot a correlation matrix to see how each variable is correlated to another. You can use the data from df_2019 . (3) <br> Provide a reasonable interpretation of the values obtained in the Correlation matrix. (1)"
   ]
  },
  {
   "cell_type": "code",
   "execution_count": 781,
   "metadata": {},
   "outputs": [
    {
     "data": {
      "text/html": [
       "<div>\n",
       "<style scoped>\n",
       "    .dataframe tbody tr th:only-of-type {\n",
       "        vertical-align: middle;\n",
       "    }\n",
       "\n",
       "    .dataframe tbody tr th {\n",
       "        vertical-align: top;\n",
       "    }\n",
       "\n",
       "    .dataframe thead th {\n",
       "        text-align: right;\n",
       "    }\n",
       "</style>\n",
       "<table border=\"1\" class=\"dataframe\">\n",
       "  <thead>\n",
       "    <tr style=\"text-align: right;\">\n",
       "      <th></th>\n",
       "      <th>academic reputation</th>\n",
       "      <th>employer reputation</th>\n",
       "      <th>faculty student</th>\n",
       "      <th>international faculty</th>\n",
       "      <th>international students</th>\n",
       "      <th>citations per faculty</th>\n",
       "      <th>overall score</th>\n",
       "      <th>year</th>\n",
       "    </tr>\n",
       "  </thead>\n",
       "  <tbody>\n",
       "    <tr>\n",
       "      <th>academic reputation</th>\n",
       "      <td>1.000000</td>\n",
       "      <td>0.638099</td>\n",
       "      <td>0.033301</td>\n",
       "      <td>-0.008442</td>\n",
       "      <td>0.114413</td>\n",
       "      <td>0.107028</td>\n",
       "      <td>0.785670</td>\n",
       "      <td>NaN</td>\n",
       "    </tr>\n",
       "    <tr>\n",
       "      <th>employer reputation</th>\n",
       "      <td>0.638099</td>\n",
       "      <td>1.000000</td>\n",
       "      <td>0.094293</td>\n",
       "      <td>0.178510</td>\n",
       "      <td>0.261781</td>\n",
       "      <td>-0.020299</td>\n",
       "      <td>0.651231</td>\n",
       "      <td>NaN</td>\n",
       "    </tr>\n",
       "    <tr>\n",
       "      <th>faculty student</th>\n",
       "      <td>0.033301</td>\n",
       "      <td>0.094293</td>\n",
       "      <td>1.000000</td>\n",
       "      <td>-0.071974</td>\n",
       "      <td>-0.063082</td>\n",
       "      <td>-0.261467</td>\n",
       "      <td>0.390808</td>\n",
       "      <td>NaN</td>\n",
       "    </tr>\n",
       "    <tr>\n",
       "      <th>international faculty</th>\n",
       "      <td>-0.008442</td>\n",
       "      <td>0.178510</td>\n",
       "      <td>-0.071974</td>\n",
       "      <td>1.000000</td>\n",
       "      <td>0.669626</td>\n",
       "      <td>0.177231</td>\n",
       "      <td>0.281803</td>\n",
       "      <td>NaN</td>\n",
       "    </tr>\n",
       "    <tr>\n",
       "      <th>international students</th>\n",
       "      <td>0.114413</td>\n",
       "      <td>0.261781</td>\n",
       "      <td>-0.063082</td>\n",
       "      <td>0.669626</td>\n",
       "      <td>1.000000</td>\n",
       "      <td>0.009999</td>\n",
       "      <td>0.304559</td>\n",
       "      <td>NaN</td>\n",
       "    </tr>\n",
       "    <tr>\n",
       "      <th>citations per faculty</th>\n",
       "      <td>0.107028</td>\n",
       "      <td>-0.020299</td>\n",
       "      <td>-0.261467</td>\n",
       "      <td>0.177231</td>\n",
       "      <td>0.009999</td>\n",
       "      <td>1.000000</td>\n",
       "      <td>0.369151</td>\n",
       "      <td>NaN</td>\n",
       "    </tr>\n",
       "    <tr>\n",
       "      <th>overall score</th>\n",
       "      <td>0.785670</td>\n",
       "      <td>0.651231</td>\n",
       "      <td>0.390808</td>\n",
       "      <td>0.281803</td>\n",
       "      <td>0.304559</td>\n",
       "      <td>0.369151</td>\n",
       "      <td>1.000000</td>\n",
       "      <td>NaN</td>\n",
       "    </tr>\n",
       "    <tr>\n",
       "      <th>year</th>\n",
       "      <td>NaN</td>\n",
       "      <td>NaN</td>\n",
       "      <td>NaN</td>\n",
       "      <td>NaN</td>\n",
       "      <td>NaN</td>\n",
       "      <td>NaN</td>\n",
       "      <td>NaN</td>\n",
       "      <td>NaN</td>\n",
       "    </tr>\n",
       "  </tbody>\n",
       "</table>\n",
       "</div>"
      ],
      "text/plain": [
       "                        academic reputation  employer reputation  \\\n",
       "academic reputation                1.000000             0.638099   \n",
       "employer reputation                0.638099             1.000000   \n",
       "faculty student                    0.033301             0.094293   \n",
       "international faculty             -0.008442             0.178510   \n",
       "international students             0.114413             0.261781   \n",
       "citations per faculty              0.107028            -0.020299   \n",
       "overall score                      0.785670             0.651231   \n",
       "year                                    NaN                  NaN   \n",
       "\n",
       "                        faculty student  international faculty  \\\n",
       "academic reputation            0.033301              -0.008442   \n",
       "employer reputation            0.094293               0.178510   \n",
       "faculty student                1.000000              -0.071974   \n",
       "international faculty         -0.071974               1.000000   \n",
       "international students        -0.063082               0.669626   \n",
       "citations per faculty         -0.261467               0.177231   \n",
       "overall score                  0.390808               0.281803   \n",
       "year                                NaN                    NaN   \n",
       "\n",
       "                        international students  citations per faculty  \\\n",
       "academic reputation                   0.114413               0.107028   \n",
       "employer reputation                   0.261781              -0.020299   \n",
       "faculty student                      -0.063082              -0.261467   \n",
       "international faculty                 0.669626               0.177231   \n",
       "international students                1.000000               0.009999   \n",
       "citations per faculty                 0.009999               1.000000   \n",
       "overall score                         0.304559               0.369151   \n",
       "year                                       NaN                    NaN   \n",
       "\n",
       "                        overall score  year  \n",
       "academic reputation          0.785670   NaN  \n",
       "employer reputation          0.651231   NaN  \n",
       "faculty student              0.390808   NaN  \n",
       "international faculty        0.281803   NaN  \n",
       "international students       0.304559   NaN  \n",
       "citations per faculty        0.369151   NaN  \n",
       "overall score                1.000000   NaN  \n",
       "year                              NaN   NaN  "
      ]
     },
     "execution_count": 781,
     "metadata": {},
     "output_type": "execute_result"
    }
   ],
   "source": [
    "#Add code here\n",
    "\n",
    "df_2019.corr()\n",
    "# correlation coefficient = 1 for similar columns as they are completely correlated so the diagonal is 1\n",
    "# we can ignore year column. among all citations per faculty has the least correlation with faculty student. overall score has\n",
    "# fairly strong correlation with all other attributes. employer reputation has a strong relation with academic reputation as \n",
    "# it has a value above 0.6"
   ]
  },
  {
   "cell_type": "markdown",
   "metadata": {
    "id": "MaxAZRjw8iPH"
   },
   "source": [
    "**How employable are you if you attend one of the top ten universities in the world? Let's find out.** <br><br>\n",
    "**Q12.** Create a smaller dataframe which has the top ten universities from each year (based on overall score). Remove all columns except the 'employer reputation' column. We will be evaluating the top ten universities based on their employer reputation scores. Name the resultant dataframe, \"resultant_df\". (3) <br>\n",
    "Hint: \n",
    "\n",
    "*   There will be four columns in the dataframe you make. One for the university name and the other three for their employer reputation scores across three years' data.\n",
    "*   The top ten universities are same across the three years (by overall scores). Only their rankings differ.\n",
    "*   Use the merge function. You can read more about how to use it in the documentation: https://pandas.pydata.org/pandas-docs/stable/reference/api/pandas.DataFrame.merge.html\n",
    "*   Shape of the resultant dataframe should be (10, 4)\n",
    "\n",
    "\n",
    "\n",
    "\n"
   ]
  },
  {
   "cell_type": "code",
   "execution_count": 782,
   "metadata": {},
   "outputs": [],
   "source": [
    "# #Add code here\n",
    "df_2019 = df_2019.sort_values(by=['overall score'], ascending=False)# sorting overall score values in descending order\n",
    "res_2019 = df_2019.head(10) # top 10 universities\n",
    "res_2019 = res_2019[['university', 'employer reputation']]# columns with university names and employer reputation only\n",
    "\n",
    "df_2020 = df_2020.sort_values(by=['overall score'], ascending=False)\n",
    "res_2020 = df_2020.head(10)\n",
    "res_2020 = res_2020[['university', 'employer reputation']]\n",
    "# res_2019\n",
    "\n",
    "df_2021 = df_2021.sort_values(by=['overall score'], ascending=False)\n",
    "res_2021 = df_2021.head(10)\n",
    "res_2021 = res_2021[['university', 'employer reputation']]\n",
    "\n",
    "res_df = pd.merge(res_2019,res_2020,on='university')# merging dataframes\n",
    "resultant_df = pd.merge(res_df, res_2021, on = 'university')\n",
    "# resultant_df.shape\n",
    "\n"
   ]
  },
  {
   "cell_type": "code",
   "execution_count": 783,
   "metadata": {},
   "outputs": [
    {
     "data": {
      "text/html": [
       "<p><strong><pre style='display: inline;'>q12</pre></strong> passed!</p>"
      ],
      "text/plain": [
       "q12 results: All test cases passed!"
      ]
     },
     "execution_count": 783,
     "metadata": {},
     "output_type": "execute_result"
    }
   ],
   "source": [
    "grader.check(\"q12\")"
   ]
  },
  {
   "cell_type": "markdown",
   "metadata": {
    "id": "AsUyz-3C-N8-"
   },
   "source": [
    "**As you noticed that when you merged, Pandas auto-assigned the column names. Let's change them.** <br><br>\n",
    "**Q13.** For the columns representing scores, rename them such that they describe the data that the column holds. (3)"
   ]
  },
  {
   "cell_type": "code",
   "execution_count": 784,
   "metadata": {
    "id": "Adlg9ODa-pPe"
   },
   "outputs": [],
   "source": [
    "#Add code here\n",
    "resultant_df = resultant_df.rename(columns = {'employer reputation_x': 'employer reputation_2019', 'employer reputation_y': 'employer reputation_2020', 'employer reputation': 'employer reputation_2021'})"
   ]
  },
  {
   "cell_type": "code",
   "execution_count": 785,
   "metadata": {},
   "outputs": [
    {
     "data": {
      "text/html": [
       "<p><strong><pre style='display: inline;'>q13</pre></strong> passed!</p>"
      ],
      "text/plain": [
       "q13 results: All test cases passed!"
      ]
     },
     "execution_count": 785,
     "metadata": {},
     "output_type": "execute_result"
    }
   ],
   "source": [
    "grader.check(\"q13\")"
   ]
  },
  {
   "cell_type": "markdown",
   "metadata": {
    "id": "2mWkHs133oon"
   },
   "source": [
    "**Q14.** Draw a suitable plot to show how the employer reputation scores of the Top 10 universities varied over the three years. Clearly label your graph and attach a legend. Add a reasonable interpretation of the plot as comments in your code below. (4)<br> <br>\n",
    "Note 1: All universities must be in the same plot.<br>\n",
    "Note 2: Your graph should be clear and legend should be placed suitably .\n",
    "\n"
   ]
  },
  {
   "cell_type": "code",
   "execution_count": 786,
   "metadata": {
    "id": "9sJ3Rs9RL25I"
   },
   "outputs": [
    {
     "data": {
      "image/png": "[encoded data removed]",
      "text/plain": [
       "<Figure size 1080x720 with 1 Axes>"
      ]
     },
     "metadata": {
      "needs_background": "light"
     },
     "output_type": "display_data"
    }
   ],
   "source": [
    "#Add code here\n",
    "\n",
    "resultant_df.plot.bar(x = 'university', ylabel = 'employer reputaion', figsize = (15, 10))\n",
    "plt.legend(loc = 8)# changes position of legend\n",
    "plt.title('Bar plot of top 10 universities vs employer reputation')\n",
    "plt.xlabel('universities')\n",
    "plt.ylabel('employer reputation points')\n",
    "plt.show()\n",
    "\n",
    "# for the year 2020 and 2021 employer reputation is same for all the universities. In 2019 the employer reputation for the top\n",
    "# 3 universities it is 100, and for these universities it is 30% decreased for the year 2020 and 2021. For harvard the decrease\n",
    "# in reputation is maximum among all the top 10 universities. The reputation of imperial college and UCL is constant throughout\n",
    "# the 3 years. The decrease in employer reputation after 2019 is may be due to Covid-19 as our results are clearly representing \n",
    "# it. "
   ]
  },
  {
   "cell_type": "markdown",
   "metadata": {
    "id": "2mWkHs133oon"
   },
   "source": [
    "**This question is about Kernel density estimates (KDE). Please refer to your slides if you do not understand this concept properly. <br> <br>\n",
    "**Q15.** Plot the Kernel density estimate (KDE) of all attributes of score from the USUK2021 dataframe. (5) <br>\n",
    "\n",
    "**Note 1:** If you think there is any variable that does not need to be plotted, leave a rationale for it in the form of a comment before the graphs code.<br>\n",
    "**Note 2:** There should be just one figure having all the plots. Make a suitable legend alongside.\n",
    "\n"
   ]
  },
  {
   "cell_type": "code",
   "execution_count": 787,
   "metadata": {},
   "outputs": [
    {
     "data": {
      "image/png": "[encoded data removed]",
      "text/plain": [
       "<Figure size 720x360 with 1 Axes>"
      ]
     },
     "metadata": {
      "needs_background": "light"
     },
     "output_type": "display_data"
    }
   ],
   "source": [
    "#Add code here\n",
    "ax = USUK_2021.plot.kde(bw_method=0.3, figsize = (10,5)) # kde drawn with bandwidth value of 0.3 \n",
    "plt.xlabel('Attributes of Score')\n",
    "plt.ylabel('Probability density')\n",
    "plt.title('KDE of USUK_2021')\n",
    "plt.show()"
   ]
  },
  {
   "cell_type": "markdown",
   "metadata": {
    "id": "2mWkHs133oon"
   },
   "source": [
    "**You have reached the end of this assignment. Please check whether you have labelled all axes, titles, legends etc. These will carry a good weightage of marks. Have a good day!**\n",
    "\n"
   ]
  }
 ],
 "metadata": {
  "colab": {
   "collapsed_sections": [],
   "name": "A2_2.ipynb",
   "provenance": []
  },
  "kernelspec": {
   "display_name": "Python 3",
   "language": "python",
   "name": "python3"
  },
  "language_info": {
   "codemirror_mode": {
    "name": "ipython",
    "version": 3
   },
   "file_extension": ".py",
   "mimetype": "text/x-python",
   "name": "python",
   "nbconvert_exporter": "python",
   "pygments_lexer": "ipython3",
   "version": "3.8.8"
  }
 },
 "nbformat": 4,
 "nbformat_minor": 1
}
