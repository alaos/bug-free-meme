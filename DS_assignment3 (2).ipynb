{
 "cells": [
  {
   "cell_type": "markdown",
   "metadata": {},
   "source": [
    "## Assignment 3 Part 1 - Statistical Inference"
   ]
  },
  {
   "cell_type": "markdown",
   "metadata": {},
   "source": [
    "### **Importing Libraries**"
   ]
  },
  {
   "cell_type": "code",
   "execution_count": 1,
   "metadata": {},
   "outputs": [],
   "source": [
    "import pandas as pd\n",
    "import numpy as np\n",
    "%matplotlib inline\n",
    "import matplotlib.pyplot as plots\n",
    "import matplotlib.pyplot as plt\n",
    "plots.style.use('fivethirtyeight')\n",
    "import seaborn as sns"
   ]
  },
  {
   "cell_type": "code",
   "execution_count": 2,
   "metadata": {},
   "outputs": [],
   "source": [
    "# Initialize Otter\n",
    "import otter\n",
    "grader = otter.Notebook()"
   ]
  },
  {
   "cell_type": "markdown",
   "metadata": {},
   "source": [
    "## **Assignment Instructions**"
   ]
  },
  {
   "cell_type": "markdown",
   "metadata": {},
   "source": [
    "* **How to install 'otter'**: Run `pip install otter-grader` in your Anaconda Command Prompt\n",
    "* **Otter**: It is an autograder that we will be using for grading your notebooks.\n",
    "* **grader.check('qn')**: This command runs test cases for nth question `qn` provided to you and displays the result. But these are not the only test cases, these are provided just for your basic testing. There will be some *hidden test cases* on which your answers will be tested as well.\n",
    "* You are **not** allowed to edit any pre-defined variables and as per the instructions for every question you have to assign your answers to these variables.\n",
    "* Store your answers in the variables already defined at the end of each question. (These variables are followed by \"...\")"
   ]
  },
  {
   "cell_type": "markdown",
   "metadata": {},
   "source": [
    "# **Submission Instructions**"
   ]
  },
  {
   "cell_type": "markdown",
   "metadata": {},
   "source": [
    "* There are two parts of this assignment. You should name both notebooks as **YourRollNumber_PartNumber.ipynb**. (e.g. this part should be named as *`2XXXXXXX_1.ipynb`*)\n",
    "* You must submit a zip file containg just two notebooks and it must not has any folder or any other file. \n",
    "* The name of the zip file must be your `Roll Number`"
   ]
  },
  {
   "cell_type": "markdown",
   "metadata": {},
   "source": [
    "### **Indian Liver Patient Records**"
   ]
  },
  {
   "cell_type": "markdown",
   "metadata": {},
   "source": [
    "This dataset is originally from the National Institute of Diabetes and Digestive and Kidney Diseases. Patients with Liver disease have been continuously increasing because of excessive consumption of alcohol, inhale of harmful gases, intake of contaminated food, pickles and drugs. This dataset was used to evaluate prediction algorithms in an effort to reduce burden on doctors.\n",
    "\n",
    "This data set contains 416 liver patient records and 167 non liver patient records collected from India. The \"Outcome\" column is a class label used to divide groups into liver patient (liver disease) or not (no disease). This data set contains 441 male patient records and 142 female patient records.\n",
    "\n",
    "Any patient whose age exceeded 89 is listed as being of age \"90\"."
   ]
  },
  {
   "cell_type": "markdown",
   "metadata": {},
   "source": [
    "Run the cell below to load the dataset and explore its attributes for a study conducted for 583 patients."
   ]
  },
  {
   "cell_type": "markdown",
   "metadata": {},
   "source": [
    "### **Loading Data**"
   ]
  },
  {
   "cell_type": "code",
   "execution_count": 3,
   "metadata": {
    "scrolled": false
   },
   "outputs": [
    {
     "data": {
      "text/html": [
       "<div>\n",
       "<style scoped>\n",
       "    .dataframe tbody tr th:only-of-type {\n",
       "        vertical-align: middle;\n",
       "    }\n",
       "\n",
       "    .dataframe tbody tr th {\n",
       "        vertical-align: top;\n",
       "    }\n",
       "\n",
       "    .dataframe thead th {\n",
       "        text-align: right;\n",
       "    }\n",
       "</style>\n",
       "<table border=\"1\" class=\"dataframe\">\n",
       "  <thead>\n",
       "    <tr style=\"text-align: right;\">\n",
       "      <th></th>\n",
       "      <th>index</th>\n",
       "      <th>Age</th>\n",
       "      <th>Gender</th>\n",
       "      <th>Total_Bilirubin</th>\n",
       "      <th>Direct_Bilirubin</th>\n",
       "      <th>Alkaline_Phosphotase</th>\n",
       "      <th>Alamine_Aminotransferase</th>\n",
       "      <th>Aspartate_Aminotransferase</th>\n",
       "      <th>Total_Protiens</th>\n",
       "      <th>Albumin</th>\n",
       "      <th>Albumin_and_Globulin_Ratio</th>\n",
       "      <th>Outcome</th>\n",
       "    </tr>\n",
       "  </thead>\n",
       "  <tbody>\n",
       "    <tr>\n",
       "      <th>0</th>\n",
       "      <td>0</td>\n",
       "      <td>65</td>\n",
       "      <td>Female</td>\n",
       "      <td>0.7</td>\n",
       "      <td>0.1</td>\n",
       "      <td>187</td>\n",
       "      <td>16</td>\n",
       "      <td>18</td>\n",
       "      <td>6.8</td>\n",
       "      <td>3.3</td>\n",
       "      <td>0.90</td>\n",
       "      <td>1</td>\n",
       "    </tr>\n",
       "    <tr>\n",
       "      <th>1</th>\n",
       "      <td>1</td>\n",
       "      <td>62</td>\n",
       "      <td>Male</td>\n",
       "      <td>10.9</td>\n",
       "      <td>5.5</td>\n",
       "      <td>699</td>\n",
       "      <td>64</td>\n",
       "      <td>100</td>\n",
       "      <td>7.5</td>\n",
       "      <td>3.2</td>\n",
       "      <td>0.74</td>\n",
       "      <td>1</td>\n",
       "    </tr>\n",
       "    <tr>\n",
       "      <th>2</th>\n",
       "      <td>2</td>\n",
       "      <td>62</td>\n",
       "      <td>Male</td>\n",
       "      <td>7.3</td>\n",
       "      <td>4.1</td>\n",
       "      <td>490</td>\n",
       "      <td>60</td>\n",
       "      <td>68</td>\n",
       "      <td>7.0</td>\n",
       "      <td>3.3</td>\n",
       "      <td>0.89</td>\n",
       "      <td>1</td>\n",
       "    </tr>\n",
       "    <tr>\n",
       "      <th>3</th>\n",
       "      <td>3</td>\n",
       "      <td>58</td>\n",
       "      <td>Male</td>\n",
       "      <td>1.0</td>\n",
       "      <td>0.4</td>\n",
       "      <td>182</td>\n",
       "      <td>14</td>\n",
       "      <td>20</td>\n",
       "      <td>6.8</td>\n",
       "      <td>3.4</td>\n",
       "      <td>1.00</td>\n",
       "      <td>1</td>\n",
       "    </tr>\n",
       "    <tr>\n",
       "      <th>4</th>\n",
       "      <td>4</td>\n",
       "      <td>72</td>\n",
       "      <td>Male</td>\n",
       "      <td>3.9</td>\n",
       "      <td>2.0</td>\n",
       "      <td>195</td>\n",
       "      <td>27</td>\n",
       "      <td>59</td>\n",
       "      <td>7.3</td>\n",
       "      <td>2.4</td>\n",
       "      <td>0.40</td>\n",
       "      <td>1</td>\n",
       "    </tr>\n",
       "    <tr>\n",
       "      <th>...</th>\n",
       "      <td>...</td>\n",
       "      <td>...</td>\n",
       "      <td>...</td>\n",
       "      <td>...</td>\n",
       "      <td>...</td>\n",
       "      <td>...</td>\n",
       "      <td>...</td>\n",
       "      <td>...</td>\n",
       "      <td>...</td>\n",
       "      <td>...</td>\n",
       "      <td>...</td>\n",
       "      <td>...</td>\n",
       "    </tr>\n",
       "    <tr>\n",
       "      <th>574</th>\n",
       "      <td>578</td>\n",
       "      <td>60</td>\n",
       "      <td>Male</td>\n",
       "      <td>0.5</td>\n",
       "      <td>0.1</td>\n",
       "      <td>500</td>\n",
       "      <td>20</td>\n",
       "      <td>34</td>\n",
       "      <td>5.9</td>\n",
       "      <td>1.6</td>\n",
       "      <td>0.37</td>\n",
       "      <td>2</td>\n",
       "    </tr>\n",
       "    <tr>\n",
       "      <th>575</th>\n",
       "      <td>579</td>\n",
       "      <td>40</td>\n",
       "      <td>Male</td>\n",
       "      <td>0.6</td>\n",
       "      <td>0.1</td>\n",
       "      <td>98</td>\n",
       "      <td>35</td>\n",
       "      <td>31</td>\n",
       "      <td>6.0</td>\n",
       "      <td>3.2</td>\n",
       "      <td>1.10</td>\n",
       "      <td>1</td>\n",
       "    </tr>\n",
       "    <tr>\n",
       "      <th>576</th>\n",
       "      <td>580</td>\n",
       "      <td>52</td>\n",
       "      <td>Male</td>\n",
       "      <td>0.8</td>\n",
       "      <td>0.2</td>\n",
       "      <td>245</td>\n",
       "      <td>48</td>\n",
       "      <td>49</td>\n",
       "      <td>6.4</td>\n",
       "      <td>3.2</td>\n",
       "      <td>1.00</td>\n",
       "      <td>1</td>\n",
       "    </tr>\n",
       "    <tr>\n",
       "      <th>577</th>\n",
       "      <td>581</td>\n",
       "      <td>31</td>\n",
       "      <td>Male</td>\n",
       "      <td>1.3</td>\n",
       "      <td>0.5</td>\n",
       "      <td>184</td>\n",
       "      <td>29</td>\n",
       "      <td>32</td>\n",
       "      <td>6.8</td>\n",
       "      <td>3.4</td>\n",
       "      <td>1.00</td>\n",
       "      <td>1</td>\n",
       "    </tr>\n",
       "    <tr>\n",
       "      <th>578</th>\n",
       "      <td>582</td>\n",
       "      <td>38</td>\n",
       "      <td>Male</td>\n",
       "      <td>1.0</td>\n",
       "      <td>0.3</td>\n",
       "      <td>216</td>\n",
       "      <td>21</td>\n",
       "      <td>24</td>\n",
       "      <td>7.3</td>\n",
       "      <td>4.4</td>\n",
       "      <td>1.50</td>\n",
       "      <td>2</td>\n",
       "    </tr>\n",
       "  </tbody>\n",
       "</table>\n",
       "<p>579 rows × 12 columns</p>\n",
       "</div>"
      ],
      "text/plain": [
       "     index  Age  Gender  Total_Bilirubin  Direct_Bilirubin  \\\n",
       "0        0   65  Female              0.7               0.1   \n",
       "1        1   62    Male             10.9               5.5   \n",
       "2        2   62    Male              7.3               4.1   \n",
       "3        3   58    Male              1.0               0.4   \n",
       "4        4   72    Male              3.9               2.0   \n",
       "..     ...  ...     ...              ...               ...   \n",
       "574    578   60    Male              0.5               0.1   \n",
       "575    579   40    Male              0.6               0.1   \n",
       "576    580   52    Male              0.8               0.2   \n",
       "577    581   31    Male              1.3               0.5   \n",
       "578    582   38    Male              1.0               0.3   \n",
       "\n",
       "     Alkaline_Phosphotase  Alamine_Aminotransferase  \\\n",
       "0                     187                        16   \n",
       "1                     699                        64   \n",
       "2                     490                        60   \n",
       "3                     182                        14   \n",
       "4                     195                        27   \n",
       "..                    ...                       ...   \n",
       "574                   500                        20   \n",
       "575                    98                        35   \n",
       "576                   245                        48   \n",
       "577                   184                        29   \n",
       "578                   216                        21   \n",
       "\n",
       "     Aspartate_Aminotransferase  Total_Protiens  Albumin  \\\n",
       "0                            18             6.8      3.3   \n",
       "1                           100             7.5      3.2   \n",
       "2                            68             7.0      3.3   \n",
       "3                            20             6.8      3.4   \n",
       "4                            59             7.3      2.4   \n",
       "..                          ...             ...      ...   \n",
       "574                          34             5.9      1.6   \n",
       "575                          31             6.0      3.2   \n",
       "576                          49             6.4      3.2   \n",
       "577                          32             6.8      3.4   \n",
       "578                          24             7.3      4.4   \n",
       "\n",
       "     Albumin_and_Globulin_Ratio  Outcome  \n",
       "0                          0.90        1  \n",
       "1                          0.74        1  \n",
       "2                          0.89        1  \n",
       "3                          1.00        1  \n",
       "4                          0.40        1  \n",
       "..                          ...      ...  \n",
       "574                        0.37        2  \n",
       "575                        1.10        1  \n",
       "576                        1.00        1  \n",
       "577                        1.00        1  \n",
       "578                        1.50        2  \n",
       "\n",
       "[579 rows x 12 columns]"
      ]
     },
     "execution_count": 3,
     "metadata": {},
     "output_type": "execute_result"
    }
   ],
   "source": [
    "df = pd.read_csv('indian_liver_patient_dataset.csv')\n",
    "df = df.dropna()\n",
    "df = df.reset_index()\n",
    "df"
   ]
  },
  {
   "cell_type": "markdown",
   "metadata": {},
   "source": [
    "Columns:\n",
    "<br>\n",
    "Age of the patient <br>\n",
    "Gender of the patient<br>\n",
    "Total Bilirubin : Liver function marker<br>\n",
    "Direct Bilirubin: Liver function marker<br>\n",
    "Alkaline Phosphotase: Liver function marker<br>\n",
    "Alamine Aminotransferase: Liver function marker<br>\n",
    "Aspartate Aminotransferase: Liver function marker<br>\n",
    "Total Protiens : Total Protein level<br>\n",
    "Albumin<br>\n",
    "Albumin and Globulin Ratio<br>\n",
    "Outcome: field used to split the data into two sets (patient with liver disease =1, or no disease =2)<br>"
   ]
  },
  {
   "cell_type": "markdown",
   "metadata": {},
   "source": [
    "This data has been cleaned to remove any nulll values so that there are none. Therefore, the data's rows may be lesser than the original study that was conducted."
   ]
  },
  {
   "cell_type": "markdown",
   "metadata": {},
   "source": [
    "**Question 1**: Print the dataset's description in the following cell and check whether any null values exist. (3)"
   ]
  },
  {
   "cell_type": "code",
   "execution_count": 4,
   "metadata": {},
   "outputs": [
    {
     "name": "stdout",
     "output_type": "stream",
     "text": [
      "            index         Age  Total_Bilirubin  Direct_Bilirubin  \\\n",
      "count  579.000000  579.000000       579.000000        579.000000   \n",
      "mean   291.257340   44.782383         3.315371          1.494128   \n",
      "std    168.966657   16.221786         6.227716          2.816499   \n",
      "min      0.000000    4.000000         0.400000          0.100000   \n",
      "25%    144.500000   33.000000         0.800000          0.200000   \n",
      "50%    292.000000   45.000000         1.000000          0.300000   \n",
      "75%    437.500000   58.000000         2.600000          1.300000   \n",
      "max    582.000000   90.000000        75.000000         19.700000   \n",
      "\n",
      "       Alkaline_Phosphotase  Alamine_Aminotransferase  \\\n",
      "count            579.000000                579.000000   \n",
      "mean             291.366149                 81.126079   \n",
      "std              243.561863                183.182845   \n",
      "min               63.000000                 10.000000   \n",
      "25%              175.500000                 23.000000   \n",
      "50%              208.000000                 35.000000   \n",
      "75%              298.000000                 61.000000   \n",
      "max             2110.000000               2000.000000   \n",
      "\n",
      "       Aspartate_Aminotransferase  Total_Protiens     Albumin  \\\n",
      "count                  579.000000      579.000000  579.000000   \n",
      "mean                   110.414508        6.481693    3.138515   \n",
      "std                    289.850034        1.084641    0.794435   \n",
      "min                     10.000000        2.700000    0.900000   \n",
      "25%                     25.000000        5.800000    2.600000   \n",
      "50%                     42.000000        6.600000    3.100000   \n",
      "75%                     87.000000        7.200000    3.800000   \n",
      "max                   4929.000000        9.600000    5.500000   \n",
      "\n",
      "       Albumin_and_Globulin_Ratio     Outcome  \n",
      "count                  579.000000  579.000000  \n",
      "mean                     0.947064    1.284974  \n",
      "std                      0.319592    0.451792  \n",
      "min                      0.300000    1.000000  \n",
      "25%                      0.700000    1.000000  \n",
      "50%                      0.930000    1.000000  \n",
      "75%                      1.100000    2.000000  \n",
      "max                      2.800000    2.000000  \n",
      "NULL values are not present\n"
     ]
    }
   ],
   "source": [
    "#Solution\n",
    "print(df.describe())\n",
    "if(df.isnull().sum().sum() != 0):\n",
    "    print('NULL values are present')\n",
    "else:\n",
    "    print('NULL values are not present')\n"
   ]
  },
  {
   "cell_type": "markdown",
   "metadata": {},
   "source": [
    "### Liver Disease and the population"
   ]
  },
  {
   "cell_type": "markdown",
   "metadata": {},
   "source": [
    "In this section, we will be exploring whether this dataset is a representative sample of population by examining the patients under this survey. This will help us highlights the limitations of the dataset.\n",
    "\n",
    "According to the NCBI\n",
    "(https://www.ncbi.nlm.nih.gov/pmc/articles/PMC5658106/), the prevalence of diagnosed liver disease (i.e., the proportion of the population who have it) in India around this time was 0.013. We are going to conduct a hypothesis test with the following null and alternative hypotheses:\n",
    "\n",
    "**Null Hypothesis**: The probability that a participant within this study has liver disease is equivalent to the prevalence of diagnosed liver disease within the population. (i.e., any difference between the study prevalence and population prevalence is due to random chance in the selection of the participants).\n",
    "\n",
    "**Alternative Hypothesis**: The probability that a participant within the study has liver disease is different than the prevalence of diagnosed liver disease within the population.\n",
    "\n",
    "We are going to use the absolute distance between the observed prevalence and the true population prevalence as our test statistic. "
   ]
  },
  {
   "cell_type": "markdown",
   "metadata": {},
   "source": [
    "**Question 2**: What is the observed value of the statistic in the data from the Indian Liver Patient Dataset? (5)"
   ]
  },
  {
   "cell_type": "code",
   "execution_count": 5,
   "metadata": {},
   "outputs": [],
   "source": [
    "#Solution\n",
    "ser = df.loc[:, ['Outcome']].value_counts()\n",
    "# total = ser[1] + ser[2]\n",
    "total = 583\n",
    "prevalence_ld = 0.013\n",
    "rat = abs(ser[1]/total)\n",
    "\n",
    "observed_liverdisease_distance = rat-prevalence_ld"
   ]
  },
  {
   "cell_type": "code",
   "execution_count": 6,
   "metadata": {},
   "outputs": [
    {
     "data": {
      "text/html": [
       "<p><strong><pre style='display: inline;'>q2</pre></strong> passed!</p>"
      ],
      "text/plain": [
       "q2 results: All test cases passed!"
      ]
     },
     "execution_count": 6,
     "metadata": {},
     "output_type": "execute_result"
    }
   ],
   "source": [
    "grader.check(\"q2\")"
   ]
  },
  {
   "cell_type": "markdown",
   "metadata": {},
   "source": [
    "**Question 3**: Make a function that returns a simulated statistic under the null hypothesis. Use the function to return exactly one simulated statistic under the null hypothesis. Remember that our statistic is the absolute distance between the observed prevalence and the true population prevalence.(7)\n",
    "\n",
    "**Hint:** Look into the [np.random.multinomial](https://numpy.org/doc/stable/reference/random/generated/numpy.random.multinomial.html) function for simulating the statistic."
   ]
  },
  {
   "cell_type": "code",
   "execution_count": 7,
   "metadata": {},
   "outputs": [],
   "source": [
    "\n",
    "liverdisease_proportion = [0.987,0.013]\n",
    "\n",
    "def liverdisease_statistic():\n",
    "    simulated_stat = np.random.multinomial(total, liverdisease_proportion)\n",
    "    return simulated_stat[1]\n",
    "\n",
    "x = liverdisease_statistic()\n",
    "x = abs((x/total) - prevalence_ld)\n",
    "# x"
   ]
  },
  {
   "cell_type": "code",
   "execution_count": 8,
   "metadata": {},
   "outputs": [
    {
     "data": {
      "text/html": [
       "<p><strong><pre style='display: inline;'>q3</pre></strong> passed!</p>"
      ],
      "text/plain": [
       "q3 results: All test cases passed!"
      ]
     },
     "execution_count": 8,
     "metadata": {},
     "output_type": "execute_result"
    }
   ],
   "source": [
    "grader.check(\"q3\")"
   ]
  },
  {
   "cell_type": "markdown",
   "metadata": {},
   "source": [
    "**Question 4**: Use this function to simulate 10000 values of the statistic under null hypothesis. Append these simulated values in the \"liverdisease_simulated_stats\" list. (7)"
   ]
  },
  {
   "cell_type": "code",
   "execution_count": 9,
   "metadata": {},
   "outputs": [
    {
     "data": {
      "text/plain": [
       "10000"
      ]
     },
     "execution_count": 9,
     "metadata": {},
     "output_type": "execute_result"
    }
   ],
   "source": [
    "liverdisease_simulated_stats = []\n",
    "\n",
    "for i in range(10000): \n",
    "    simulated_stat = liverdisease_statistic()\n",
    "    liverdisease_simulated_stats = np.append(liverdisease_simulated_stats, simulated_stat)\n",
    "\n",
    "liverdisease_simulated_stats = abs((liverdisease_simulated_stats/total) - prevalence_ld)\n",
    "\n",
    "len(liverdisease_simulated_stats)"
   ]
  },
  {
   "cell_type": "code",
   "execution_count": 10,
   "metadata": {},
   "outputs": [
    {
     "data": {
      "text/html": [
       "<p><strong><pre style='display: inline;'>q4</pre></strong> passed!</p>"
      ],
      "text/plain": [
       "q4 results: All test cases passed!"
      ]
     },
     "execution_count": 10,
     "metadata": {},
     "output_type": "execute_result"
    }
   ],
   "source": [
    "grader.check(\"q4\")"
   ]
  },
  {
   "cell_type": "markdown",
   "metadata": {},
   "source": [
    "**Question 5**: Generate a histogram of the simulated values of your statistic, along with the observed value. Label Histogram axes correctly.(4)\n",
    "\n",
    "*Explain what this histogram displays.*"
   ]
  },
  {
   "cell_type": "code",
   "execution_count": 11,
   "metadata": {
    "scrolled": true
   },
   "outputs": [
    {
     "data": {
      "image/png": "[encoded data removed]",
      "text/plain": [
       "<Figure size 432x288 with 1 Axes>"
      ]
     },
     "metadata": {},
     "output_type": "display_data"
    }
   ],
   "source": [
    "#Solution\n",
    "result = plt.hist(liverdisease_simulated_stats, density=True, color='c', edgecolor='k')\n",
    "plt.axvline(observed_liverdisease_distance, color='red', linestyle='dashed', linewidth=3)\n",
    "\n",
    "# plt.hist(liverdisease_simulated_stats)\n",
    "plt.show()"
   ]
  },
  {
   "cell_type": "markdown",
   "metadata": {},
   "source": [
    "**Question 6**: Based on the results of the test and the empirical distribution of the test statistic under the null, should you reject the null hypothesis? (2)"
   ]
  },
  {
   "cell_type": "markdown",
   "metadata": {},
   "source": [
    "The data does not favour the null hypothesis. We should reject the null hypothesis because the observed value is not falling in our histogram."
   ]
  },
  {
   "cell_type": "markdown",
   "metadata": {},
   "source": [
    "**Few Descriptive Questions regarding Sampling/Re-sampling** Please re-visit the concepts of bootstrap sampling and other sampling techniques before doing the next question."
   ]
  },
  {
   "cell_type": "markdown",
   "metadata": {},
   "source": [
    "**Question 7 (a):** Why does the resampling distribution of the difference in means approach a normal distribution? (1)"
   ]
  },
  {
   "cell_type": "markdown",
   "metadata": {},
   "source": [
    "If the difference in means gets large enough, the resampling distribution is summed over the sample which then approximates to normal distribution."
   ]
  },
  {
   "cell_type": "markdown",
   "metadata": {},
   "source": [
    "**Question 7 (b):** Write 3 advantages and 3 disadvantages of using the bootstrap sampling method? List them down. (3)"
   ]
  },
  {
   "cell_type": "markdown",
   "metadata": {},
   "source": [
    "Advantages:\n",
    "1. Checking parametric assumptions and it is used they are not made or are very complicated.\n",
    "2. Avoids the cost of taking new samples(estimate a sampling when only one sample is available).\n",
    "3. Estimation of variance in quantiles.\n",
    "\n",
    "Disadvantages:\n",
    "1. Relies on a representative sample.\n",
    "2. Problem occurs while estimating very high or very low percentiles, or min and max.\n",
    "3. Not useful when we are trying to estimate any parameter which is greatly affected by rare elements."
   ]
  },
  {
   "cell_type": "markdown",
   "metadata": {},
   "source": [
    "**Question 8:** Sample 100 instances from the dataset with replacement and print their description. (2)"
   ]
  },
  {
   "cell_type": "code",
   "execution_count": 12,
   "metadata": {},
   "outputs": [
    {
     "data": {
      "text/html": [
       "<div>\n",
       "<style scoped>\n",
       "    .dataframe tbody tr th:only-of-type {\n",
       "        vertical-align: middle;\n",
       "    }\n",
       "\n",
       "    .dataframe tbody tr th {\n",
       "        vertical-align: top;\n",
       "    }\n",
       "\n",
       "    .dataframe thead th {\n",
       "        text-align: right;\n",
       "    }\n",
       "</style>\n",
       "<table border=\"1\" class=\"dataframe\">\n",
       "  <thead>\n",
       "    <tr style=\"text-align: right;\">\n",
       "      <th></th>\n",
       "      <th>index</th>\n",
       "      <th>Age</th>\n",
       "      <th>Total_Bilirubin</th>\n",
       "      <th>Direct_Bilirubin</th>\n",
       "      <th>Alkaline_Phosphotase</th>\n",
       "      <th>Alamine_Aminotransferase</th>\n",
       "      <th>Aspartate_Aminotransferase</th>\n",
       "      <th>Total_Protiens</th>\n",
       "      <th>Albumin</th>\n",
       "      <th>Albumin_and_Globulin_Ratio</th>\n",
       "      <th>Outcome</th>\n",
       "    </tr>\n",
       "  </thead>\n",
       "  <tbody>\n",
       "    <tr>\n",
       "      <th>count</th>\n",
       "      <td>100.000000</td>\n",
       "      <td>100.00000</td>\n",
       "      <td>100.000000</td>\n",
       "      <td>100.000000</td>\n",
       "      <td>100.000000</td>\n",
       "      <td>100.000000</td>\n",
       "      <td>100.000000</td>\n",
       "      <td>100.000000</td>\n",
       "      <td>100.000000</td>\n",
       "      <td>100.000000</td>\n",
       "      <td>100.000000</td>\n",
       "    </tr>\n",
       "    <tr>\n",
       "      <th>mean</th>\n",
       "      <td>265.320000</td>\n",
       "      <td>45.92000</td>\n",
       "      <td>4.354000</td>\n",
       "      <td>2.108000</td>\n",
       "      <td>332.610000</td>\n",
       "      <td>93.210000</td>\n",
       "      <td>105.180000</td>\n",
       "      <td>6.318000</td>\n",
       "      <td>2.979000</td>\n",
       "      <td>0.881300</td>\n",
       "      <td>1.310000</td>\n",
       "    </tr>\n",
       "    <tr>\n",
       "      <th>std</th>\n",
       "      <td>172.138004</td>\n",
       "      <td>16.94297</td>\n",
       "      <td>6.604642</td>\n",
       "      <td>3.446406</td>\n",
       "      <td>340.721217</td>\n",
       "      <td>212.850367</td>\n",
       "      <td>159.326764</td>\n",
       "      <td>1.123071</td>\n",
       "      <td>0.795352</td>\n",
       "      <td>0.263702</td>\n",
       "      <td>0.464823</td>\n",
       "    </tr>\n",
       "    <tr>\n",
       "      <th>min</th>\n",
       "      <td>8.000000</td>\n",
       "      <td>7.00000</td>\n",
       "      <td>0.400000</td>\n",
       "      <td>0.100000</td>\n",
       "      <td>100.000000</td>\n",
       "      <td>10.000000</td>\n",
       "      <td>10.000000</td>\n",
       "      <td>3.900000</td>\n",
       "      <td>1.500000</td>\n",
       "      <td>0.350000</td>\n",
       "      <td>1.000000</td>\n",
       "    </tr>\n",
       "    <tr>\n",
       "      <th>25%</th>\n",
       "      <td>119.750000</td>\n",
       "      <td>34.75000</td>\n",
       "      <td>0.700000</td>\n",
       "      <td>0.200000</td>\n",
       "      <td>187.250000</td>\n",
       "      <td>24.750000</td>\n",
       "      <td>29.000000</td>\n",
       "      <td>5.500000</td>\n",
       "      <td>2.400000</td>\n",
       "      <td>0.700000</td>\n",
       "      <td>1.000000</td>\n",
       "    </tr>\n",
       "    <tr>\n",
       "      <th>50%</th>\n",
       "      <td>238.000000</td>\n",
       "      <td>45.50000</td>\n",
       "      <td>1.400000</td>\n",
       "      <td>0.550000</td>\n",
       "      <td>218.500000</td>\n",
       "      <td>37.000000</td>\n",
       "      <td>52.500000</td>\n",
       "      <td>6.500000</td>\n",
       "      <td>2.900000</td>\n",
       "      <td>0.900000</td>\n",
       "      <td>1.000000</td>\n",
       "    </tr>\n",
       "    <tr>\n",
       "      <th>75%</th>\n",
       "      <td>422.750000</td>\n",
       "      <td>60.00000</td>\n",
       "      <td>3.700000</td>\n",
       "      <td>2.350000</td>\n",
       "      <td>298.500000</td>\n",
       "      <td>61.250000</td>\n",
       "      <td>113.250000</td>\n",
       "      <td>7.000000</td>\n",
       "      <td>3.625000</td>\n",
       "      <td>1.000000</td>\n",
       "      <td>2.000000</td>\n",
       "    </tr>\n",
       "    <tr>\n",
       "      <th>max</th>\n",
       "      <td>568.000000</td>\n",
       "      <td>75.00000</td>\n",
       "      <td>30.500000</td>\n",
       "      <td>17.100000</td>\n",
       "      <td>1896.000000</td>\n",
       "      <td>1630.000000</td>\n",
       "      <td>1050.000000</td>\n",
       "      <td>8.600000</td>\n",
       "      <td>5.000000</td>\n",
       "      <td>1.850000</td>\n",
       "      <td>2.000000</td>\n",
       "    </tr>\n",
       "  </tbody>\n",
       "</table>\n",
       "</div>"
      ],
      "text/plain": [
       "            index        Age  Total_Bilirubin  Direct_Bilirubin  \\\n",
       "count  100.000000  100.00000       100.000000        100.000000   \n",
       "mean   265.320000   45.92000         4.354000          2.108000   \n",
       "std    172.138004   16.94297         6.604642          3.446406   \n",
       "min      8.000000    7.00000         0.400000          0.100000   \n",
       "25%    119.750000   34.75000         0.700000          0.200000   \n",
       "50%    238.000000   45.50000         1.400000          0.550000   \n",
       "75%    422.750000   60.00000         3.700000          2.350000   \n",
       "max    568.000000   75.00000        30.500000         17.100000   \n",
       "\n",
       "       Alkaline_Phosphotase  Alamine_Aminotransferase  \\\n",
       "count            100.000000                100.000000   \n",
       "mean             332.610000                 93.210000   \n",
       "std              340.721217                212.850367   \n",
       "min              100.000000                 10.000000   \n",
       "25%              187.250000                 24.750000   \n",
       "50%              218.500000                 37.000000   \n",
       "75%              298.500000                 61.250000   \n",
       "max             1896.000000               1630.000000   \n",
       "\n",
       "       Aspartate_Aminotransferase  Total_Protiens     Albumin  \\\n",
       "count                  100.000000      100.000000  100.000000   \n",
       "mean                   105.180000        6.318000    2.979000   \n",
       "std                    159.326764        1.123071    0.795352   \n",
       "min                     10.000000        3.900000    1.500000   \n",
       "25%                     29.000000        5.500000    2.400000   \n",
       "50%                     52.500000        6.500000    2.900000   \n",
       "75%                    113.250000        7.000000    3.625000   \n",
       "max                   1050.000000        8.600000    5.000000   \n",
       "\n",
       "       Albumin_and_Globulin_Ratio     Outcome  \n",
       "count                  100.000000  100.000000  \n",
       "mean                     0.881300    1.310000  \n",
       "std                      0.263702    0.464823  \n",
       "min                      0.350000    1.000000  \n",
       "25%                      0.700000    1.000000  \n",
       "50%                      0.900000    1.000000  \n",
       "75%                      1.000000    2.000000  \n",
       "max                      1.850000    2.000000  "
      ]
     },
     "execution_count": 12,
     "metadata": {},
     "output_type": "execute_result"
    }
   ],
   "source": [
    "#solution\n",
    "sam = df.sample(n=100, replace=True)\n",
    "desc = sam.describe()\n",
    "desc"
   ]
  },
  {
   "cell_type": "markdown",
   "metadata": {},
   "source": [
    "**Question 9:** Make a function that generates the mean \"Total Protein\"  level of the 100 patients you sampled above. Generate the mean for 1000 samples and append all values to an array/list (5)"
   ]
  },
  {
   "cell_type": "code",
   "execution_count": 13,
   "metadata": {},
   "outputs": [],
   "source": [
    "#Calculate mean of sampled data from last question\n",
    "def mean_proteins(sam):\n",
    "    meen = sam.loc['mean','Total_Protiens']\n",
    "    return meen\n",
    "\n",
    "org_mean = mean_proteins(desc)\n",
    "# print(org_mean)"
   ]
  },
  {
   "cell_type": "code",
   "execution_count": 14,
   "metadata": {},
   "outputs": [],
   "source": [
    "#Create function (Generate the mean for 1000 samples and append all values to an array/list)\n",
    "def samples(df):\n",
    "    mean_list = []\n",
    "    for i in range(1000):\n",
    "        samp = df.sample(n=100, replace=True)\n",
    "        mn = samp.describe().loc['mean','Total_Protiens']\n",
    "        mean_list.append(mn)\n",
    "    return mean_list\n",
    "\n",
    "lis = []\n",
    "lis = (samples(df))\n",
    "# lis"
   ]
  },
  {
   "cell_type": "markdown",
   "metadata": {},
   "source": [
    "**Question 10:** Call the function above and generate a histogram of the simulated values of your statistic. Also show the original mean as a line drawn on your graph. (5)\n",
    "\n",
    "*Explain what this histogram displays or any observations you make.*"
   ]
  },
  {
   "cell_type": "code",
   "execution_count": 15,
   "metadata": {},
   "outputs": [
    {
     "data": {
      "image/png": "[encoded data removed]",
      "text/plain": [
       "<Figure size 432x288 with 1 Axes>"
      ]
     },
     "metadata": {},
     "output_type": "display_data"
    }
   ],
   "source": [
    "#solution\n",
    "\n",
    "plt.xlabel(\"Sample Mean: {}\".format(round(org_mean,3)))\n",
    "plt.ylabel(\"Density\")\n",
    "plt.title(\"Distribution of list of Mean\")\n",
    "result = plt.hist(lis, density=True, color='c', edgecolor='k')\n",
    "plt.axvline(org_mean, color='red', linestyle='dashed', linewidth=3)\n",
    "plt.show()\n",
    "# The list of mean is in a range from 6.1 to 6.8. From the histogram we can see that the original mean is \n",
    "# at the red line, it is in the bounds of our histogram which means that our data favours the null hypothesis. To the \n",
    "# right of the original mean is the area of the P-value."
   ]
  },
  {
   "cell_type": "markdown",
   "metadata": {},
   "source": [
    "**Question 11:** Print the bootstrap approximated 95% confidence interval for the mean \"Total Protein\" level of the dataset. (5)"
   ]
  },
  {
   "cell_type": "code",
   "execution_count": 16,
   "metadata": {},
   "outputs": [
    {
     "name": "stdout",
     "output_type": "stream",
     "text": [
      "bootstrap approximated 95% confidence interval is : [6.267900000000004, 6.692999999999999]\n"
     ]
    }
   ],
   "source": [
    "#confidence_interval = [left,right]\n",
    "\n",
    "confidence_interval = [0, 0]\n",
    "confidence_interval[0] = np.percentile(lis, 2.5)\n",
    "confidence_interval[1] = np.percentile(lis, 97.5)\n",
    "\n",
    "\n",
    "# confidence_interval = ...\n",
    "print(\"bootstrap approximated 95% confidence interval is :\",confidence_interval)"
   ]
  },
  {
   "cell_type": "code",
   "execution_count": 17,
   "metadata": {},
   "outputs": [
    {
     "data": {
      "text/html": [
       "<p><strong><pre style='display: inline;'>q11 and q9</pre></strong> passed!</p>"
      ],
      "text/plain": [
       "q11 and q9 results: All test cases passed!"
      ]
     },
     "execution_count": 17,
     "metadata": {},
     "output_type": "execute_result"
    }
   ],
   "source": [
    "grader.check(\"q11\")"
   ]
  }
 ],
 "metadata": {
  "kernelspec": {
   "display_name": "Python 3",
   "language": "python",
   "name": "python3"
  },
  "language_info": {
   "codemirror_mode": {
    "name": "ipython",
    "version": 3
   },
   "file_extension": ".py",
   "mimetype": "text/x-python",
   "name": "python",
   "nbconvert_exporter": "python",
   "pygments_lexer": "ipython3",
   "version": "3.8.8"
  }
 },
 "nbformat": 4,
 "nbformat_minor": 2
}
