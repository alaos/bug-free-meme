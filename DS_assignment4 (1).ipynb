{
 "cells": [
  {
   "cell_type": "code",
   "execution_count": 81,
   "id": "5d215545",
   "metadata": {},
   "outputs": [],
   "source": [
    "# Initialize Otter\n",
    "import otter\n",
    "grader = otter.Notebook()"
   ]
  },
  {
   "cell_type": "markdown",
   "id": "8122ef87",
   "metadata": {},
   "source": [
    "## **Assignment Instructions**\n"
   ]
  },
  {
   "cell_type": "markdown",
   "id": "9dece19a",
   "metadata": {},
   "source": [
    "* **How to install 'otter'**: Run `pip install otter-grader` in your Anaconda Command Prompt\n",
    "* **Otter**: It is an autograder that we will be using for grading your notebooks.\n",
    "* **grader.check('qn')**: This command runs test cases for nth question `qn` provided to you and displays the result. But these are not the only test cases, these are provided just for your basic testing. There will be some *hidden test cases* on which your answers will be tested as well.\n",
    "* You are **not** allowed to edit any pre-defined variables and as per the instructions for every question you have to assign your answers to these variables.\n",
    "* Write your answers in place of `...` where prompted\n",
    "* **Ignore the last cell**\n",
    "* **How to run this on google colab**: Uncomment the below code and replace wherever necessary to run this assignment on google colab (only if you want to - jupyter notebooks work just fine)"
   ]
  },
  {
   "cell_type": "code",
   "execution_count": 82,
   "id": "57badf6f",
   "metadata": {},
   "outputs": [],
   "source": [
    "#Linking google colab to your drive folder\n",
    "#from google.colab import drive\n",
    "#drive.mount('/content/gdrive', force_remount=True)\n",
    "\n",
    "#Replace 'Assignment 4 DS' with the path of the folder of your assignment\n",
    "#%cd /content/gdrive/My\\ Drive/Assignment 4 DS"
   ]
  },
  {
   "cell_type": "markdown",
   "id": "a4d65f3f",
   "metadata": {},
   "source": [
    "## **Submission Instructions**"
   ]
  },
  {
   "cell_type": "markdown",
   "id": "153e3ba5",
   "metadata": {},
   "source": [
    "* There are two parts of this assignment. You should name both notebooks as **YourRollNumber_PartNumber.ipynb**. (e.g. this part should be named as *`2XXXXXXX_1.ipynb`*)\n",
    "* You must submit a zip file containg just two notebooks and it must not has any folder or any other file. \n",
    "* The name of the ZIP file must be your `Roll Number`"
   ]
  },
  {
   "cell_type": "markdown",
   "id": "bebca8ed",
   "metadata": {},
   "source": [
    "## Grading"
   ]
  },
  {
   "cell_type": "markdown",
   "id": "53cc57b7",
   "metadata": {},
   "source": [
    "Grading is broken down into autograded answers and free response.\n",
    "\n",
    "* For autograded answers, the results of your code are compared to provided and/or hidden tests.\n",
    "* There are default assignments in some questions, storing the state of the dataframes at the time of that particular question in '*#_q#*' variables. Do NOT change any of these assignments as they are used by the auto-grader to check your answers.\n",
    "* For free response, readers will evaluate how well you answered the question and/or fulfilled the requirements of the question.\n",
    "\n",
    "* **Note that for ALL plotting questions from here on out, we will expect appropriate titles, axis labels, legends, etc. The following question serves as a good guideline on what is \"enough\": If I directly downloaded the plot and viewed it, would I be able to tell what was being visualized without knowing the question?**"
   ]
  },
  {
   "cell_type": "markdown",
   "id": "8b4ee9ce",
   "metadata": {},
   "source": [
    "## Introduction\n",
    "\n",
    "You decide to buy a home but you are currently facing a paradox of choice - there are just too many ways of customizing it and so many options available! Do you want it to be in a busy town? In a forest? Do you want to have a basement? Or perhaps 3 stories instead? Or both? Or maybe you want a large parking area...\n",
    "\n",
    "The choices are endless, unlike your budget (unfortunately). Therefore, you decide to build a regression model which can take all such factors as input and perhaps give you some clue of just how much can you aim for - yes you do have real estate agencies for this kind of stuff but having learned what regression can do, you feel very powerful at the moment and so decide to take it into your own hands. \n",
    "\n",
    "To build such a model, you need a dataset on which this model can be trained. Luckily, there is a dataset available which can help you in answering some of your wishes.\n",
    "\n",
    "The dataset consists of information regarding home prices, along with the information of a number of other factors. The target variable is price and your task is to build a multiple linear regression model to help you predict prices and find the perfect future home for your budget."
   ]
  },
  {
   "cell_type": "code",
   "execution_count": 83,
   "id": "dbb7464b",
   "metadata": {},
   "outputs": [],
   "source": [
    "import numpy as np\n",
    "import pandas as pd\n",
    "import seaborn as sns\n",
    "import matplotlib.pyplot as plt\n",
    "from matplotlib import pyplot\n",
    "\n",
    "from sklearn.model_selection import train_test_split\n",
    "from sklearn.preprocessing import StandardScaler"
   ]
  },
  {
   "cell_type": "code",
   "execution_count": 84,
   "id": "6ef55f7b",
   "metadata": {},
   "outputs": [],
   "source": [
    "df_data = pd.read_csv('data.csv')"
   ]
  },
  {
   "cell_type": "code",
   "execution_count": 85,
   "id": "b606f7e9",
   "metadata": {},
   "outputs": [
    {
     "data": {
      "text/html": [
       "<div>\n",
       "<style scoped>\n",
       "    .dataframe tbody tr th:only-of-type {\n",
       "        vertical-align: middle;\n",
       "    }\n",
       "\n",
       "    .dataframe tbody tr th {\n",
       "        vertical-align: top;\n",
       "    }\n",
       "\n",
       "    .dataframe thead th {\n",
       "        text-align: right;\n",
       "    }\n",
       "</style>\n",
       "<table border=\"1\" class=\"dataframe\">\n",
       "  <thead>\n",
       "    <tr style=\"text-align: right;\">\n",
       "      <th></th>\n",
       "      <th>price</th>\n",
       "      <th>area</th>\n",
       "      <th>bedrooms</th>\n",
       "      <th>bathrooms</th>\n",
       "      <th>stories</th>\n",
       "      <th>mainroad</th>\n",
       "      <th>guestroom</th>\n",
       "      <th>basement</th>\n",
       "      <th>hotwaterheating</th>\n",
       "      <th>airconditioning</th>\n",
       "      <th>parking</th>\n",
       "      <th>prefarea</th>\n",
       "      <th>furnishingstatus</th>\n",
       "    </tr>\n",
       "  </thead>\n",
       "  <tbody>\n",
       "    <tr>\n",
       "      <th>0</th>\n",
       "      <td>13300000</td>\n",
       "      <td>7420</td>\n",
       "      <td>4</td>\n",
       "      <td>2</td>\n",
       "      <td>3</td>\n",
       "      <td>yes</td>\n",
       "      <td>no</td>\n",
       "      <td>no</td>\n",
       "      <td>no</td>\n",
       "      <td>yes</td>\n",
       "      <td>2</td>\n",
       "      <td>yes</td>\n",
       "      <td>furnished</td>\n",
       "    </tr>\n",
       "    <tr>\n",
       "      <th>1</th>\n",
       "      <td>12250000</td>\n",
       "      <td>8960</td>\n",
       "      <td>4</td>\n",
       "      <td>4</td>\n",
       "      <td>4</td>\n",
       "      <td>yes</td>\n",
       "      <td>no</td>\n",
       "      <td>no</td>\n",
       "      <td>no</td>\n",
       "      <td>yes</td>\n",
       "      <td>3</td>\n",
       "      <td>no</td>\n",
       "      <td>furnished</td>\n",
       "    </tr>\n",
       "    <tr>\n",
       "      <th>2</th>\n",
       "      <td>12250000</td>\n",
       "      <td>9960</td>\n",
       "      <td>3</td>\n",
       "      <td>2</td>\n",
       "      <td>2</td>\n",
       "      <td>yes</td>\n",
       "      <td>no</td>\n",
       "      <td>yes</td>\n",
       "      <td>no</td>\n",
       "      <td>no</td>\n",
       "      <td>2</td>\n",
       "      <td>yes</td>\n",
       "      <td>semi-furnished</td>\n",
       "    </tr>\n",
       "    <tr>\n",
       "      <th>3</th>\n",
       "      <td>12215000</td>\n",
       "      <td>7500</td>\n",
       "      <td>4</td>\n",
       "      <td>2</td>\n",
       "      <td>2</td>\n",
       "      <td>yes</td>\n",
       "      <td>no</td>\n",
       "      <td>yes</td>\n",
       "      <td>no</td>\n",
       "      <td>yes</td>\n",
       "      <td>3</td>\n",
       "      <td>yes</td>\n",
       "      <td>furnished</td>\n",
       "    </tr>\n",
       "    <tr>\n",
       "      <th>4</th>\n",
       "      <td>11410000</td>\n",
       "      <td>7420</td>\n",
       "      <td>4</td>\n",
       "      <td>1</td>\n",
       "      <td>2</td>\n",
       "      <td>yes</td>\n",
       "      <td>yes</td>\n",
       "      <td>yes</td>\n",
       "      <td>no</td>\n",
       "      <td>yes</td>\n",
       "      <td>2</td>\n",
       "      <td>no</td>\n",
       "      <td>furnished</td>\n",
       "    </tr>\n",
       "    <tr>\n",
       "      <th>...</th>\n",
       "      <td>...</td>\n",
       "      <td>...</td>\n",
       "      <td>...</td>\n",
       "      <td>...</td>\n",
       "      <td>...</td>\n",
       "      <td>...</td>\n",
       "      <td>...</td>\n",
       "      <td>...</td>\n",
       "      <td>...</td>\n",
       "      <td>...</td>\n",
       "      <td>...</td>\n",
       "      <td>...</td>\n",
       "      <td>...</td>\n",
       "    </tr>\n",
       "    <tr>\n",
       "      <th>540</th>\n",
       "      <td>1820000</td>\n",
       "      <td>3000</td>\n",
       "      <td>2</td>\n",
       "      <td>1</td>\n",
       "      <td>1</td>\n",
       "      <td>yes</td>\n",
       "      <td>no</td>\n",
       "      <td>yes</td>\n",
       "      <td>no</td>\n",
       "      <td>no</td>\n",
       "      <td>2</td>\n",
       "      <td>no</td>\n",
       "      <td>unfurnished</td>\n",
       "    </tr>\n",
       "    <tr>\n",
       "      <th>541</th>\n",
       "      <td>1767150</td>\n",
       "      <td>2400</td>\n",
       "      <td>3</td>\n",
       "      <td>1</td>\n",
       "      <td>1</td>\n",
       "      <td>no</td>\n",
       "      <td>no</td>\n",
       "      <td>no</td>\n",
       "      <td>no</td>\n",
       "      <td>no</td>\n",
       "      <td>0</td>\n",
       "      <td>no</td>\n",
       "      <td>semi-furnished</td>\n",
       "    </tr>\n",
       "    <tr>\n",
       "      <th>542</th>\n",
       "      <td>1750000</td>\n",
       "      <td>3620</td>\n",
       "      <td>2</td>\n",
       "      <td>1</td>\n",
       "      <td>1</td>\n",
       "      <td>yes</td>\n",
       "      <td>no</td>\n",
       "      <td>no</td>\n",
       "      <td>no</td>\n",
       "      <td>no</td>\n",
       "      <td>0</td>\n",
       "      <td>no</td>\n",
       "      <td>unfurnished</td>\n",
       "    </tr>\n",
       "    <tr>\n",
       "      <th>543</th>\n",
       "      <td>1750000</td>\n",
       "      <td>2910</td>\n",
       "      <td>3</td>\n",
       "      <td>1</td>\n",
       "      <td>1</td>\n",
       "      <td>no</td>\n",
       "      <td>no</td>\n",
       "      <td>no</td>\n",
       "      <td>no</td>\n",
       "      <td>no</td>\n",
       "      <td>0</td>\n",
       "      <td>no</td>\n",
       "      <td>furnished</td>\n",
       "    </tr>\n",
       "    <tr>\n",
       "      <th>544</th>\n",
       "      <td>1750000</td>\n",
       "      <td>3850</td>\n",
       "      <td>3</td>\n",
       "      <td>1</td>\n",
       "      <td>2</td>\n",
       "      <td>yes</td>\n",
       "      <td>no</td>\n",
       "      <td>no</td>\n",
       "      <td>no</td>\n",
       "      <td>no</td>\n",
       "      <td>0</td>\n",
       "      <td>no</td>\n",
       "      <td>unfurnished</td>\n",
       "    </tr>\n",
       "  </tbody>\n",
       "</table>\n",
       "<p>545 rows × 13 columns</p>\n",
       "</div>"
      ],
      "text/plain": [
       "        price  area  bedrooms  bathrooms  stories mainroad guestroom basement  \\\n",
       "0    13300000  7420         4          2        3      yes        no       no   \n",
       "1    12250000  8960         4          4        4      yes        no       no   \n",
       "2    12250000  9960         3          2        2      yes        no      yes   \n",
       "3    12215000  7500         4          2        2      yes        no      yes   \n",
       "4    11410000  7420         4          1        2      yes       yes      yes   \n",
       "..        ...   ...       ...        ...      ...      ...       ...      ...   \n",
       "540   1820000  3000         2          1        1      yes        no      yes   \n",
       "541   1767150  2400         3          1        1       no        no       no   \n",
       "542   1750000  3620         2          1        1      yes        no       no   \n",
       "543   1750000  2910         3          1        1       no        no       no   \n",
       "544   1750000  3850         3          1        2      yes        no       no   \n",
       "\n",
       "    hotwaterheating airconditioning  parking prefarea furnishingstatus  \n",
       "0                no             yes        2      yes        furnished  \n",
       "1                no             yes        3       no        furnished  \n",
       "2                no              no        2      yes   semi-furnished  \n",
       "3                no             yes        3      yes        furnished  \n",
       "4                no             yes        2       no        furnished  \n",
       "..              ...             ...      ...      ...              ...  \n",
       "540              no              no        2       no      unfurnished  \n",
       "541              no              no        0       no   semi-furnished  \n",
       "542              no              no        0       no      unfurnished  \n",
       "543              no              no        0       no        furnished  \n",
       "544              no              no        0       no      unfurnished  \n",
       "\n",
       "[545 rows x 13 columns]"
      ]
     },
     "execution_count": 85,
     "metadata": {},
     "output_type": "execute_result"
    }
   ],
   "source": [
    "df_data"
   ]
  },
  {
   "cell_type": "markdown",
   "id": "873d7e2b",
   "metadata": {},
   "source": [
    "## **Data Cleaning & Pre-processing**\n",
    "\n",
    "**Question 1:** We will first examine our dataset using the shape and and summary function, also observing whether the dataset requires cleaning. Use the cell below to check if the dataset requires any. If so, feel free to do so.\n",
    "\n",
    "*Answering Guidelines:* Store your final dataset in the ```df_q1``` variable and the output of the functions in the appropriate variables after cleaning (if applicable).\n",
    "\n",
    "<!--\n",
    "BEGIN QUESTION\n",
    "name: q1\n",
    "points: 2\n",
    "-->"
   ]
  },
  {
   "cell_type": "code",
   "execution_count": 86,
   "id": "ee013fe9",
   "metadata": {},
   "outputs": [
    {
     "data": {
      "text/html": [
       "<div>\n",
       "<style scoped>\n",
       "    .dataframe tbody tr th:only-of-type {\n",
       "        vertical-align: middle;\n",
       "    }\n",
       "\n",
       "    .dataframe tbody tr th {\n",
       "        vertical-align: top;\n",
       "    }\n",
       "\n",
       "    .dataframe thead th {\n",
       "        text-align: right;\n",
       "    }\n",
       "</style>\n",
       "<table border=\"1\" class=\"dataframe\">\n",
       "  <thead>\n",
       "    <tr style=\"text-align: right;\">\n",
       "      <th></th>\n",
       "      <th>price</th>\n",
       "      <th>area</th>\n",
       "      <th>bedrooms</th>\n",
       "      <th>bathrooms</th>\n",
       "      <th>stories</th>\n",
       "      <th>parking</th>\n",
       "    </tr>\n",
       "  </thead>\n",
       "  <tbody>\n",
       "    <tr>\n",
       "      <th>count</th>\n",
       "      <td>5.450000e+02</td>\n",
       "      <td>545.000000</td>\n",
       "      <td>545.000000</td>\n",
       "      <td>545.000000</td>\n",
       "      <td>545.000000</td>\n",
       "      <td>545.000000</td>\n",
       "    </tr>\n",
       "    <tr>\n",
       "      <th>mean</th>\n",
       "      <td>4.766729e+06</td>\n",
       "      <td>5150.541284</td>\n",
       "      <td>2.965138</td>\n",
       "      <td>1.286239</td>\n",
       "      <td>1.805505</td>\n",
       "      <td>0.693578</td>\n",
       "    </tr>\n",
       "    <tr>\n",
       "      <th>std</th>\n",
       "      <td>1.870440e+06</td>\n",
       "      <td>2170.141023</td>\n",
       "      <td>0.738064</td>\n",
       "      <td>0.502470</td>\n",
       "      <td>0.867492</td>\n",
       "      <td>0.861586</td>\n",
       "    </tr>\n",
       "    <tr>\n",
       "      <th>min</th>\n",
       "      <td>1.750000e+06</td>\n",
       "      <td>1650.000000</td>\n",
       "      <td>1.000000</td>\n",
       "      <td>1.000000</td>\n",
       "      <td>1.000000</td>\n",
       "      <td>0.000000</td>\n",
       "    </tr>\n",
       "    <tr>\n",
       "      <th>25%</th>\n",
       "      <td>3.430000e+06</td>\n",
       "      <td>3600.000000</td>\n",
       "      <td>2.000000</td>\n",
       "      <td>1.000000</td>\n",
       "      <td>1.000000</td>\n",
       "      <td>0.000000</td>\n",
       "    </tr>\n",
       "    <tr>\n",
       "      <th>50%</th>\n",
       "      <td>4.340000e+06</td>\n",
       "      <td>4600.000000</td>\n",
       "      <td>3.000000</td>\n",
       "      <td>1.000000</td>\n",
       "      <td>2.000000</td>\n",
       "      <td>0.000000</td>\n",
       "    </tr>\n",
       "    <tr>\n",
       "      <th>75%</th>\n",
       "      <td>5.740000e+06</td>\n",
       "      <td>6360.000000</td>\n",
       "      <td>3.000000</td>\n",
       "      <td>2.000000</td>\n",
       "      <td>2.000000</td>\n",
       "      <td>1.000000</td>\n",
       "    </tr>\n",
       "    <tr>\n",
       "      <th>max</th>\n",
       "      <td>1.330000e+07</td>\n",
       "      <td>16200.000000</td>\n",
       "      <td>6.000000</td>\n",
       "      <td>4.000000</td>\n",
       "      <td>4.000000</td>\n",
       "      <td>3.000000</td>\n",
       "    </tr>\n",
       "  </tbody>\n",
       "</table>\n",
       "</div>"
      ],
      "text/plain": [
       "              price          area    bedrooms   bathrooms     stories  \\\n",
       "count  5.450000e+02    545.000000  545.000000  545.000000  545.000000   \n",
       "mean   4.766729e+06   5150.541284    2.965138    1.286239    1.805505   \n",
       "std    1.870440e+06   2170.141023    0.738064    0.502470    0.867492   \n",
       "min    1.750000e+06   1650.000000    1.000000    1.000000    1.000000   \n",
       "25%    3.430000e+06   3600.000000    2.000000    1.000000    1.000000   \n",
       "50%    4.340000e+06   4600.000000    3.000000    1.000000    2.000000   \n",
       "75%    5.740000e+06   6360.000000    3.000000    2.000000    2.000000   \n",
       "max    1.330000e+07  16200.000000    6.000000    4.000000    4.000000   \n",
       "\n",
       "          parking  \n",
       "count  545.000000  \n",
       "mean     0.693578  \n",
       "std      0.861586  \n",
       "min      0.000000  \n",
       "25%      0.000000  \n",
       "50%      0.000000  \n",
       "75%      1.000000  \n",
       "max      3.000000  "
      ]
     },
     "execution_count": 86,
     "metadata": {},
     "output_type": "execute_result"
    }
   ],
   "source": [
    "df_data = df_data.dropna()\n",
    "df_shape = df_data.shape\n",
    "df_summary = df_data.describe()\n",
    "\n",
    "df_q1 = df_data\n",
    "df_summary"
   ]
  },
  {
   "cell_type": "code",
   "execution_count": 87,
   "id": "15008a13",
   "metadata": {},
   "outputs": [
    {
     "data": {
      "text/html": [
       "<p><strong><pre style='display: inline;'>q1</pre></strong> passed!</p>"
      ],
      "text/plain": [
       "q1 results: All test cases passed!"
      ]
     },
     "execution_count": 87,
     "metadata": {},
     "output_type": "execute_result"
    }
   ],
   "source": [
    "grader.check(\"q1\")"
   ]
  },
  {
   "cell_type": "markdown",
   "id": "67a6cfb4",
   "metadata": {},
   "source": [
    "<!-- BEGIN QUESTION -->\n",
    "\n",
    "**Question 2:** Use your understanding of data visualization to draw a suitable graph that will detect if any variable\n",
    "has outliers. Please remove the outliers from each variables if detected\n",
    "\n",
    "*Answering guidelines:* Follow the instructions given in the 'Grading' section with regards to plots. Make sure to draw boxplots for each variable. To understand what an outlier is, please read this: https://www.itl.nist.gov/div898/handbook/prc/section1/prc16.htm\n",
    "\n",
    "<!--\n",
    "BEGIN QUESTION\n",
    "name: q2\n",
    "points: 5\n",
    "manual: true\n",
    "-->"
   ]
  },
  {
   "cell_type": "code",
   "execution_count": 88,
   "id": "09d74c77",
   "metadata": {},
   "outputs": [
    {
     "data": {
      "image/png": "[encoded data removed]",
      "text/plain": [
       "<Figure size 1800x720 with 6 Axes>"
      ]
     },
     "metadata": {
      "needs_background": "light"
     },
     "output_type": "display_data"
    }
   ],
   "source": [
    "fig, axs = plt.subplots(1, 5, figsize = (25, 10))\n",
    "\n",
    "plt.subplot(1, 6, 1)\n",
    "plt.title('price of houses')\n",
    "plt.boxplot(df_data['price'])\n",
    "df_data.drop(df_data[df_data['price'] > 9205000].index, inplace=True)\n",
    "plt.ylabel('price')\n",
    "df_data.reset_index(drop=True, inplace = True)\n",
    "\n",
    "plt.subplot(1, 6, 2)\n",
    "plt.title('area of house')\n",
    "plt.boxplot(df_data['area'])\n",
    "df_data.drop(df_data[df_data['area'] > 9000].index, inplace=True)\n",
    "plt.ylabel('Area')\n",
    "df_data.reset_index(drop=True, inplace = True)\n",
    "\n",
    "plt.subplot(1, 6, 3)\n",
    "plt.title('bedrooms in house')\n",
    "plt.boxplot(df_data['bedrooms'])\n",
    "df_data.drop(df_data[df_data['bedrooms'] > 4.5].index, inplace=True)\n",
    "plt.ylabel('number of bedrooms')\n",
    "df_data.reset_index(drop=True, inplace = True)\n",
    "\n",
    "plt.subplot(1, 6, 4)\n",
    "plt.title('bathrooms')\n",
    "plt.boxplot(df_data['bathrooms'])\n",
    "df_data.drop(df_data[df_data['bathrooms'] > 3.5].index, inplace=True)\n",
    "plt.ylabel('number of bathrooms')\n",
    "df_data.reset_index(drop=True, inplace = True)\n",
    "\n",
    "plt.subplot(1, 6, 5)\n",
    "plt.title('stories')\n",
    "plt.boxplot(df_data['stories'])\n",
    "df_data.drop(df_data[df_data['stories'] > 3.5].index, inplace=True)\n",
    "plt.ylabel('number of stories')\n",
    "df_data.reset_index(drop=True, inplace = True)\n",
    "\n",
    "plt.subplot(1, 6, 6)\n",
    "plt.title('parking')\n",
    "plt.boxplot(df_data['parking'])\n",
    "df_data.drop(df_data[df_data['parking'] > 2.5].index, inplace=True)\n",
    "plt.ylabel('size of parking')\n",
    "df_data.reset_index(drop=True, inplace = True)\n",
    "\n",
    "plt.show()\n"
   ]
  },
  {
   "cell_type": "markdown",
   "id": "15f3392c",
   "metadata": {},
   "source": [
    "## Simple Linear Regression"
   ]
  },
  {
   "cell_type": "markdown",
   "id": "faef738a",
   "metadata": {},
   "source": [
    "<!-- END QUESTION -->\n",
    "\n",
    "**Question 3:** To build a linear regression model, you need to make sure that all of your data is numeric. Therefore, apart from the ```furnishingstatus``` column, convert all qualitative columns to a one-hot encoding. The ```furnishingstatus``` column has three classes, all of which would need to be converted into a one-hot encoding. Use ```.get_dummies``` function in the pandas library to convert variables like ```furnishingstatus``` based on the different categories present. \n",
    "\n",
    "*Answering Guidelines:* Make sure ```df_data``` stores the final dataframe for it to be stored in ```df_q3```. Otherwise, simply assign the dataframe with encodings to the variable.\n",
    "\n",
    "<!--\n",
    "BEGIN QUESTION\n",
    "name: q3\n",
    "points: 3\n",
    "-->"
   ]
  },
  {
   "cell_type": "code",
   "execution_count": 89,
   "id": "cfebc56b",
   "metadata": {},
   "outputs": [
    {
     "data": {
      "text/html": [
       "<div>\n",
       "<style scoped>\n",
       "    .dataframe tbody tr th:only-of-type {\n",
       "        vertical-align: middle;\n",
       "    }\n",
       "\n",
       "    .dataframe tbody tr th {\n",
       "        vertical-align: top;\n",
       "    }\n",
       "\n",
       "    .dataframe thead th {\n",
       "        text-align: right;\n",
       "    }\n",
       "</style>\n",
       "<table border=\"1\" class=\"dataframe\">\n",
       "  <thead>\n",
       "    <tr style=\"text-align: right;\">\n",
       "      <th></th>\n",
       "      <th>price</th>\n",
       "      <th>area</th>\n",
       "      <th>bedrooms</th>\n",
       "      <th>bathrooms</th>\n",
       "      <th>stories</th>\n",
       "      <th>mainroad</th>\n",
       "      <th>guestroom</th>\n",
       "      <th>basement</th>\n",
       "      <th>hotwaterheating</th>\n",
       "      <th>airconditioning</th>\n",
       "      <th>parking</th>\n",
       "      <th>prefarea</th>\n",
       "      <th>furnished</th>\n",
       "      <th>semi-furnished</th>\n",
       "      <th>unfurnished</th>\n",
       "    </tr>\n",
       "  </thead>\n",
       "  <tbody>\n",
       "    <tr>\n",
       "      <th>0</th>\n",
       "      <td>9100000</td>\n",
       "      <td>6000</td>\n",
       "      <td>4</td>\n",
       "      <td>1</td>\n",
       "      <td>2</td>\n",
       "      <td>1</td>\n",
       "      <td>0</td>\n",
       "      <td>1</td>\n",
       "      <td>0</td>\n",
       "      <td>0</td>\n",
       "      <td>2</td>\n",
       "      <td>0</td>\n",
       "      <td>0</td>\n",
       "      <td>1</td>\n",
       "      <td>0</td>\n",
       "    </tr>\n",
       "    <tr>\n",
       "      <th>1</th>\n",
       "      <td>9100000</td>\n",
       "      <td>6600</td>\n",
       "      <td>4</td>\n",
       "      <td>2</td>\n",
       "      <td>2</td>\n",
       "      <td>1</td>\n",
       "      <td>1</td>\n",
       "      <td>1</td>\n",
       "      <td>0</td>\n",
       "      <td>1</td>\n",
       "      <td>1</td>\n",
       "      <td>1</td>\n",
       "      <td>0</td>\n",
       "      <td>0</td>\n",
       "      <td>1</td>\n",
       "    </tr>\n",
       "    <tr>\n",
       "      <th>2</th>\n",
       "      <td>8890000</td>\n",
       "      <td>4600</td>\n",
       "      <td>3</td>\n",
       "      <td>2</td>\n",
       "      <td>2</td>\n",
       "      <td>1</td>\n",
       "      <td>1</td>\n",
       "      <td>0</td>\n",
       "      <td>0</td>\n",
       "      <td>1</td>\n",
       "      <td>2</td>\n",
       "      <td>0</td>\n",
       "      <td>1</td>\n",
       "      <td>0</td>\n",
       "      <td>0</td>\n",
       "    </tr>\n",
       "    <tr>\n",
       "      <th>3</th>\n",
       "      <td>8855000</td>\n",
       "      <td>6420</td>\n",
       "      <td>3</td>\n",
       "      <td>2</td>\n",
       "      <td>2</td>\n",
       "      <td>1</td>\n",
       "      <td>0</td>\n",
       "      <td>0</td>\n",
       "      <td>0</td>\n",
       "      <td>1</td>\n",
       "      <td>1</td>\n",
       "      <td>1</td>\n",
       "      <td>0</td>\n",
       "      <td>1</td>\n",
       "      <td>0</td>\n",
       "    </tr>\n",
       "    <tr>\n",
       "      <th>4</th>\n",
       "      <td>8750000</td>\n",
       "      <td>4320</td>\n",
       "      <td>3</td>\n",
       "      <td>1</td>\n",
       "      <td>2</td>\n",
       "      <td>1</td>\n",
       "      <td>0</td>\n",
       "      <td>1</td>\n",
       "      <td>1</td>\n",
       "      <td>0</td>\n",
       "      <td>2</td>\n",
       "      <td>0</td>\n",
       "      <td>0</td>\n",
       "      <td>1</td>\n",
       "      <td>0</td>\n",
       "    </tr>\n",
       "    <tr>\n",
       "      <th>...</th>\n",
       "      <td>...</td>\n",
       "      <td>...</td>\n",
       "      <td>...</td>\n",
       "      <td>...</td>\n",
       "      <td>...</td>\n",
       "      <td>...</td>\n",
       "      <td>...</td>\n",
       "      <td>...</td>\n",
       "      <td>...</td>\n",
       "      <td>...</td>\n",
       "      <td>...</td>\n",
       "      <td>...</td>\n",
       "      <td>...</td>\n",
       "      <td>...</td>\n",
       "      <td>...</td>\n",
       "    </tr>\n",
       "    <tr>\n",
       "      <th>447</th>\n",
       "      <td>1820000</td>\n",
       "      <td>3000</td>\n",
       "      <td>2</td>\n",
       "      <td>1</td>\n",
       "      <td>1</td>\n",
       "      <td>1</td>\n",
       "      <td>0</td>\n",
       "      <td>1</td>\n",
       "      <td>0</td>\n",
       "      <td>0</td>\n",
       "      <td>2</td>\n",
       "      <td>0</td>\n",
       "      <td>0</td>\n",
       "      <td>0</td>\n",
       "      <td>1</td>\n",
       "    </tr>\n",
       "    <tr>\n",
       "      <th>448</th>\n",
       "      <td>1767150</td>\n",
       "      <td>2400</td>\n",
       "      <td>3</td>\n",
       "      <td>1</td>\n",
       "      <td>1</td>\n",
       "      <td>0</td>\n",
       "      <td>0</td>\n",
       "      <td>0</td>\n",
       "      <td>0</td>\n",
       "      <td>0</td>\n",
       "      <td>0</td>\n",
       "      <td>0</td>\n",
       "      <td>0</td>\n",
       "      <td>1</td>\n",
       "      <td>0</td>\n",
       "    </tr>\n",
       "    <tr>\n",
       "      <th>449</th>\n",
       "      <td>1750000</td>\n",
       "      <td>3620</td>\n",
       "      <td>2</td>\n",
       "      <td>1</td>\n",
       "      <td>1</td>\n",
       "      <td>1</td>\n",
       "      <td>0</td>\n",
       "      <td>0</td>\n",
       "      <td>0</td>\n",
       "      <td>0</td>\n",
       "      <td>0</td>\n",
       "      <td>0</td>\n",
       "      <td>0</td>\n",
       "      <td>0</td>\n",
       "      <td>1</td>\n",
       "    </tr>\n",
       "    <tr>\n",
       "      <th>450</th>\n",
       "      <td>1750000</td>\n",
       "      <td>2910</td>\n",
       "      <td>3</td>\n",
       "      <td>1</td>\n",
       "      <td>1</td>\n",
       "      <td>0</td>\n",
       "      <td>0</td>\n",
       "      <td>0</td>\n",
       "      <td>0</td>\n",
       "      <td>0</td>\n",
       "      <td>0</td>\n",
       "      <td>0</td>\n",
       "      <td>1</td>\n",
       "      <td>0</td>\n",
       "      <td>0</td>\n",
       "    </tr>\n",
       "    <tr>\n",
       "      <th>451</th>\n",
       "      <td>1750000</td>\n",
       "      <td>3850</td>\n",
       "      <td>3</td>\n",
       "      <td>1</td>\n",
       "      <td>2</td>\n",
       "      <td>1</td>\n",
       "      <td>0</td>\n",
       "      <td>0</td>\n",
       "      <td>0</td>\n",
       "      <td>0</td>\n",
       "      <td>0</td>\n",
       "      <td>0</td>\n",
       "      <td>0</td>\n",
       "      <td>0</td>\n",
       "      <td>1</td>\n",
       "    </tr>\n",
       "  </tbody>\n",
       "</table>\n",
       "<p>452 rows × 15 columns</p>\n",
       "</div>"
      ],
      "text/plain": [
       "       price  area  bedrooms  bathrooms  stories  mainroad  guestroom  \\\n",
       "0    9100000  6000         4          1        2         1          0   \n",
       "1    9100000  6600         4          2        2         1          1   \n",
       "2    8890000  4600         3          2        2         1          1   \n",
       "3    8855000  6420         3          2        2         1          0   \n",
       "4    8750000  4320         3          1        2         1          0   \n",
       "..       ...   ...       ...        ...      ...       ...        ...   \n",
       "447  1820000  3000         2          1        1         1          0   \n",
       "448  1767150  2400         3          1        1         0          0   \n",
       "449  1750000  3620         2          1        1         1          0   \n",
       "450  1750000  2910         3          1        1         0          0   \n",
       "451  1750000  3850         3          1        2         1          0   \n",
       "\n",
       "     basement  hotwaterheating  airconditioning  parking  prefarea  furnished  \\\n",
       "0           1                0                0        2         0          0   \n",
       "1           1                0                1        1         1          0   \n",
       "2           0                0                1        2         0          1   \n",
       "3           0                0                1        1         1          0   \n",
       "4           1                1                0        2         0          0   \n",
       "..        ...              ...              ...      ...       ...        ...   \n",
       "447         1                0                0        2         0          0   \n",
       "448         0                0                0        0         0          0   \n",
       "449         0                0                0        0         0          0   \n",
       "450         0                0                0        0         0          1   \n",
       "451         0                0                0        0         0          0   \n",
       "\n",
       "     semi-furnished  unfurnished  \n",
       "0                 1            0  \n",
       "1                 0            1  \n",
       "2                 0            0  \n",
       "3                 1            0  \n",
       "4                 1            0  \n",
       "..              ...          ...  \n",
       "447               0            1  \n",
       "448               1            0  \n",
       "449               0            1  \n",
       "450               0            0  \n",
       "451               0            1  \n",
       "\n",
       "[452 rows x 15 columns]"
      ]
     },
     "execution_count": 89,
     "metadata": {},
     "output_type": "execute_result"
    }
   ],
   "source": [
    "...\n",
    "df_data.loc[:,'mainroad'].replace({\"no\":0, \"yes\":1}, inplace=True)\n",
    "df_data.loc[:,'guestroom'].replace({\"no\":0, \"yes\":1}, inplace=True)\n",
    "df_data.loc[:,'hotwaterheating'].replace({\"no\":0, \"yes\":1}, inplace=True)\n",
    "df_data.loc[:,'airconditioning'].replace({\"no\":0, \"yes\":1}, inplace=True)\n",
    "df_data.loc[:,'prefarea'].replace({\"no\":0, \"yes\":1}, inplace=True)\n",
    "df_data.loc[:,'basement'].replace({\"no\":0, \"yes\":1}, inplace=True)\n",
    "lis = df_data.loc[:,'furnishingstatus'].tolist()#get_dummies()\n",
    "df2 = (pd.get_dummies(lis))\n",
    "\n",
    "df_data = df_data.merge(df2, left_index=True, right_index=True)\n",
    "df_data.drop(['furnishingstatus'], inplace=True, axis=1)\n",
    "df_q3 = df_data\n",
    "df_q3"
   ]
  },
  {
   "cell_type": "code",
   "execution_count": 90,
   "id": "da208e0c",
   "metadata": {},
   "outputs": [
    {
     "data": {
      "text/html": [
       "<p><strong><pre style='display: inline;'>q3</pre></strong> passed!</p>"
      ],
      "text/plain": [
       "q3 results: All test cases passed!"
      ]
     },
     "execution_count": 90,
     "metadata": {},
     "output_type": "execute_result"
    }
   ],
   "source": [
    "grader.check(\"q3\")"
   ]
  },
  {
   "cell_type": "markdown",
   "id": "199ad7fe",
   "metadata": {},
   "source": [
    "<!-- BEGIN QUESTION -->\n",
    "\n",
    "**Question 4:** We can choose to drop any feature from the dataset which we think is not important. Devise a method which will help you figure out a way to see which features should be dropped and explain why. Explain your method properly. Name the features which should be removed. (Don't remove any feature from the dataset).\n",
    "\n",
    "*Answering Guidelines:* Follow the instructions given in the 'Grading' section with regards to plots.\n",
    "\n",
    "<!--\n",
    "BEGIN QUESTION\n",
    "name: q4\n",
    "points: 2\n",
    "manual: true\n",
    "-->"
   ]
  },
  {
   "cell_type": "code",
   "execution_count": 91,
   "id": "0c813f45",
   "metadata": {},
   "outputs": [
    {
     "data": {
      "text/html": [
       "<div>\n",
       "<style scoped>\n",
       "    .dataframe tbody tr th:only-of-type {\n",
       "        vertical-align: middle;\n",
       "    }\n",
       "\n",
       "    .dataframe tbody tr th {\n",
       "        vertical-align: top;\n",
       "    }\n",
       "\n",
       "    .dataframe thead th {\n",
       "        text-align: right;\n",
       "    }\n",
       "</style>\n",
       "<table border=\"1\" class=\"dataframe\">\n",
       "  <thead>\n",
       "    <tr style=\"text-align: right;\">\n",
       "      <th></th>\n",
       "      <th>price</th>\n",
       "      <th>area</th>\n",
       "      <th>bedrooms</th>\n",
       "      <th>bathrooms</th>\n",
       "      <th>stories</th>\n",
       "      <th>mainroad</th>\n",
       "      <th>guestroom</th>\n",
       "      <th>basement</th>\n",
       "      <th>hotwaterheating</th>\n",
       "      <th>airconditioning</th>\n",
       "      <th>parking</th>\n",
       "      <th>prefarea</th>\n",
       "      <th>furnished</th>\n",
       "      <th>semi-furnished</th>\n",
       "      <th>unfurnished</th>\n",
       "    </tr>\n",
       "  </thead>\n",
       "  <tbody>\n",
       "    <tr>\n",
       "      <th>price</th>\n",
       "      <td>1.000000</td>\n",
       "      <td>0.526616</td>\n",
       "      <td>0.341450</td>\n",
       "      <td>0.411164</td>\n",
       "      <td>0.245368</td>\n",
       "      <td>0.293099</td>\n",
       "      <td>0.336205</td>\n",
       "      <td>0.289990</td>\n",
       "      <td>0.088361</td>\n",
       "      <td>0.417678</td>\n",
       "      <td>0.322134</td>\n",
       "      <td>0.344330</td>\n",
       "      <td>0.177605</td>\n",
       "      <td>0.150439</td>\n",
       "      <td>-0.312503</td>\n",
       "    </tr>\n",
       "    <tr>\n",
       "      <th>area</th>\n",
       "      <td>0.526616</td>\n",
       "      <td>1.000000</td>\n",
       "      <td>0.111081</td>\n",
       "      <td>0.105444</td>\n",
       "      <td>-0.067233</td>\n",
       "      <td>0.274393</td>\n",
       "      <td>0.240780</td>\n",
       "      <td>0.090977</td>\n",
       "      <td>-0.011559</td>\n",
       "      <td>0.261199</td>\n",
       "      <td>0.267046</td>\n",
       "      <td>0.215318</td>\n",
       "      <td>0.115742</td>\n",
       "      <td>0.009026</td>\n",
       "      <td>-0.111507</td>\n",
       "    </tr>\n",
       "    <tr>\n",
       "      <th>bedrooms</th>\n",
       "      <td>0.341450</td>\n",
       "      <td>0.111081</td>\n",
       "      <td>1.000000</td>\n",
       "      <td>0.324756</td>\n",
       "      <td>0.466107</td>\n",
       "      <td>-0.013757</td>\n",
       "      <td>0.054601</td>\n",
       "      <td>0.137671</td>\n",
       "      <td>0.014400</td>\n",
       "      <td>0.171655</td>\n",
       "      <td>0.101268</td>\n",
       "      <td>0.140866</td>\n",
       "      <td>0.031767</td>\n",
       "      <td>0.104924</td>\n",
       "      <td>-0.136658</td>\n",
       "    </tr>\n",
       "    <tr>\n",
       "      <th>bathrooms</th>\n",
       "      <td>0.411164</td>\n",
       "      <td>0.105444</td>\n",
       "      <td>0.324756</td>\n",
       "      <td>1.000000</td>\n",
       "      <td>0.191962</td>\n",
       "      <td>-0.002368</td>\n",
       "      <td>0.151862</td>\n",
       "      <td>0.183197</td>\n",
       "      <td>0.040856</td>\n",
       "      <td>0.131378</td>\n",
       "      <td>0.111745</td>\n",
       "      <td>0.067589</td>\n",
       "      <td>0.065407</td>\n",
       "      <td>0.059392</td>\n",
       "      <td>-0.119216</td>\n",
       "    </tr>\n",
       "    <tr>\n",
       "      <th>stories</th>\n",
       "      <td>0.245368</td>\n",
       "      <td>-0.067233</td>\n",
       "      <td>0.466107</td>\n",
       "      <td>0.191962</td>\n",
       "      <td>1.000000</td>\n",
       "      <td>0.072263</td>\n",
       "      <td>-0.028502</td>\n",
       "      <td>-0.082977</td>\n",
       "      <td>0.077512</td>\n",
       "      <td>0.149956</td>\n",
       "      <td>-0.059267</td>\n",
       "      <td>0.070181</td>\n",
       "      <td>0.051213</td>\n",
       "      <td>0.074696</td>\n",
       "      <td>-0.122530</td>\n",
       "    </tr>\n",
       "    <tr>\n",
       "      <th>mainroad</th>\n",
       "      <td>0.293099</td>\n",
       "      <td>0.274393</td>\n",
       "      <td>-0.013757</td>\n",
       "      <td>-0.002368</td>\n",
       "      <td>0.072263</td>\n",
       "      <td>1.000000</td>\n",
       "      <td>0.086929</td>\n",
       "      <td>0.081108</td>\n",
       "      <td>0.006727</td>\n",
       "      <td>0.077244</td>\n",
       "      <td>0.176743</td>\n",
       "      <td>0.203347</td>\n",
       "      <td>0.125649</td>\n",
       "      <td>0.008353</td>\n",
       "      <td>-0.119555</td>\n",
       "    </tr>\n",
       "    <tr>\n",
       "      <th>guestroom</th>\n",
       "      <td>0.336205</td>\n",
       "      <td>0.240780</td>\n",
       "      <td>0.054601</td>\n",
       "      <td>0.151862</td>\n",
       "      <td>-0.028502</td>\n",
       "      <td>0.086929</td>\n",
       "      <td>1.000000</td>\n",
       "      <td>0.416897</td>\n",
       "      <td>-0.011649</td>\n",
       "      <td>0.122186</td>\n",
       "      <td>0.069061</td>\n",
       "      <td>0.215354</td>\n",
       "      <td>0.087852</td>\n",
       "      <td>0.007544</td>\n",
       "      <td>-0.085354</td>\n",
       "    </tr>\n",
       "    <tr>\n",
       "      <th>basement</th>\n",
       "      <td>0.289990</td>\n",
       "      <td>0.090977</td>\n",
       "      <td>0.137671</td>\n",
       "      <td>0.183197</td>\n",
       "      <td>-0.082977</td>\n",
       "      <td>0.081108</td>\n",
       "      <td>0.416897</td>\n",
       "      <td>1.000000</td>\n",
       "      <td>-0.050492</td>\n",
       "      <td>0.080171</td>\n",
       "      <td>0.067966</td>\n",
       "      <td>0.245645</td>\n",
       "      <td>0.068497</td>\n",
       "      <td>0.047186</td>\n",
       "      <td>-0.109307</td>\n",
       "    </tr>\n",
       "    <tr>\n",
       "      <th>hotwaterheating</th>\n",
       "      <td>0.088361</td>\n",
       "      <td>-0.011559</td>\n",
       "      <td>0.014400</td>\n",
       "      <td>0.040856</td>\n",
       "      <td>0.077512</td>\n",
       "      <td>0.006727</td>\n",
       "      <td>-0.011649</td>\n",
       "      <td>-0.050492</td>\n",
       "      <td>1.000000</td>\n",
       "      <td>-0.106592</td>\n",
       "      <td>0.077911</td>\n",
       "      <td>-0.035911</td>\n",
       "      <td>-0.015382</td>\n",
       "      <td>0.100102</td>\n",
       "      <td>-0.090049</td>\n",
       "    </tr>\n",
       "    <tr>\n",
       "      <th>airconditioning</th>\n",
       "      <td>0.417678</td>\n",
       "      <td>0.261199</td>\n",
       "      <td>0.171655</td>\n",
       "      <td>0.131378</td>\n",
       "      <td>0.149956</td>\n",
       "      <td>0.077244</td>\n",
       "      <td>0.122186</td>\n",
       "      <td>0.080171</td>\n",
       "      <td>-0.106592</td>\n",
       "      <td>1.000000</td>\n",
       "      <td>0.118689</td>\n",
       "      <td>0.111812</td>\n",
       "      <td>0.129415</td>\n",
       "      <td>-0.023052</td>\n",
       "      <td>-0.090368</td>\n",
       "    </tr>\n",
       "    <tr>\n",
       "      <th>parking</th>\n",
       "      <td>0.322134</td>\n",
       "      <td>0.267046</td>\n",
       "      <td>0.101268</td>\n",
       "      <td>0.111745</td>\n",
       "      <td>-0.059267</td>\n",
       "      <td>0.176743</td>\n",
       "      <td>0.069061</td>\n",
       "      <td>0.067966</td>\n",
       "      <td>0.077911</td>\n",
       "      <td>0.118689</td>\n",
       "      <td>1.000000</td>\n",
       "      <td>0.086657</td>\n",
       "      <td>0.099783</td>\n",
       "      <td>0.049691</td>\n",
       "      <td>-0.139517</td>\n",
       "    </tr>\n",
       "    <tr>\n",
       "      <th>prefarea</th>\n",
       "      <td>0.344330</td>\n",
       "      <td>0.215318</td>\n",
       "      <td>0.140866</td>\n",
       "      <td>0.067589</td>\n",
       "      <td>0.070181</td>\n",
       "      <td>0.203347</td>\n",
       "      <td>0.215354</td>\n",
       "      <td>0.245645</td>\n",
       "      <td>-0.035911</td>\n",
       "      <td>0.111812</td>\n",
       "      <td>0.086657</td>\n",
       "      <td>1.000000</td>\n",
       "      <td>0.079069</td>\n",
       "      <td>0.004172</td>\n",
       "      <td>-0.074111</td>\n",
       "    </tr>\n",
       "    <tr>\n",
       "      <th>furnished</th>\n",
       "      <td>0.177605</td>\n",
       "      <td>0.115742</td>\n",
       "      <td>0.031767</td>\n",
       "      <td>0.065407</td>\n",
       "      <td>0.051213</td>\n",
       "      <td>0.125649</td>\n",
       "      <td>0.087852</td>\n",
       "      <td>0.068497</td>\n",
       "      <td>-0.015382</td>\n",
       "      <td>0.129415</td>\n",
       "      <td>0.099783</td>\n",
       "      <td>0.079069</td>\n",
       "      <td>1.000000</td>\n",
       "      <td>-0.465536</td>\n",
       "      <td>-0.400758</td>\n",
       "    </tr>\n",
       "    <tr>\n",
       "      <th>semi-furnished</th>\n",
       "      <td>0.150439</td>\n",
       "      <td>0.009026</td>\n",
       "      <td>0.104924</td>\n",
       "      <td>0.059392</td>\n",
       "      <td>0.074696</td>\n",
       "      <td>0.008353</td>\n",
       "      <td>0.007544</td>\n",
       "      <td>0.047186</td>\n",
       "      <td>0.100102</td>\n",
       "      <td>-0.023052</td>\n",
       "      <td>0.049691</td>\n",
       "      <td>0.004172</td>\n",
       "      <td>-0.465536</td>\n",
       "      <td>1.000000</td>\n",
       "      <td>-0.624282</td>\n",
       "    </tr>\n",
       "    <tr>\n",
       "      <th>unfurnished</th>\n",
       "      <td>-0.312503</td>\n",
       "      <td>-0.111507</td>\n",
       "      <td>-0.136658</td>\n",
       "      <td>-0.119216</td>\n",
       "      <td>-0.122530</td>\n",
       "      <td>-0.119555</td>\n",
       "      <td>-0.085354</td>\n",
       "      <td>-0.109307</td>\n",
       "      <td>-0.090049</td>\n",
       "      <td>-0.090368</td>\n",
       "      <td>-0.139517</td>\n",
       "      <td>-0.074111</td>\n",
       "      <td>-0.400758</td>\n",
       "      <td>-0.624282</td>\n",
       "      <td>1.000000</td>\n",
       "    </tr>\n",
       "  </tbody>\n",
       "</table>\n",
       "</div>"
      ],
      "text/plain": [
       "                    price      area  bedrooms  bathrooms   stories  mainroad  \\\n",
       "price            1.000000  0.526616  0.341450   0.411164  0.245368  0.293099   \n",
       "area             0.526616  1.000000  0.111081   0.105444 -0.067233  0.274393   \n",
       "bedrooms         0.341450  0.111081  1.000000   0.324756  0.466107 -0.013757   \n",
       "bathrooms        0.411164  0.105444  0.324756   1.000000  0.191962 -0.002368   \n",
       "stories          0.245368 -0.067233  0.466107   0.191962  1.000000  0.072263   \n",
       "mainroad         0.293099  0.274393 -0.013757  -0.002368  0.072263  1.000000   \n",
       "guestroom        0.336205  0.240780  0.054601   0.151862 -0.028502  0.086929   \n",
       "basement         0.289990  0.090977  0.137671   0.183197 -0.082977  0.081108   \n",
       "hotwaterheating  0.088361 -0.011559  0.014400   0.040856  0.077512  0.006727   \n",
       "airconditioning  0.417678  0.261199  0.171655   0.131378  0.149956  0.077244   \n",
       "parking          0.322134  0.267046  0.101268   0.111745 -0.059267  0.176743   \n",
       "prefarea         0.344330  0.215318  0.140866   0.067589  0.070181  0.203347   \n",
       "furnished        0.177605  0.115742  0.031767   0.065407  0.051213  0.125649   \n",
       "semi-furnished   0.150439  0.009026  0.104924   0.059392  0.074696  0.008353   \n",
       "unfurnished     -0.312503 -0.111507 -0.136658  -0.119216 -0.122530 -0.119555   \n",
       "\n",
       "                 guestroom  basement  hotwaterheating  airconditioning  \\\n",
       "price             0.336205  0.289990         0.088361         0.417678   \n",
       "area              0.240780  0.090977        -0.011559         0.261199   \n",
       "bedrooms          0.054601  0.137671         0.014400         0.171655   \n",
       "bathrooms         0.151862  0.183197         0.040856         0.131378   \n",
       "stories          -0.028502 -0.082977         0.077512         0.149956   \n",
       "mainroad          0.086929  0.081108         0.006727         0.077244   \n",
       "guestroom         1.000000  0.416897        -0.011649         0.122186   \n",
       "basement          0.416897  1.000000        -0.050492         0.080171   \n",
       "hotwaterheating  -0.011649 -0.050492         1.000000        -0.106592   \n",
       "airconditioning   0.122186  0.080171        -0.106592         1.000000   \n",
       "parking           0.069061  0.067966         0.077911         0.118689   \n",
       "prefarea          0.215354  0.245645        -0.035911         0.111812   \n",
       "furnished         0.087852  0.068497        -0.015382         0.129415   \n",
       "semi-furnished    0.007544  0.047186         0.100102        -0.023052   \n",
       "unfurnished      -0.085354 -0.109307        -0.090049        -0.090368   \n",
       "\n",
       "                  parking  prefarea  furnished  semi-furnished  unfurnished  \n",
       "price            0.322134  0.344330   0.177605        0.150439    -0.312503  \n",
       "area             0.267046  0.215318   0.115742        0.009026    -0.111507  \n",
       "bedrooms         0.101268  0.140866   0.031767        0.104924    -0.136658  \n",
       "bathrooms        0.111745  0.067589   0.065407        0.059392    -0.119216  \n",
       "stories         -0.059267  0.070181   0.051213        0.074696    -0.122530  \n",
       "mainroad         0.176743  0.203347   0.125649        0.008353    -0.119555  \n",
       "guestroom        0.069061  0.215354   0.087852        0.007544    -0.085354  \n",
       "basement         0.067966  0.245645   0.068497        0.047186    -0.109307  \n",
       "hotwaterheating  0.077911 -0.035911  -0.015382        0.100102    -0.090049  \n",
       "airconditioning  0.118689  0.111812   0.129415       -0.023052    -0.090368  \n",
       "parking          1.000000  0.086657   0.099783        0.049691    -0.139517  \n",
       "prefarea         0.086657  1.000000   0.079069        0.004172    -0.074111  \n",
       "furnished        0.099783  0.079069   1.000000       -0.465536    -0.400758  \n",
       "semi-furnished   0.049691  0.004172  -0.465536        1.000000    -0.624282  \n",
       "unfurnished     -0.139517 -0.074111  -0.400758       -0.624282     1.000000  "
      ]
     },
     "execution_count": 91,
     "metadata": {},
     "output_type": "execute_result"
    }
   ],
   "source": [
    "...\n",
    "df_data.corr()\n",
    "# we can see from the correlation matrix that price is least correlated with hotwaterheating so it should be removed from the\n",
    "# dataframe."
   ]
  },
  {
   "cell_type": "markdown",
   "id": "a1470bb8",
   "metadata": {},
   "source": [
    "<!-- END QUESTION -->\n",
    "\n",
    "<!-- BEGIN QUESTION -->\n",
    "\n",
    "**Question 5:** Provide a rationale, keeping the box plots and the correlation diagram in mind, in the markdown cell below for why or why not you choose to drop any feature.\n",
    "\n",
    "*Answering Guidelines:* There is no right or wrong answer to this question - the purpose is to, both, make you look closely at your data and check how strongly you can form a rationale in choosing features. Feel free to come back to this question after having made models - the process of choosing features is usually iterative. A placeholder for your answer has been made.\n",
    "\n",
    "<!--\n",
    "BEGIN QUESTION\n",
    "name: q5\n",
    "points: 1\n",
    "manual: true\n",
    "-->"
   ]
  },
  {
   "cell_type": "code",
   "execution_count": 92,
   "id": "a97bacf4",
   "metadata": {},
   "outputs": [
    {
     "data": {
      "text/plain": [
       "Ellipsis"
      ]
     },
     "execution_count": 92,
     "metadata": {},
     "output_type": "execute_result"
    }
   ],
   "source": [
    "...\n",
    "# from the correlation matrix we can see that price and hotwaterheating are least correlated so it should be dropped from the\n",
    "# dataframe. all other features are correlated with the output."
   ]
  },
  {
   "cell_type": "markdown",
   "id": "7503ecec",
   "metadata": {},
   "source": [
    "**Question 6:** It is time for you to split the dataset into features and a response variable. \n",
    "\n",
    "*Answering Guidelines:* ```X``` should store all your feature columns and ```y``` should have the response variable. \n",
    "\n",
    "<!--\n",
    "BEGIN QUESTION\n",
    "name: q6\n",
    "points: 2\n",
    "-->"
   ]
  },
  {
   "cell_type": "code",
   "execution_count": 93,
   "id": "458486a5",
   "metadata": {},
   "outputs": [],
   "source": [
    "X = df_q3.iloc[:,1:]\n",
    "y = df_q3.iloc[:,0]\n",
    "\n",
    "#The dataframes need to be converted into numpy for our implementation\n",
    "X = X.to_numpy()\n",
    "y = y.to_numpy()"
   ]
  },
  {
   "cell_type": "markdown",
   "id": "6281cf61",
   "metadata": {},
   "source": [
    "**Question 7:** Before any model can be trained, it is important for your data to be split into different sets and be standardized.\n",
    "\n",
    "You will run into many problems such as exploding weights, division by zero etc. Use ```StandardScaler``` (it has already been imported for you) from sklearn to help you in this. Read up on how and why it is used.\n",
    "\n",
    "You will be implementing the most basic split: the 'Train-Test' split (here is a comprehensive article explaining the need of such splits: https://developers.google.com/machine-learning/crash-course/training-and-test-sets/splitting-data). Refer to lecture 22 for more details.\n",
    "\n",
    "*Answering guidelines:* Use the train_test_split function imported from sklearn above. Read up on how it is used and use it to make a 70-30 train-test split. Use standardized ```X``` and ```y``` as your data to be input. Do not change the variables already coined for you below.\n",
    "\n",
    "<!--\n",
    "BEGIN QUESTION\n",
    "name: q7\n",
    "points: 2\n",
    "-->"
   ]
  },
  {
   "cell_type": "code",
   "execution_count": 94,
   "id": "a11698f1",
   "metadata": {},
   "outputs": [],
   "source": [
    "scal = StandardScaler()\n",
    "ft = scal.fit(X)\n",
    "X = ft.transform(X)\n",
    "X_train, X_test, y_train, y_test = train_test_split(X, y, test_size=0.3, random_state=42)"
   ]
  },
  {
   "cell_type": "code",
   "execution_count": 95,
   "id": "071b76bc",
   "metadata": {},
   "outputs": [
    {
     "data": {
      "text/html": [
       "<p><strong><pre style='display: inline;'>q7</pre></strong> passed!</p>"
      ],
      "text/plain": [
       "q7 results: All test cases passed!"
      ]
     },
     "execution_count": 95,
     "metadata": {},
     "output_type": "execute_result"
    }
   ],
   "source": [
    "grader.check(\"q7\")"
   ]
  },
  {
   "cell_type": "markdown",
   "id": "bf8b3b8a",
   "metadata": {},
   "source": [
    "Now that you have split the data, it is time you build the model so that the model can be trained on that data."
   ]
  },
  {
   "cell_type": "markdown",
   "id": "845781da",
   "metadata": {},
   "source": [
    "In this part, you will be implementing the model yourself (with the guide of placeholders). While this approach is seldom used, it is important to understand the basics of the mechanics behind these models for you to understand why a model might not be working as well as you would want it to.\n",
    "\n",
    "**Note: Your solution has to be efficient**. Using simple for loops to iterate over all data-points will not earn you full marks, you should try to use vectorized versions of the equations. You have covered these in class as well. Make sure you deal with exploding weights or division by zeros. This can be done by changing the learning rates and using the right algorithms when calculating the derivatives. If you get an \"overflow\" error, try to **reduce the learning rate and double check your loss derivative** (though derivatives will be given to you in the form of placeholders but this is something that you should be aware of)."
   ]
  },
  {
   "cell_type": "markdown",
   "id": "5efa52dc",
   "metadata": {},
   "source": [
    "**Question 8:** Complete the function below to calculate predicted obseration(s), given certain parameters of the model (theta) and X.\n",
    "\n",
    "<!--\n",
    "BEGIN QUESTION\n",
    "name: q8\n",
    "points: 1\n",
    "-->"
   ]
  },
  {
   "cell_type": "code",
   "execution_count": 96,
   "id": "f0a83117",
   "metadata": {},
   "outputs": [],
   "source": [
    "def predict(theta, X):\n",
    "    dotpr = np.dot(X, theta)\n",
    "    return dotpr"
   ]
  },
  {
   "cell_type": "code",
   "execution_count": 97,
   "id": "3562bcbb",
   "metadata": {},
   "outputs": [
    {
     "data": {
      "text/html": [
       "<p><strong><pre style='display: inline;'>q8</pre></strong> passed!</p>"
      ],
      "text/plain": [
       "q8 results: All test cases passed!"
      ]
     },
     "execution_count": 97,
     "metadata": {},
     "output_type": "execute_result"
    }
   ],
   "source": [
    "grader.check(\"q8\")"
   ]
  },
  {
   "cell_type": "markdown",
   "id": "9ff08b73",
   "metadata": {},
   "source": [
    "**Question 9:** Complete the functions below to be able to compute the squared loss and absolute loss. \n",
    "\n",
    "*Answering Guidelines:* Make sure to return the correct value. Feel free to introduce as many variables as you want.\n",
    "\n",
    "<!--\n",
    "BEGIN QUESTION\n",
    "name: q9\n",
    "points: 2\n",
    "-->"
   ]
  },
  {
   "cell_type": "code",
   "execution_count": 98,
   "id": "8f0357c5",
   "metadata": {},
   "outputs": [],
   "source": [
    "def squared_loss(y, yhat):\n",
    "    sq_loss = (yhat-y)**2\n",
    "    return sq_loss\n",
    "\n",
    "def abs_loss(y, yhat):\n",
    "    ab_loss = abs(yhat-y)\n",
    "    return ab_loss"
   ]
  },
  {
   "cell_type": "code",
   "execution_count": 99,
   "id": "3b2d0fc7",
   "metadata": {},
   "outputs": [
    {
     "data": {
      "text/html": [
       "<p><strong><pre style='display: inline;'>q9</pre></strong> passed!</p>"
      ],
      "text/plain": [
       "q9 results: All test cases passed!"
      ]
     },
     "execution_count": 99,
     "metadata": {},
     "output_type": "execute_result"
    }
   ],
   "source": [
    "grader.check(\"q9\")"
   ]
  },
  {
   "cell_type": "markdown",
   "id": "bb0e1e9c",
   "metadata": {},
   "source": [
    "**Question 10:** Complete the function below to compute mean squared loss and the absolute squared loss. \n",
    "\n",
    "*Answering Guidelines:* The following are the parameters being sent in:\n",
    "* X: the features of the data\n",
    "* theta: model parameters\n",
    "* y: the observed response variable\n",
    "* loss_func: defines what function needs to be computed - 'L2' or 'L1'. This parameter has been kept for future purposes. \n",
    "\n",
    " In the case where wrong input has been entered for ```loss_func```, make the function return 0.\n",
    "\n",
    "<!--\n",
    "BEGIN QUESTION\n",
    "name: q10\n",
    "points: 2\n",
    "-->"
   ]
  },
  {
   "cell_type": "code",
   "execution_count": 100,
   "id": "e0787b03",
   "metadata": {},
   "outputs": [],
   "source": [
    "def compute_cost(X, theta, y, loss_func):\n",
    "    yhat = predict(theta, X)\n",
    "    cost = 0\n",
    "    '''\n",
    "    your code here\n",
    "    '''\n",
    "    los = 0\n",
    "    if loss_func=='L1':\n",
    "        los = abs_loss(y, yhat)\n",
    "    elif loss_func=='L2':\n",
    "        los = squared_loss(y, yhat)\n",
    "    cost = los\n",
    "    return cost\n",
    "\n",
    "#For testing purposes\n",
    "theta_12 = np.array([1, 2, 3])\n",
    "X_12 = np.array([[4, 5, 6]])\n",
    "y_12 = np.array([10])\n",
    "cost_12 = compute_cost(X_12, theta_12, y_12, \"L3\")\n",
    "cost_12s = compute_cost(X_12, theta_12, y_12, \"L2\")\n",
    "cost_12a = compute_cost(X_12, theta_12, y_12, \"L1\")"
   ]
  },
  {
   "cell_type": "code",
   "execution_count": 101,
   "id": "52101d25",
   "metadata": {},
   "outputs": [
    {
     "data": {
      "text/html": [
       "<p><strong><pre style='display: inline;'>q10</pre></strong> passed!</p>"
      ],
      "text/plain": [
       "q10 results: All test cases passed!"
      ]
     },
     "execution_count": 101,
     "metadata": {},
     "output_type": "execute_result"
    }
   ],
   "source": [
    "grader.check(\"q10\")"
   ]
  },
  {
   "cell_type": "markdown",
   "id": "5a3a91f6",
   "metadata": {},
   "source": [
    "<!-- BEGIN QUESTION -->\n",
    "\n",
    "**Question 11:** How would you reason the use of MSE vs. MAE? \n",
    "\n",
    "*Answering Guidelines:* Briefly discuss the strenghts and weaknesses of the two.\n",
    "\n",
    "<!--\n",
    "BEGIN QUESTION\n",
    "name: q11\n",
    "points: 2\n",
    "manual: true\n",
    "-->"
   ]
  },
  {
   "cell_type": "code",
   "execution_count": 102,
   "id": "b6445fc1",
   "metadata": {},
   "outputs": [],
   "source": [
    "# strengths of MAE\n",
    "# it ensures a much more robust estimation, insensitive to outliers and errors in the data\n",
    "\n",
    "# weakness of MAE\n",
    "# it is not differentiable.\n",
    "# gradient is dependent on the sign rather than the size of error.\n",
    "\n",
    "# strengths of MSE\n",
    "# good for ensuring that our model has no outlier prediction with huge errors as it squares the errors.\n",
    "# it is differentiable\n",
    "\n",
    "# weakness of MSE\n",
    "# due to squaring outliers have high weight"
   ]
  },
  {
   "cell_type": "markdown",
   "id": "5d43e1bc",
   "metadata": {},
   "source": [
    "<!-- END QUESTION -->\n",
    "\n",
    "**Question 12:** In class, you have extensively studied the maths behind minimizing the loss functions to get to the optimal parameters of the model, specifically **lecture**. Gradient Descent is an algorithm that does precisely that - optimizes parameters in order to get to the local minimum of the cost function by continuously tweaking the parameters of the model (guided through learning rate).\n",
    "\n",
    "\n",
    "\n",
    "*Answering Guidelines:* The following are the parameters being sent in:\n",
    "* X: the features of the data\n",
    "* theta: model parameters\n",
    "* y: the observed response variable\n",
    "* loss_func: defines what function needs to be computed - 'L2' or 'L1'. This parameter has been kept for future purposes. \n",
    "* alpha: learning rate\n",
    "* iter_num: number of iterations that your model will run for\n",
    "* steps: after how many steps you would want to save the cost (to plot the learning curve). You need not worry about this since this is just for visualization purposes. If you are unsure, simply leave it as 1.\n",
    "\n",
    "\n",
    "<!--\n",
    "BEGIN QUESTION\n",
    "name: q12\n",
    "points: 3\n",
    "-->"
   ]
  },
  {
   "cell_type": "code",
   "execution_count": 103,
   "id": "4240f853",
   "metadata": {},
   "outputs": [
    {
     "data": {
      "text/plain": [
       "[4.945]"
      ]
     },
     "execution_count": 103,
     "metadata": {},
     "output_type": "execute_result"
    }
   ],
   "source": [
    "def gradient_descent(X, y, theta, alpha, iter_num, loss_func, steps):\n",
    "    history = [] #cost history\n",
    "    m = len(X) #number of samples of the data \n",
    "    \n",
    "    for iteration in range(iter_num):\n",
    "        if loss_func=='L1':\n",
    "            y1 = np.dot(X, theta)\n",
    "            theta = theta - ((alpha/m)*(X.transpose().dot((y1-y))))\n",
    "            j = compute_cost(X, theta, y, loss_func).mean()\n",
    "            history.append(j)\n",
    "        elif loss_func=='L2':\n",
    "            y1 = predict(theta, X)\n",
    "            theta = theta - ((alpha/m)*(X.transpose().dot((y1-y))))\n",
    "            j = compute_cost(X, theta, y, loss_func).mean()\n",
    "            history.append(j)\n",
    "    return history, theta\n",
    "\n",
    "#For testing purposes\n",
    "theta_14 = np.array([1, 2, 3])\n",
    "X_14 = np.array([[4, 5, 6], [4, 5, 6]])\n",
    "y_14 = np.array([10, 11])\n",
    "history, theta_opt = gradient_descent(X_14, y_14, theta_14, 0.01, 1, \"L1\", 1)\n",
    "history"
   ]
  },
  {
   "cell_type": "code",
   "execution_count": 104,
   "id": "e32f590c",
   "metadata": {},
   "outputs": [
    {
     "data": {
      "text/html": [
       "<p><strong style='color: red;'><pre style='display: inline;'>q12</pre> results:</strong></p><p><strong><pre style='display: inline;'>q12 - 1</pre> result:</strong></p><pre>    Trying:\n",
       "        assert np.ceil(history) == 22\n",
       "    Expecting nothing\n",
       "    **********************************************************************\n",
       "    Line 1, in q12 0\n",
       "    Failed example:\n",
       "        assert np.ceil(history) == 22\n",
       "    Exception raised:\n",
       "        Traceback (most recent call last):\n",
       "          File \"D:\\Anaconda\\lib\\doctest.py\", line 1336, in __run\n",
       "            exec(compile(example.source, filename, \"single\",\n",
       "          File \"<doctest q12 0[0]>\", line 1, in <module>\n",
       "            assert np.ceil(history) == 22\n",
       "        AssertionError\n",
       "</pre>"
      ],
      "text/plain": [
       "q12 results:\n",
       "    q12 - 1 result:\n",
       "        Trying:\n",
       "            assert np.ceil(history) == 22\n",
       "        Expecting nothing\n",
       "        **********************************************************************\n",
       "        Line 1, in q12 0\n",
       "        Failed example:\n",
       "            assert np.ceil(history) == 22\n",
       "        Exception raised:\n",
       "            Traceback (most recent call last):\n",
       "              File \"D:\\Anaconda\\lib\\doctest.py\", line 1336, in __run\n",
       "                exec(compile(example.source, filename, \"single\",\n",
       "              File \"<doctest q12 0[0]>\", line 1, in <module>\n",
       "                assert np.ceil(history) == 22\n",
       "            AssertionError"
      ]
     },
     "execution_count": 104,
     "metadata": {},
     "output_type": "execute_result"
    }
   ],
   "source": [
    "grader.check(\"q12\")"
   ]
  },
  {
   "cell_type": "markdown",
   "id": "27b65cd6",
   "metadata": {},
   "source": [
    "**Question 13:** Add the bias terms to ```X_train``` and ```X_test```\n",
    "\n",
    "<!--\n",
    "BEGIN QUESTION\n",
    "name: q13\n",
    "points: 2\n",
    "-->"
   ]
  },
  {
   "cell_type": "code",
   "execution_count": 105,
   "id": "2f062664",
   "metadata": {},
   "outputs": [],
   "source": [
    "train_sz = len(X_train)\n",
    "theta0 = np.ones(train_sz)\n",
    "X_train = np.c_[theta0, X_train]\n",
    "test_sz = len(X_test)\n",
    "thet = np.ones(test_sz)\n",
    "X_test = np.c_[thet, X_test]"
   ]
  },
  {
   "cell_type": "code",
   "execution_count": 106,
   "id": "4b47cf5f",
   "metadata": {},
   "outputs": [
    {
     "data": {
      "text/html": [
       "<p><strong><pre style='display: inline;'>q13</pre></strong> passed!</p>"
      ],
      "text/plain": [
       "q13 results: All test cases passed!"
      ]
     },
     "execution_count": 106,
     "metadata": {},
     "output_type": "execute_result"
    }
   ],
   "source": [
    "grader.check(\"q13\")"
   ]
  },
  {
   "cell_type": "markdown",
   "id": "1be253fa",
   "metadata": {},
   "source": [
    "### Running Model"
   ]
  },
  {
   "cell_type": "markdown",
   "id": "3fb490b7",
   "metadata": {},
   "source": [
    "**Question 14:** Now that the methods have been written, we will put it altogether and run a multiple linear regression model on our data. \n",
    "\n",
    "*Answering Guidelines:* The placeholders have been made. Simply call the appropriate functions and methods. Feel free to add more variables but make sure the mentioned variables store the final answers.  \n",
    "\n",
    "<!--\n",
    "BEGIN QUESTION\n",
    "name: q14\n",
    "points: 4\n",
    "-->"
   ]
  },
  {
   "cell_type": "code",
   "execution_count": 107,
   "id": "2f251b13",
   "metadata": {},
   "outputs": [],
   "source": [
    "#Initialize the parametrs to zero\n",
    "theta = np.zeros(len(X_train[1])).tolist()\n",
    "# print((theta))\n",
    "#Initialize parameters\n",
    "iter_num = 2500\n",
    "alpha = 0.01\n",
    "loss_func = \"L1\" \n",
    "steps = 1\n",
    "\n",
    "cost_history, theta = gradient_descent(X_train, y_train, theta, alpha, iter_num, loss_func, steps)"
   ]
  },
  {
   "cell_type": "markdown",
   "id": "1f2469e2",
   "metadata": {},
   "source": [
    "The following code cell plots cost_history against the number of iterations to get an idea of how the cost is progressing and so to get an idea of how your model is performing. "
   ]
  },
  {
   "cell_type": "code",
   "execution_count": 108,
   "id": "0de84e57",
   "metadata": {},
   "outputs": [
    {
     "data": {
      "image/png": "[encoded data removed]",
      "text/plain": [
       "<Figure size 432x288 with 1 Axes>"
      ]
     },
     "metadata": {
      "needs_background": "light"
     },
     "output_type": "display_data"
    }
   ],
   "source": [
    "fig, ax = plt.subplots()\n",
    "ax.plot(np.arange(iter_num), cost_history, 'r')\n",
    "ax.set_xlabel('Iterations')\n",
    "ax.set_ylabel('Cost')\n",
    "ax.set_title('Cost vs Iterations')\n",
    "plt.show()"
   ]
  },
  {
   "cell_type": "markdown",
   "id": "510a8739",
   "metadata": {},
   "source": [
    "## Evaluating the Model"
   ]
  },
  {
   "cell_type": "markdown",
   "id": "2a2d24ce",
   "metadata": {},
   "source": [
    "**Question 15:** Run predictions on y_train and y_test. We will be using these in the next questions.\n",
    "\n",
    "*Answering Guidelines:* Use the formula implemented previously. Record the answer for the last variable as True or False. \n",
    "\n",
    "<!--\n",
    "BEGIN QUESTION\n",
    "name: q15\n",
    "points: 2\n",
    "-->"
   ]
  },
  {
   "cell_type": "code",
   "execution_count": 109,
   "id": "589e2050",
   "metadata": {},
   "outputs": [],
   "source": [
    "yhat_test = predict(theta, X_test)\n",
    "yhat_train = predict(theta, X_train)\n",
    "are_you_having_fun=True"
   ]
  },
  {
   "cell_type": "code",
   "execution_count": 110,
   "id": "966ef260",
   "metadata": {},
   "outputs": [
    {
     "data": {
      "text/html": [
       "<p><strong><pre style='display: inline;'>q15</pre></strong> passed!</p>"
      ],
      "text/plain": [
       "q15 results: All test cases passed!"
      ]
     },
     "execution_count": 110,
     "metadata": {},
     "output_type": "execute_result"
    }
   ],
   "source": [
    "grader.check(\"q15\")"
   ]
  },
  {
   "cell_type": "markdown",
   "id": "a31e4ad2",
   "metadata": {},
   "source": [
    "### Residuals\n",
    "\n",
    "**Question 16:** Calculate residuals for the above predictions.\n",
    "\n",
    "*Answering Guidelines:* To read up on why residuals are needed, the following article is a good read as well: https://blog.minitab.com/blog/adventures-in-statistics-2/why-you-need-to-check-your-residual-plots-for-regression-analysis\n",
    "\n",
    "<!--\n",
    "BEGIN QUESTION\n",
    "name: q16\n",
    "points: 2\n",
    "-->"
   ]
  },
  {
   "cell_type": "code",
   "execution_count": 111,
   "id": "663724f8",
   "metadata": {},
   "outputs": [],
   "source": [
    "train_residuals = y_train - yhat_train\n",
    "test_residuals = y_test - yhat_test"
   ]
  },
  {
   "cell_type": "markdown",
   "id": "1fa0ad0a",
   "metadata": {},
   "source": [
    "<!-- BEGIN QUESTION -->\n",
    "\n",
    "**Question 17:** Plot the residual plots for, both, the train and test data.\n",
    "\n",
    "*Answering Guidelines*: Follow the instructions given in the 'Grading' section with regards to plots.\n",
    "\n",
    "<!--\n",
    "BEGIN QUESTION\n",
    "name: q17\n",
    "points: 2\n",
    "manual: true\n",
    "-->"
   ]
  },
  {
   "cell_type": "code",
   "execution_count": 112,
   "id": "d5f2ba38",
   "metadata": {},
   "outputs": [
    {
     "data": {
      "image/png": "[encoded data removed]",
      "text/plain": [
       "<Figure size 432x288 with 1 Axes>"
      ]
     },
     "metadata": {
      "needs_background": "light"
     },
     "output_type": "display_data"
    },
    {
     "data": {
      "image/png": "[encoded data removed]",
      "text/plain": [
       "<Figure size 432x288 with 1 Axes>"
      ]
     },
     "metadata": {
      "needs_background": "light"
     },
     "output_type": "display_data"
    }
   ],
   "source": [
    "## solution ##\n",
    "fig, ax = plt.subplots()\n",
    "\n",
    "train_sz = len(train_residuals)\n",
    "test_sz = len(test_residuals)\n",
    "x = np.arange(train_sz)\n",
    "plt.scatter(x, train_residuals)\n",
    "ax.set_xlabel('vals')\n",
    "ax.set_ylabel('residual')\n",
    "plt.hlines(y=0, xmin=0, xmax=train_sz, linewidth=3, color='g')\n",
    "ax.set_title('Train data')\n",
    "plt.show()\n",
    "\n",
    "fig, ax = plt.subplots()\n",
    "tst_x = np.arange(test_sz)\n",
    "plt.scatter(tst_x, test_residuals)\n",
    "ax.set_xlabel('vals')\n",
    "ax.set_ylabel('residual')\n",
    "plt.hlines(y=0, xmin=0, xmax=test_sz, linewidth=3, color='g')\n",
    "ax.set_title('Test data')\n",
    "plt.show()"
   ]
  },
  {
   "cell_type": "markdown",
   "id": "bb6601d6",
   "metadata": {},
   "source": [
    "<!-- END QUESTION -->\n",
    "\n",
    "<!-- BEGIN QUESTION -->\n",
    "\n",
    "**Question 18:** Make use of histograms to see the distribution of the residuals. \n",
    "\n",
    "*Answering Guidelines*: Follow the instructions given in the 'Grading' section with regards to plots.\n",
    "\n",
    "<!--\n",
    "BEGIN QUESTION\n",
    "name: q18\n",
    "points: 2\n",
    "manual: true\n",
    "-->"
   ]
  },
  {
   "cell_type": "code",
   "execution_count": 113,
   "id": "146d68b3",
   "metadata": {},
   "outputs": [
    {
     "data": {
      "image/png": "[encoded data removed]",
      "text/plain": [
       "<Figure size 432x288 with 1 Axes>"
      ]
     },
     "metadata": {
      "needs_background": "light"
     },
     "output_type": "display_data"
    },
    {
     "data": {
      "image/png": "[encoded data removed]",
      "text/plain": [
       "<Figure size 432x288 with 1 Axes>"
      ]
     },
     "metadata": {
      "needs_background": "light"
     },
     "output_type": "display_data"
    }
   ],
   "source": [
    "## solution ##\n",
    "fig, ax = plt.subplots()\n",
    "plt.hist(train_residuals, density=True)\n",
    "ax.set_xlabel('vals')\n",
    "ax.set_ylabel('residual')\n",
    "ax.set_title('Train data')\n",
    "plt.show()\n",
    "\n",
    "fig, ax = plt.subplots()\n",
    "plt.hist(test_residuals, density=True)\n",
    "ax.set_xlabel('vals')\n",
    "ax.set_ylabel('residual')\n",
    "ax.set_title('Test data')\n",
    "plt.show()"
   ]
  },
  {
   "cell_type": "markdown",
   "id": "768ec149",
   "metadata": {},
   "source": [
    "<!-- END QUESTION -->\n",
    "\n",
    "<!-- BEGIN QUESTION -->\n",
    "\n",
    "**Question 19:** What are the above residual plots telling you? What conclusion about your predicted results can you make from these?\n",
    "\n",
    "<!--\n",
    "BEGIN QUESTION\n",
    "name: q19\n",
    "points: 2\n",
    "manual: true\n",
    "-->"
   ]
  },
  {
   "cell_type": "code",
   "execution_count": 114,
   "id": "7d8fa5c8",
   "metadata": {},
   "outputs": [],
   "source": [
    "# the predicted accuracy is reliable\n",
    "# the above plots have no pattern, our model is well representing the relationship in our data."
   ]
  },
  {
   "cell_type": "markdown",
   "id": "cb697861",
   "metadata": {},
   "source": [
    "<!-- END QUESTION -->\n",
    "\n",
    "\n",
    "\n",
    "### Multiple R^2"
   ]
  },
  {
   "cell_type": "markdown",
   "id": "6f61409f",
   "metadata": {},
   "source": [
    "**Question 20:** Compute R^2 as taught in class.\n",
    "\n",
    "<!--\n",
    "BEGIN QUESTION\n",
    "name: q20\n",
    "points: 2\n",
    "-->"
   ]
  },
  {
   "cell_type": "code",
   "execution_count": 115,
   "id": "0f7203d2",
   "metadata": {},
   "outputs": [
    {
     "data": {
      "text/plain": [
       "0.6111492234755619"
      ]
     },
     "execution_count": 115,
     "metadata": {},
     "output_type": "execute_result"
    }
   ],
   "source": [
    "def r2(yhat, y):\n",
    "    sub = (y - yhat)\n",
    "    SSres = np.sum((sub)**2)\n",
    "    SStot = np.sum((y - np.mean(y))**2)\n",
    "    r2_sc = 1 - (SSres/SStot)\n",
    "    return r2_sc\n",
    "    \n",
    "r2_val = r2(yhat_test, y_test)\n",
    "r2_val"
   ]
  },
  {
   "cell_type": "code",
   "execution_count": 116,
   "id": "f84d068b",
   "metadata": {},
   "outputs": [
    {
     "data": {
      "text/html": [
       "<p><strong><pre style='display: inline;'>q20</pre></strong> passed!</p>"
      ],
      "text/plain": [
       "q20 results: All test cases passed!"
      ]
     },
     "execution_count": 116,
     "metadata": {},
     "output_type": "execute_result"
    }
   ],
   "source": [
    "grader.check(\"q20\")"
   ]
  },
  {
   "cell_type": "markdown",
   "id": "1e2b58a7",
   "metadata": {},
   "source": [
    "<!-- BEGIN QUESTION -->\n",
    "\n",
    "**Question 21:** What does the value tell you? Can you assess whether the model is a good-fit from this value? Why or why not? \n",
    "\n",
    "<!--\n",
    "BEGIN QUESTION\n",
    "name: q21\n",
    "points: 1\n",
    "manual: true\n",
    "-->"
   ]
  },
  {
   "cell_type": "markdown",
   "id": "4c91f8da",
   "metadata": {},
   "source": [
    "_Type your answer here, replacing this text._"
   ]
  },
  {
   "cell_type": "markdown",
   "id": "a7eef016",
   "metadata": {},
   "source": [
    "<!-- END QUESTION -->\n",
    "\n",
    "\n",
    "\n",
    "### Root Mean Squared Loss"
   ]
  },
  {
   "cell_type": "markdown",
   "id": "150cdf07",
   "metadata": {},
   "source": [
    "**QUESTION 22:** Compute the two functions below as taught in class.\n",
    "\n",
    "<!--\n",
    "BEGIN QUESTION\n",
    "name: q22\n",
    "points: 2\n",
    "-->"
   ]
  },
  {
   "cell_type": "code",
   "execution_count": 117,
   "id": "571cd1b4",
   "metadata": {},
   "outputs": [
    {
     "name": "stdout",
     "output_type": "stream",
     "text": [
      "1052647.2859436732\n",
      "831336.9549548434\n"
     ]
    }
   ],
   "source": [
    "def rmse(y, yhat):\n",
    "    rms = (np.square(np.subtract(y,yhat)).mean())**0.5\n",
    "    return rms\n",
    "\n",
    "rmse_test = rmse(y_test, yhat_test)\n",
    "rmse_train = rmse(y_train, yhat_train)\n",
    "\n",
    "print(rmse_test)\n",
    "print(rmse_train)"
   ]
  },
  {
   "cell_type": "code",
   "execution_count": 118,
   "id": "63a5d65d",
   "metadata": {},
   "outputs": [
    {
     "data": {
      "text/html": [
       "<p><strong><pre style='display: inline;'>q22</pre></strong> passed!</p>"
      ],
      "text/plain": [
       "q22 results: All test cases passed!"
      ]
     },
     "execution_count": 118,
     "metadata": {},
     "output_type": "execute_result"
    }
   ],
   "source": [
    "grader.check(\"q22\")"
   ]
  },
  {
   "cell_type": "markdown",
   "id": "b9cf7d80",
   "metadata": {},
   "source": [
    "<!-- BEGIN QUESTION -->\n",
    "\n",
    "**QUESTION 23:** What are the above values telling you? Can you assess whether the model is a good-fit from this value? Why or why not?\n",
    "\n",
    "<!--\n",
    "BEGIN QUESTION\n",
    "name: q23\n",
    "points: 2\n",
    "manual: true\n",
    "-->"
   ]
  },
  {
   "cell_type": "markdown",
   "id": "b4fc41cd",
   "metadata": {},
   "source": [
    "train and test RMSE values are close enough so i think the model is a fair fit."
   ]
  },
  {
   "cell_type": "markdown",
   "id": "20dcb6fa",
   "metadata": {},
   "source": [
    "<!-- END QUESTION -->\n",
    "\n",
    "\n",
    "\n",
    "### Final Comments"
   ]
  },
  {
   "cell_type": "markdown",
   "id": "6cccc77a",
   "metadata": {},
   "source": [
    "<!-- BEGIN QUESTION -->\n",
    "\n",
    "**Question 24:** Keeping all the analysis in mind, what can you say about the performance of the model? Is it a good fit? How can you make it better?\n",
    "\n",
    "<!--\n",
    "BEGIN QUESTION\n",
    "name: q24\n",
    "points: 2\n",
    "manual: true\n",
    "-->"
   ]
  },
  {
   "cell_type": "markdown",
   "id": "0f0c4e51",
   "metadata": {},
   "source": [
    "the model will perform well on the test data and it is a good fit. By using highly correlated features we can make it better."
   ]
  },
  {
   "cell_type": "markdown",
   "id": "89a3a912",
   "metadata": {},
   "source": [
    "<!-- END QUESTION -->\n",
    "\n",
    "\n",
    "\n",
    "# **Wuhu!**\n",
    "\n",
    "*Pat yourself on the back*\n",
    "\n",
    "You are now in a much better state (hopefully) to decide just how ambitious you can be about your future home!"
   ]
  }
 ],
 "metadata": {
  "kernelspec": {
   "display_name": "Python 3",
   "language": "python",
   "name": "python3"
  },
  "language_info": {
   "codemirror_mode": {
    "name": "ipython",
    "version": 3
   },
   "file_extension": ".py",
   "mimetype": "text/x-python",
   "name": "python",
   "nbconvert_exporter": "python",
   "pygments_lexer": "ipython3",
   "version": "3.8.8"
  }
 },
 "nbformat": 4,
 "nbformat_minor": 5
}
